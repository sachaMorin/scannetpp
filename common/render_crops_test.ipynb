{
 "cells": [
  {
   "cell_type": "code",
   "execution_count": 1,
   "metadata": {},
   "outputs": [],
   "source": [
    "import argparse\n",
    "import os\n",
    "import sys\n",
    "from pathlib import Path\n",
    "import json\n",
    "import matplotlib.pyplot as plt\n",
    "%matplotlib inline\n",
    "\n",
    "import imageio\n",
    "import numpy as np\n",
    "from tqdm import tqdm\n",
    "try:\n",
    "    import renderpy\n",
    "except ImportError:\n",
    "    print(\"renderpy not installed. Please install renderpy from https://github.com/liu115/renderpy\")\n",
    "    sys.exit(1)"
   ]
  },
  {
   "cell_type": "code",
   "execution_count": 2,
   "metadata": {},
   "outputs": [],
   "source": [
    "from utils.colmap import read_model, write_model, Image\n",
    "from scene_release import ScannetppScene_Release\n",
    "from utils.utils import run_command, load_yaml_munch, load_json, read_txt_list"
   ]
  },
  {
   "cell_type": "code",
   "execution_count": 3,
   "metadata": {},
   "outputs": [
    {
     "name": "stdout",
     "output_type": "stream",
     "text": [
      "Config file: /home/kumaraditya/scannetpp/common/configs/render.yml\n"
     ]
    }
   ],
   "source": [
    "p = argparse.ArgumentParser()\n",
    "p.add_argument(\"config_file\", help=\"Path to config file\", default=\"/home/kumaraditya/scannetpp/common/configs/render.yml\", nargs=\"?\")\n",
    "args = p.parse_args([])\n",
    "\n",
    "print(f\"Config file: {args.config_file}\")\n"
   ]
  },
  {
   "cell_type": "code",
   "execution_count": 4,
   "metadata": {},
   "outputs": [],
   "source": [
    "cfg = load_yaml_munch(args.config_file)\n",
    "\n",
    "# get the scenes to process\n",
    "if cfg.get(\"scene_ids\"):\n",
    "    scene_ids = cfg.scene_ids\n",
    "elif cfg.get(\"splits\"):\n",
    "    scene_ids = []\n",
    "    for split in cfg.splits:\n",
    "        split_path = Path(cfg.data_root) / \"splits\" / f\"{split}.txt\"\n",
    "        scene_ids += read_txt_list(split_path)\n",
    "\n",
    "output_dir = cfg.get(\"output_dir\")\n",
    "if output_dir is None:\n",
    "    # default to data folder in data_root\n",
    "    output_dir = Path(cfg.data_root) / \"data\"\n",
    "output_dir = Path(output_dir)\n",
    "\n",
    "render_devices = []\n",
    "if cfg.get(\"render_dslr\", False):\n",
    "    render_devices.append(\"dslr\")\n",
    "    raise Exception(\"This code is has not been tested with the DSLR data.\")\n",
    "if cfg.get(\"render_iphone\", False):\n",
    "    render_devices.append(\"iphone\")"
   ]
  },
  {
   "cell_type": "code",
   "execution_count": 5,
   "metadata": {},
   "outputs": [
    {
     "name": "stdout",
     "output_type": "stream",
     "text": [
      "c0f5742640\n",
      "['iphone']\n"
     ]
    }
   ],
   "source": [
    "scene_id = scene_ids[0]\n",
    "print(scene_id)\n",
    "print(render_devices)"
   ]
  },
  {
   "cell_type": "code",
   "execution_count": 6,
   "metadata": {},
   "outputs": [
    {
     "name": "stdout",
     "output_type": "stream",
     "text": [
      "Init EGL\n",
      "Detected 5 devices\n",
      "Using device 0\n",
      "Using EGL version 1.5\n",
      "OpenGL version: 4.6.0 NVIDIA 550.107.02\n",
      "EGL version: 1.5\n",
      "Loaded mesh:MeshData:\n",
      "\tVertices:  917079\n",
      "\tColors:    917079\n",
      "\tNormals:   0\n",
      "\tTexCoords: 0\n",
      "\n",
      "\n",
      "Copy mesh to GPU: 917079 vertices, 1832073 faces\n",
      "Setup the frame and render buffer\n"
     ]
    },
    {
     "name": "stderr",
     "output_type": "stream",
     "text": [
      "Rendering object crops using iphone images:   0%|          | 0/586 [00:00<?, ?it/s]/tmp/ipykernel_242573/1539412114.py:61: DeprecationWarning: Starting with ImageIO v3 the behavior of this function will switch to that of iio.v3.imread. To keep the current behavior (and make this warning disappear) use `import imageio.v2 as imageio` or call `imageio.v2.imread` directly.\n",
      "  rgb = np.asarray(imageio.imread(iphone_rgb_path))\n",
      "Rendering object crops using iphone images: 100%|██████████| 586/586 [03:52<00:00,  2.53it/s]\n"
     ]
    }
   ],
   "source": [
    "from render_crops_utils import vert_to_obj_lookup, CropHeap, crop_rgb_mask, plot_grid_images\n",
    "\n",
    "scene = ScannetppScene_Release(scene_id, data_root=Path(cfg.data_root) / \"data\")\n",
    "render_engine = renderpy.Render()\n",
    "render_engine.setupMesh(str(scene.scan_mesh_path))\n",
    "\n",
    "# Load annotations\n",
    "segments_anno = json.load(open(scene.scan_anno_json_path, \"r\"))\n",
    "n_objects = len(segments_anno[\"segGroups\"])\n",
    "instance_colors = np.random.randint(low=0, high=256, size=(n_objects + 1, 3), dtype=np.uint8)\n",
    "instance_colors[0] = 255 # White bg\n",
    "vert_to_obj = vert_to_obj_lookup(segments_anno)\n",
    "\n",
    "# Crop heaps\n",
    "crop_heaps = dict()\n",
    "for obj in segments_anno[\"segGroups\"]:\n",
    "    crop_heaps[obj[\"id\"]] = dict()\n",
    "    crop_heaps[obj[\"id\"]][\"label\"] = obj[\"label\"]\n",
    "    crop_heaps[obj[\"id\"]][\"heap\"] = CropHeap(max_size=4)\n",
    "\n",
    "# Background class is 0\n",
    "assert 0 not in crop_heaps\n",
    "crop_heaps[0] = dict()\n",
    "crop_heaps[0][\"label\"] = \"BACKGROUND\"\n",
    "crop_heaps[0][\"heap\"] = CropHeap(max_size=4)\n",
    "\n",
    "\n",
    "for device in render_devices:\n",
    "    if device == \"dslr\":\n",
    "        cameras, images, points3D = read_model(scene.dslr_colmap_dir, \".txt\")\n",
    "    else:\n",
    "        cameras, images, points3D = read_model(scene.iphone_colmap_dir, \".txt\")\n",
    "    assert len(cameras) == 1, \"Multiple cameras not supported\"\n",
    "    camera = next(iter(cameras.values()))\n",
    "\n",
    "    fx, fy, cx, cy = camera.params[:4]\n",
    "    params = camera.params[4:]\n",
    "    camera_model = camera.model\n",
    "    render_engine.setupCamera(\n",
    "        camera.height, camera.width,\n",
    "        fx, fy, cx, cy,\n",
    "        camera_model,\n",
    "        params,      # Distortion parameters np.array([k1, k2, k3, k4]) or np.array([k1, k2, p1, p2])\n",
    "    )\n",
    "\n",
    "    near = cfg.get(\"near\", 0.05)\n",
    "    far = cfg.get(\"far\", 20.0)\n",
    "    rgb_dir = Path(cfg.output_dir) / scene_id / device / \"render_rgb\"\n",
    "    depth_dir = Path(cfg.output_dir) / scene_id / device / \"render_depth\"\n",
    "    # crop_dir = Path(cfg.output_dir) / scene_id / device / \"render_crops_kumar_w_sam\"\n",
    "    rgb_dir.mkdir(parents=True, exist_ok=True)\n",
    "    depth_dir.mkdir(parents=True, exist_ok=True)\n",
    "    # crop_dir.mkdir(parents=True, exist_ok=True)\n",
    "\n",
    "    for _, image in tqdm(images.items(), f\"Rendering object crops using {device} images\"):\n",
    "        world_to_camera = image.world_to_camera\n",
    "\n",
    "        rgb_rendered, _, vert_indices = render_engine.renderAll(world_to_camera, near, far)\n",
    "\n",
    "        iphone_rgb_path = Path(scene.iphone_rgb_dir) / image.name\n",
    "        rgb = np.asarray(imageio.imread(iphone_rgb_path))\n",
    "\n",
    "        vert_instance = vert_to_obj[vert_indices]\n",
    "        pix_instance = vert_instance[:, :, 0] # Some triangles actually belong to different objects. I don't think it will matter for crops.\n",
    "\n",
    "        # Visualize instances\n",
    "        # instance_rgb = instance_colors[pix_instance]\n",
    "        # imageio.imwrite(rgb_dir / image.name, instance_rgb)\n",
    "\n",
    "        objs = np.unique(pix_instance)\n",
    "\n",
    "        for obj in objs:\n",
    "            mask = pix_instance == obj\n",
    "            crop = crop_rgb_mask(rgb, rgb_rendered, mask, inflate_px=100)\n",
    "            crop_heaps[obj][\"heap\"].push(crop)\n",
    "\n",
    "\n",
    "        # instance_rgb = instance_rgb.astype(np.uint8)\n",
    "        # # Make depth in mm and clip to fit 16-bit image\n",
    "        # depth = (depth.astype(np.float32) * 1000).clip(0, 65535).astype(np.uint16)\n",
    "        # depth_name = image.name.split(\".\")[0] + \".png\"\n",
    "        # imageio.imwrite(depth_dir / depth_name, depth)"
   ]
  },
  {
   "cell_type": "code",
   "execution_count": 7,
   "metadata": {},
   "outputs": [],
   "source": [
    "# for id, entry in tqdm(crop_heaps.items(), f\"Rendering image grids\"):\n",
    "#     heap = entry[\"heap\"]\n",
    "#     label = entry[\"label\"]\n",
    "#     if len(heap) and label.lower() not in [\n",
    "#         \"background\",\n",
    "#         \"wall\",\n",
    "#         \"floor\",\n",
    "#         \"ceiling\",\n",
    "#         \"split\",\n",
    "#         \"remove\",\n",
    "#     ]:\n",
    "#         crops = heap.get_sorted()\n",
    "#         rgbs = [c.rgb for c in crops]\n",
    "#         masks = [c.mask for c in crops]\n",
    "#         scores = [c.score for c in crops]\n",
    "#         plot_grid_images(\n",
    "#             rgbs + masks, grid_width=len(rgbs), title=entry[\"label\"]\n",
    "#         )\n",
    "#         plt.savefig(crop_dir / f\"{str(id).zfill(5)}.jpg\")\n",
    "#         plt.close()"
   ]
  },
  {
   "cell_type": "code",
   "execution_count": 24,
   "metadata": {},
   "outputs": [],
   "source": [
    "import torch\n",
    "import os\n",
    "import tempfile\n",
    "import shutil\n",
    "import cv2\n",
    "import numpy as np\n",
    "import logging\n",
    "import random\n",
    "\n",
    "from sam2.build_sam import build_sam2, build_sam2_video_predictor\n",
    "from sam2.sam2_image_predictor import SAM2ImagePredictor\n",
    "\n",
    "# Set up logging\n",
    "logging.basicConfig(\n",
    "    level=logging.INFO,  # Logging level\n",
    "    format=\"%(asctime)s - %(levelname)s - %(message)s\",  # Log format\n",
    "    filename=\"sam2_model.log\",  # Log file path\n",
    "    filemode=\"w\",  # 'w' to overwrite the log file each time, 'a' to append\n",
    ")\n",
    "\n",
    "\n",
    "class SAM2VideoMaskModel:\n",
    "    def __init__(\n",
    "        self, sam2_checkpoint, model_cfg, num_points=5, device=\"cuda\", temp_dir=None\n",
    "    ):\n",
    "        \"\"\"\n",
    "        Initialize SAM2 model and set device.\n",
    "        \"\"\"\n",
    "        self.device = torch.device(device)\n",
    "        if self.device.type == \"cuda\":\n",
    "            torch.autocast(\"cuda\", dtype=torch.bfloat16).__enter__()\n",
    "\n",
    "        self.predictor = build_sam2_video_predictor(\n",
    "            model_cfg, sam2_checkpoint, device=self.device\n",
    "        )\n",
    "\n",
    "        # Placeholder for rgbs, masks, masks_padded, rgbs_padded, padding information, and scores\n",
    "        self.rgbs = []\n",
    "        self.rgbs_padded = []\n",
    "        self.masks = []\n",
    "        self.masks_padded = []\n",
    "        self.padding_info = []\n",
    "        self.scores = []\n",
    "\n",
    "        if temp_dir is None:\n",
    "            self.temp_dir = tempfile.mkdtemp()\n",
    "        else:\n",
    "            self.temp_dir = temp_dir\n",
    "        logging.info(f\"Temporary directory created at: {self.temp_dir}\")\n",
    "\n",
    "        self.num_points = num_points\n",
    "        self.predictor_inference_state = None\n",
    "\n",
    "    def store_data(self, rgbs, masks, scores):\n",
    "        \"\"\"\n",
    "        Pads the RGB images and masks to the size of the largest image and stores them.\n",
    "        \"\"\"\n",
    "        if len(rgbs) != len(masks) or len(rgbs) != len(scores):\n",
    "            raise ValueError(\"The number of RGB images, masks, and scores must match.\")\n",
    "\n",
    "        max_h, max_w = self._get_max_dimensions(rgbs)\n",
    "\n",
    "        for idx, (rgb, mask, score) in enumerate(zip(rgbs, masks, scores)):\n",
    "            padded_rgb, padded_mask, padding_info = self._pad_image_and_mask(\n",
    "                rgb, mask, max_h, max_w\n",
    "            )\n",
    "            self._store_padded_data(\n",
    "                idx, rgb, padded_rgb, mask, padded_mask, score, padding_info\n",
    "            )\n",
    "\n",
    "        self.predictor_inference_state = self._initialize_inference_state()\n",
    "\n",
    "    def refine_masks_and_propagate(self, mode=None):\n",
    "        \"\"\"\n",
    "        Refine masks using SAM2 predictor.\n",
    "        \"\"\"\n",
    "        if self.predictor_inference_state is None:\n",
    "            raise ValueError(\n",
    "                \"Inference state not initialized. Please store data before refining masks.\"\n",
    "            )\n",
    "\n",
    "        if mode == \"points\":\n",
    "            points, labels, highest_score_idx = self._get_initial_prompts(points=True)\n",
    "            _ = self.refine_mask_w_points_prompt(points, labels, highest_score_idx)\n",
    "            refined_masks = self.propagate_prompt()\n",
    "            self.masks = refined_masks\n",
    "            return refined_masks\n",
    "\n",
    "        elif mode == \"mask\":\n",
    "            highest_score_mask, highest_score_idx = self._get_initial_prompts(mask=True)\n",
    "            _ = self.refine_mask_w_mask_prompt(highest_score_mask, highest_score_idx)\n",
    "            refined_masks = self.propagate_prompt()\n",
    "            self.masks = refined_masks\n",
    "            return refined_masks\n",
    "\n",
    "        else:\n",
    "            raise ValueError(\"Mode must be either 'points' or 'mask'.\")\n",
    "\n",
    "    def reset_inference_state(self):\n",
    "        \"\"\"\n",
    "        Reset the inference state to the initial state.\n",
    "        \"\"\"\n",
    "        self.predictor.reset_state(self.predictor_inference_state)\n",
    "        self.predictor_inference_state = self._initialize_inference_state()\n",
    "\n",
    "    def cleanup(self):\n",
    "        \"\"\"\n",
    "        Clean up the temporary directory and clear stored data.\n",
    "        \"\"\"\n",
    "        self.predictor.reset_state(self.predictor_inference_state)\n",
    "        self.predictor_inference_state = None\n",
    "        self._clear_temp_directory()\n",
    "        self._clear_storage()\n",
    "\n",
    "    def refine_mask_w_points_prompt(self, points, labels, frame_idx):\n",
    "        \"\"\"\n",
    "        Refine the masks with point prompts.\n",
    "        \"\"\"\n",
    "        _, _, out_mask_logits = self.predictor.add_new_points_or_box(\n",
    "            inference_state=self.predictor_inference_state,\n",
    "            frame_idx=frame_idx,\n",
    "            obj_id=1,\n",
    "            points=points,\n",
    "            labels=labels,\n",
    "            box=None,\n",
    "        )\n",
    "\n",
    "        refined_mask = (out_mask_logits[0] > 0.0).cpu().numpy().squeeze()\n",
    "        unpadded_refined_mask = self._unpad_mask(refined_mask, frame_idx)\n",
    "\n",
    "        return unpadded_refined_mask\n",
    "\n",
    "    def refine_mask_w_mask_prompt(self, highest_score_mask, frame_idx):\n",
    "        \"\"\"\n",
    "        Refine the masks using the mask with the highest score.\n",
    "        \"\"\"\n",
    "        _, _, out_mask_logits = self.predictor.add_new_mask(\n",
    "            inference_state=self.predictor_inference_state,\n",
    "            frame_idx=frame_idx,\n",
    "            obj_id=1,\n",
    "            mask=highest_score_mask,\n",
    "        )\n",
    "\n",
    "        refined_mask = (out_mask_logits[0] > 0.0).cpu().numpy().squeeze()\n",
    "        unpadded_refined_mask = self._unpad_mask(refined_mask, frame_idx)\n",
    "\n",
    "        return unpadded_refined_mask\n",
    "\n",
    "    def propagate_prompt(self):\n",
    "        \"\"\"\n",
    "        Propagate the prompt through the video.\n",
    "        \"\"\"\n",
    "        refined_masks = []\n",
    "\n",
    "        for (\n",
    "            out_frame_idx,\n",
    "            out_obj_ids,\n",
    "            out_mask_logits,\n",
    "        ) in self.predictor.propagate_in_video(self.predictor_inference_state):\n",
    "            refined_mask = (out_mask_logits[0] > 0.0).cpu().numpy().squeeze()\n",
    "            unpadded_refined_mask = self._unpad_mask(refined_mask, out_frame_idx)\n",
    "\n",
    "            if np.sum(refined_mask) == 0:\n",
    "                logging.warning(\n",
    "                    f\"Refined mask is empty for frame {out_frame_idx}. Using the old mask.\"\n",
    "                )\n",
    "                refined_mask = self.masks_padded[out_frame_idx]\n",
    "\n",
    "            refined_masks.append(unpadded_refined_mask)\n",
    "\n",
    "        if len(refined_masks) < len(self.masks):\n",
    "            raise ValueError(\n",
    "                \"The number of refined masks is less than the number of input masks.\"\n",
    "            )\n",
    "\n",
    "        return refined_masks\n",
    "\n",
    "    def _get_max_dimensions(self, rgbs):\n",
    "        \"\"\"\n",
    "        Get the maximum height and width among the provided RGB images.\n",
    "        \"\"\"\n",
    "        max_h = max([rgb.shape[0] for rgb in rgbs])\n",
    "        max_w = max([rgb.shape[1] for rgb in rgbs])\n",
    "        return max_h, max_w\n",
    "\n",
    "    def _pad_image_and_mask(self, rgb, mask, max_h, max_w):\n",
    "        \"\"\"\n",
    "        Pads the RGB and mask to the provided max dimensions.\n",
    "        \"\"\"\n",
    "        h, w, _ = rgb.shape\n",
    "        pad_h, pad_w = max_h - h, max_w - w\n",
    "        padding_info = ((0, pad_h), (0, pad_w))\n",
    "\n",
    "        padded_rgb = np.pad(\n",
    "            rgb, ((0, pad_h), (0, pad_w), (0, 0)), mode=\"constant\", constant_values=0\n",
    "        )\n",
    "        padded_mask = np.pad(\n",
    "            mask, ((0, pad_h), (0, pad_w)), mode=\"constant\", constant_values=0\n",
    "        )\n",
    "\n",
    "        return padded_rgb, padded_mask, padding_info\n",
    "\n",
    "    def _store_padded_data(\n",
    "        self, idx, rgb, padded_rgb, mask, padded_mask, score, padding_info\n",
    "    ):\n",
    "        \"\"\"\n",
    "        Store padded data, and save the padded RGB image to the temp directory.\n",
    "        \"\"\"\n",
    "        rgb_filename = os.path.join(self.temp_dir, f\"{idx}.jpg\")\n",
    "        cv2.imwrite(rgb_filename, padded_rgb)\n",
    "\n",
    "        self.rgbs.append(rgb)\n",
    "        self.rgbs_padded.append(padded_rgb)\n",
    "        self.masks.append(mask)\n",
    "        self.masks_padded.append(padded_mask)\n",
    "        self.scores.append(score)\n",
    "        self.padding_info.append(padding_info)\n",
    "\n",
    "    def _initialize_inference_state(self):\n",
    "        \"\"\"\n",
    "        Initialize the predictor's inference state.\n",
    "        \"\"\"\n",
    "        return self.predictor.init_state(video_path=self.temp_dir)\n",
    "\n",
    "    def _get_initial_prompts(self, points=False, mask=False):\n",
    "        \"\"\"\n",
    "        Determine initial points based on the mask with the highest score.\n",
    "        \"\"\"\n",
    "        highest_score_idx = np.argmax(self.scores)\n",
    "        highest_score_mask = self.masks_padded[highest_score_idx]\n",
    "\n",
    "        if highest_score_idx != 0:\n",
    "            logging.info(\n",
    "                f\"Using mask with the highest score from frame {highest_score_idx} as the initial prompt.\"\n",
    "            )\n",
    "\n",
    "        if points:\n",
    "            mask_indices = np.argwhere(highest_score_mask > 0)\n",
    "            points = np.array(\n",
    "                [\n",
    "                    mask_indices[np.random.choice(len(mask_indices))]\n",
    "                    for _ in range(self.num_points)\n",
    "                ],\n",
    "                dtype=np.float32,\n",
    "            )\n",
    "            labels = np.ones(self.num_points, dtype=np.int32)\n",
    "\n",
    "            return points, labels, highest_score_idx\n",
    "        elif mask:\n",
    "            return highest_score_mask, highest_score_idx\n",
    "        else:\n",
    "            raise ValueError(\"Either points or mask must be True.\")\n",
    "\n",
    "    def _unpad_mask(self, mask, frame_idx):\n",
    "        \"\"\"\n",
    "        Unpad a single mask based on its padding information.\n",
    "        \"\"\"\n",
    "        pad_h, pad_w = self.padding_info[frame_idx]\n",
    "\n",
    "        # Unpad the mask based on padding info\n",
    "        unpadded_mask = mask\n",
    "        if pad_h[1] > 0:  # Check if there was padding at the bottom\n",
    "            unpadded_mask = unpadded_mask[: -pad_h[1], :]\n",
    "        if pad_w[1] > 0:  # Check if there was padding at the right\n",
    "            unpadded_mask = unpadded_mask[:, : -pad_w[1]]\n",
    "\n",
    "        return unpadded_mask\n",
    "\n",
    "    def _clear_temp_directory(self):\n",
    "        \"\"\"\n",
    "        Clears the contents of the temporary directory but leaves the directory itself.\n",
    "        \"\"\"\n",
    "        if os.path.exists(self.temp_dir):\n",
    "            for filename in os.listdir(self.temp_dir):\n",
    "                file_path = os.path.join(self.temp_dir, filename)\n",
    "                try:\n",
    "                    if os.path.isfile(file_path) or os.path.islink(file_path):\n",
    "                        os.unlink(file_path)  # Remove file or symbolic link\n",
    "                    elif os.path.isdir(file_path):\n",
    "                        shutil.rmtree(file_path)  # Remove subdirectory and its contents\n",
    "                except Exception as e:\n",
    "                    logging.error(f\"Failed to delete {file_path}. Reason: {e}\")\n",
    "\n",
    "            logging.info(f\"Contents of temporary directory {self.temp_dir} removed.\")\n",
    "\n",
    "    def _clear_storage(self):\n",
    "        \"\"\"\n",
    "        Clears all stored data except for the SAM2 model.\n",
    "        \"\"\"\n",
    "        self.rgbs = []\n",
    "        self.rgbs_padded = []\n",
    "        self.masks = []\n",
    "        self.masks_padded = []\n",
    "        self.scores = []\n",
    "        self.padding_info = []\n",
    "        logging.info(\n",
    "            \"Cleared all stored images, masks, scores, and padding information.\"\n",
    "        )\n",
    "\n",
    "\n",
    "class SAM2ImageMaskModel:\n",
    "    def __init__(\n",
    "        self,\n",
    "        sam2_checkpoint,\n",
    "        model_cfg,\n",
    "        device=\"cuda\",\n",
    "        num_points=5,\n",
    "        ransac_iterations=10,\n",
    "    ):\n",
    "        \"\"\"\n",
    "        Initialize SAM2 model, set device, and configure number of points and RANSAC iterations.\n",
    "        \"\"\"\n",
    "        self.device = torch.device(device)\n",
    "        self.num_points = num_points  # Number of points to sample from the mask\n",
    "        self.ransac_iterations = ransac_iterations  # Number of RANSAC iterations\n",
    "\n",
    "        if self.device.type == \"cuda\":\n",
    "            torch.autocast(\"cuda\", dtype=torch.bfloat16).__enter__()\n",
    "            if torch.cuda.get_device_properties(0).major >= 8:\n",
    "                torch.backends.cuda.matmul.allow_tf32 = True\n",
    "                torch.backends.cudnn.allow_tf32 = True\n",
    "\n",
    "        self.predictor = self._build_predictor(sam2_checkpoint, model_cfg)\n",
    "        self._initialize_storage()\n",
    "\n",
    "    def store_data(self, rgbs, masks, scores):\n",
    "        \"\"\"\n",
    "        Stores the RGB images, masks, and scores.\n",
    "        \"\"\"\n",
    "        if len(rgbs) != len(masks) or len(rgbs) != len(scores):\n",
    "            raise ValueError(\"The number of RGB images, masks, and scores must match.\")\n",
    "\n",
    "        for idx, (rgb, mask, score) in enumerate(zip(rgbs, masks, scores)):\n",
    "            self._store_data(idx, rgb, mask, score)\n",
    "\n",
    "    def refine_masks(self):\n",
    "        \"\"\"\n",
    "        Public method to trigger RANSAC-based mask refinement.\n",
    "        \"\"\"\n",
    "        masks_refined, sam_scores = self._ransac_mask_selection()\n",
    "        self.masks = masks_refined\n",
    "        self.scores = sam_scores\n",
    "        return masks_refined, sam_scores\n",
    "\n",
    "    def refine_mask_w_point_prompt(self, frame_idx, points, labels):\n",
    "        \"\"\"\n",
    "        Refine the mask for the provided frame index.\n",
    "        \"\"\"\n",
    "        rgb = self.rgbs[frame_idx]\n",
    "        bbox = None\n",
    "\n",
    "        predicted_mask, predicted_scores = self._predict_mask(rgb, points, bbox, labels)\n",
    "\n",
    "        self.masks_refined[frame_idx] = predicted_mask[0]\n",
    "        self.scores[frame_idx] = predicted_scores[0]\n",
    "\n",
    "        return predicted_mask[0], predicted_scores[0]\n",
    "\n",
    "    def cleanup(self):\n",
    "        \"\"\"\n",
    "        Cleans up the stored data, including RGBs, masks, and scores,\n",
    "        while keeping the SAM model ready for further use.\n",
    "        \"\"\"\n",
    "        # Clear all stored data (RGBs, masks, scores)\n",
    "        self.rgbs = []\n",
    "        self.masks = []\n",
    "        self.scores = []\n",
    "\n",
    "        logging.info(\"Cleared all stored images, masks, scores, and refined masks.\")\n",
    "\n",
    "    def _ransac_mask_selection(self):\n",
    "        \"\"\"\n",
    "        Perform RANSAC-like sampling of points and select the best mask based on SAM score.\n",
    "        \"\"\"\n",
    "        masks_refined = []\n",
    "        sam_scores = []\n",
    "\n",
    "        for idx, (rgb, mask) in enumerate(zip(self.rgbs, self.masks)):\n",
    "            best_score = -float(\"inf\")\n",
    "            best_mask = None\n",
    "\n",
    "            for _ in range(self.ransac_iterations):\n",
    "                try:\n",
    "                    # Sample points from the mask\n",
    "                    sampled_points = self._sample_points_from_mask(mask)\n",
    "                    labels = np.ones(len(sampled_points), dtype=np.int32)\n",
    "                    bbox = self._get_bounding_box_from_mask(mask)\n",
    "\n",
    "                    # Get mask prediction and score from SAM, assume single mask and score\n",
    "                    predicted_mask, predicted_scores = self._predict_mask(\n",
    "                        rgb, sampled_points, bbox, labels\n",
    "                    )\n",
    "\n",
    "                    predicted_mask = predicted_mask[0]\n",
    "\n",
    "                    score = predicted_scores[0]  # Assuming single mask is returned\n",
    "                    if score > best_score:\n",
    "                        best_score = score\n",
    "                        best_mask = predicted_mask\n",
    "\n",
    "                except ValueError as e:\n",
    "                    logging.warning(f\"Skipping frame {idx} due to error: {e}\")\n",
    "                    continue\n",
    "\n",
    "            # Store the best mask and score for the current frame\n",
    "            masks_refined.append(best_mask)\n",
    "            sam_scores.append(best_score)\n",
    "\n",
    "        return masks_refined, sam_scores\n",
    "\n",
    "    def _build_predictor(self, sam2_checkpoint, model_cfg):\n",
    "        \"\"\"\n",
    "        Helper function to build the SAM2 image predictor.\n",
    "        \"\"\"\n",
    "        sam2 = build_sam2(model_cfg, sam2_checkpoint, device=self.device)\n",
    "        return SAM2ImagePredictor(sam2)\n",
    "\n",
    "    def _initialize_storage(self):\n",
    "        \"\"\"\n",
    "        Initializes storage for RGB images, masks, and related data.\n",
    "        \"\"\"\n",
    "        self.rgbs = []\n",
    "        self.masks = []\n",
    "        self.scores = []\n",
    "\n",
    "    def _store_data(self, idx, rgb, mask, score):\n",
    "        \"\"\"\n",
    "        Store RGB, mask, and score data.\n",
    "        \"\"\"\n",
    "        self.rgbs.append(rgb)\n",
    "        self.masks.append(mask)\n",
    "        self.scores.append(score)\n",
    "\n",
    "    def _sample_points_from_mask(self, mask):\n",
    "        \"\"\"\n",
    "        Sample n points from the provided mask where the mask is non-zero.\n",
    "        \"\"\"\n",
    "        mask_indices = np.argwhere(mask > 0)  # Get non-zero mask points\n",
    "        if len(mask_indices) == 0:\n",
    "            raise ValueError(\"No valid mask points to sample from.\")\n",
    "\n",
    "        # Randomly sample 'n' points\n",
    "        sampled_points = np.array(\n",
    "            random.choices(mask_indices, k=self.num_points), dtype=np.float32\n",
    "        )\n",
    "        return sampled_points\n",
    "\n",
    "    def _predict_mask(self, rgb, points, bbox, labels):\n",
    "        \"\"\"\n",
    "        Use sampled points to prompt SAM for mask prediction and return mask and score.\n",
    "        \"\"\"\n",
    "\n",
    "        self.predictor.set_image(rgb)\n",
    "\n",
    "        if bbox is not None:\n",
    "            bbox = bbox[None, :]\n",
    "\n",
    "        # Perform mask prediction using the points and labels\n",
    "        masks, scores, _ = self.predictor.predict(\n",
    "            point_coords=points,\n",
    "            point_labels=labels,\n",
    "            box=bbox,\n",
    "            multimask_output=False,\n",
    "        )\n",
    "\n",
    "        if masks.dtype != bool:\n",
    "            masks = masks.astype(bool)\n",
    "\n",
    "        return masks, scores\n",
    "\n",
    "    def _get_bounding_box_from_mask(self, mask):\n",
    "        \"\"\"\n",
    "        Given a binary mask, return the bounding box in xyxy format.\n",
    "        \"\"\"\n",
    "\n",
    "        # Find the indices where the mask is True (non-zero)\n",
    "        rows, cols = np.where(mask)\n",
    "\n",
    "        # If the mask is empty (no True values), return an empty bounding box\n",
    "        if len(rows) == 0 or len(cols) == 0:\n",
    "            return [0, 0, 0, 0]\n",
    "\n",
    "        # Get the bounding box coordinates\n",
    "        x_min = np.min(cols)\n",
    "        y_min = np.min(rows)\n",
    "        x_max = np.max(cols)\n",
    "        y_max = np.max(rows)\n",
    "\n",
    "        return np.array([x_min, y_min, x_max, y_max])\n"
   ]
  },
  {
   "cell_type": "code",
   "execution_count": 29,
   "metadata": {},
   "outputs": [],
   "source": [
    "import logging\n",
    "\n",
    "sam2_checkpoint = \"/home/kumaraditya/checkpoints/sam2_hiera_large.pt\"\n",
    "sam2_model_cfg = \"sam2_hiera_l.yaml\"\n",
    "sam2_video_model = SAM2VideoMaskModel(sam2_checkpoint, sam2_model_cfg)\n",
    "sam2_img_model = SAM2ImageMaskModel(sam2_checkpoint, sam2_model_cfg, num_points=3, ransac_iterations=5)\n",
    "\n",
    "def sam2_refine_masks(rgbs, masks, scores):\n",
    "    sam2_img_model.store_data(rgbs, masks, scores)\n",
    "    img_refined_masks, img_refined_scores = sam2_img_model.refine_masks()\n",
    "    sam2_img_model.cleanup()\n",
    "\n",
    "    sorted_data = sorted(zip(img_refined_scores, rgbs, img_refined_masks), key=lambda x: x[0], reverse=True)\n",
    "    img_refined_scores, rgbs, img_refined_masks = zip(*sorted_data)\n",
    "\n",
    "    # Convert them back to lists\n",
    "    img_refined_scores = list(img_refined_scores)\n",
    "    rgbs = list(rgbs)\n",
    "    img_refined_masks = list(img_refined_masks)\n",
    "\n",
    "    sam2_video_model.store_data(rgbs, img_refined_masks, img_refined_scores)\n",
    "    video_refined_masks = sam2_video_model.refine_masks_and_propagate(mode=\"mask\")\n",
    "    sam2_video_model.cleanup()\n",
    "\n",
    "    return rgbs, video_refined_masks, img_refined_scores"
   ]
  },
  {
   "cell_type": "code",
   "execution_count": 30,
   "metadata": {},
   "outputs": [
    {
     "name": "stderr",
     "output_type": "stream",
     "text": [
      "frame loading (JPEG): 100%|██████████| 4/4 [00:00<00:00, 40.15it/s]\n",
      "propagate in video: 100%|██████████| 4/4 [00:01<00:00,  3.84it/s]\n"
     ]
    },
    {
     "name": "stdout",
     "output_type": "stream",
     "text": [
      "RGB shapes:  [(385, 616, 3), (594, 607, 3), (580, 606, 3), (597, 601, 3)]\n",
      "Mask shapes:  [(385, 616), (594, 607), (580, 606), (597, 601)]\n"
     ]
    },
    {
     "name": "stderr",
     "output_type": "stream",
     "text": [
      "frame loading (JPEG): 100%|██████████| 4/4 [00:00<00:00, 42.73it/s]it]\n",
      "/home/kumaraditya/segment-anything-2/sam2/sam2_video_predictor.py:873: UserWarning: cannot import name '_C' from 'sam2' (/home/kumaraditya/segment-anything-2/sam2/__init__.py)\n",
      "\n",
      "Skipping the post-processing step due to the error above. You can still use SAM 2 and it's OK to ignore the error above, although some post-processing functionality may be limited (which doesn't affect the results in most cases; see https://github.com/facebookresearch/segment-anything-2/blob/main/INSTALL.md).\n",
      "  pred_masks_gpu = fill_holes_in_mask_scores(\n",
      "propagate in video: 100%|██████████| 4/4 [00:01<00:00,  3.89it/s]\n"
     ]
    },
    {
     "name": "stdout",
     "output_type": "stream",
     "text": [
      "RGB shapes:  [(298, 439, 3), (295, 461, 3), (371, 385, 3), (389, 412, 3)]\n",
      "Mask shapes:  [(298, 439), (295, 461), (371, 385), (389, 412)]\n"
     ]
    },
    {
     "name": "stderr",
     "output_type": "stream",
     "text": [
      "frame loading (JPEG): 100%|██████████| 4/4 [00:00<00:00, 43.51it/s]it]\n",
      "/home/kumaraditya/segment-anything-2/sam2/sam2_video_predictor.py:873: UserWarning: cannot import name '_C' from 'sam2' (/home/kumaraditya/segment-anything-2/sam2/__init__.py)\n",
      "\n",
      "Skipping the post-processing step due to the error above. You can still use SAM 2 and it's OK to ignore the error above, although some post-processing functionality may be limited (which doesn't affect the results in most cases; see https://github.com/facebookresearch/segment-anything-2/blob/main/INSTALL.md).\n",
      "  pred_masks_gpu = fill_holes_in_mask_scores(\n",
      "propagate in video: 100%|██████████| 4/4 [00:01<00:00,  3.88it/s]\n"
     ]
    },
    {
     "name": "stdout",
     "output_type": "stream",
     "text": [
      "RGB shapes:  [(366, 791, 3), (374, 748, 3), (274, 560, 3), (246, 440, 3)]\n",
      "Mask shapes:  [(366, 791), (374, 748), (274, 560), (246, 440)]\n"
     ]
    },
    {
     "name": "stderr",
     "output_type": "stream",
     "text": [
      "frame loading (JPEG): 100%|██████████| 4/4 [00:00<00:00, 37.17it/s]it]\n",
      "/home/kumaraditya/segment-anything-2/sam2/sam2_video_predictor.py:873: UserWarning: cannot import name '_C' from 'sam2' (/home/kumaraditya/segment-anything-2/sam2/__init__.py)\n",
      "\n",
      "Skipping the post-processing step due to the error above. You can still use SAM 2 and it's OK to ignore the error above, although some post-processing functionality may be limited (which doesn't affect the results in most cases; see https://github.com/facebookresearch/segment-anything-2/blob/main/INSTALL.md).\n",
      "  pred_masks_gpu = fill_holes_in_mask_scores(\n",
      "propagate in video: 100%|██████████| 4/4 [00:01<00:00,  3.83it/s]\n"
     ]
    },
    {
     "name": "stdout",
     "output_type": "stream",
     "text": [
      "RGB shapes:  [(503, 722, 3), (519, 662, 3), (582, 637, 3), (477, 779, 3)]\n",
      "Mask shapes:  [(503, 722), (519, 662), (582, 637), (477, 779)]\n"
     ]
    },
    {
     "name": "stderr",
     "output_type": "stream",
     "text": [
      "frame loading (JPEG): 100%|██████████| 4/4 [00:00<00:00, 28.11it/s]it]\n",
      "/home/kumaraditya/segment-anything-2/sam2/sam2_video_predictor.py:873: UserWarning: cannot import name '_C' from 'sam2' (/home/kumaraditya/segment-anything-2/sam2/__init__.py)\n",
      "\n",
      "Skipping the post-processing step due to the error above. You can still use SAM 2 and it's OK to ignore the error above, although some post-processing functionality may be limited (which doesn't affect the results in most cases; see https://github.com/facebookresearch/segment-anything-2/blob/main/INSTALL.md).\n",
      "  pred_masks_gpu = fill_holes_in_mask_scores(\n",
      "propagate in video: 100%|██████████| 4/4 [00:01<00:00,  3.80it/s]\n"
     ]
    },
    {
     "name": "stdout",
     "output_type": "stream",
     "text": [
      "RGB shapes:  [(1064, 1015, 3), (1025, 768, 3), (973, 1125, 3), (1060, 890, 3)]\n",
      "Mask shapes:  [(1064, 1015), (1025, 768), (973, 1125), (1060, 890)]\n"
     ]
    },
    {
     "name": "stderr",
     "output_type": "stream",
     "text": [
      "frame loading (JPEG): 100%|██████████| 4/4 [00:00<00:00, 35.94it/s]it]\n",
      "/home/kumaraditya/segment-anything-2/sam2/sam2_video_predictor.py:873: UserWarning: cannot import name '_C' from 'sam2' (/home/kumaraditya/segment-anything-2/sam2/__init__.py)\n",
      "\n",
      "Skipping the post-processing step due to the error above. You can still use SAM 2 and it's OK to ignore the error above, although some post-processing functionality may be limited (which doesn't affect the results in most cases; see https://github.com/facebookresearch/segment-anything-2/blob/main/INSTALL.md).\n",
      "  pred_masks_gpu = fill_holes_in_mask_scores(\n",
      "propagate in video: 100%|██████████| 4/4 [00:01<00:00,  3.80it/s]\n"
     ]
    },
    {
     "name": "stdout",
     "output_type": "stream",
     "text": [
      "RGB shapes:  [(472, 936, 3), (523, 942, 3), (671, 497, 3), (681, 516, 3)]\n",
      "Mask shapes:  [(472, 936), (523, 942), (671, 497), (681, 516)]\n"
     ]
    },
    {
     "name": "stderr",
     "output_type": "stream",
     "text": [
      "frame loading (JPEG): 100%|██████████| 4/4 [00:00<00:00, 39.00it/s]it]\n",
      "/home/kumaraditya/segment-anything-2/sam2/sam2_video_predictor.py:873: UserWarning: cannot import name '_C' from 'sam2' (/home/kumaraditya/segment-anything-2/sam2/__init__.py)\n",
      "\n",
      "Skipping the post-processing step due to the error above. You can still use SAM 2 and it's OK to ignore the error above, although some post-processing functionality may be limited (which doesn't affect the results in most cases; see https://github.com/facebookresearch/segment-anything-2/blob/main/INSTALL.md).\n",
      "  pred_masks_gpu = fill_holes_in_mask_scores(\n",
      "propagate in video: 100%|██████████| 4/4 [00:01<00:00,  3.76it/s]\n"
     ]
    },
    {
     "name": "stdout",
     "output_type": "stream",
     "text": [
      "RGB shapes:  [(517, 626, 3), (516, 607, 3), (389, 644, 3), (404, 510, 3)]\n",
      "Mask shapes:  [(517, 626), (516, 607), (389, 644), (404, 510)]\n"
     ]
    },
    {
     "name": "stderr",
     "output_type": "stream",
     "text": [
      "frame loading (JPEG): 100%|██████████| 4/4 [00:00<00:00, 42.64it/s]it]\n",
      "/home/kumaraditya/segment-anything-2/sam2/sam2_video_predictor.py:873: UserWarning: cannot import name '_C' from 'sam2' (/home/kumaraditya/segment-anything-2/sam2/__init__.py)\n",
      "\n",
      "Skipping the post-processing step due to the error above. You can still use SAM 2 and it's OK to ignore the error above, although some post-processing functionality may be limited (which doesn't affect the results in most cases; see https://github.com/facebookresearch/segment-anything-2/blob/main/INSTALL.md).\n",
      "  pred_masks_gpu = fill_holes_in_mask_scores(\n",
      "propagate in video: 100%|██████████| 4/4 [00:01<00:00,  3.75it/s]\n"
     ]
    },
    {
     "name": "stdout",
     "output_type": "stream",
     "text": [
      "RGB shapes:  [(316, 722, 3), (304, 718, 3), (304, 724, 3), (313, 694, 3)]\n",
      "Mask shapes:  [(316, 722), (304, 718), (304, 724), (313, 694)]\n"
     ]
    },
    {
     "name": "stderr",
     "output_type": "stream",
     "text": [
      "frame loading (JPEG): 100%|██████████| 4/4 [00:00<00:00, 42.61it/s]it]\n",
      "/home/kumaraditya/segment-anything-2/sam2/sam2_video_predictor.py:873: UserWarning: cannot import name '_C' from 'sam2' (/home/kumaraditya/segment-anything-2/sam2/__init__.py)\n",
      "\n",
      "Skipping the post-processing step due to the error above. You can still use SAM 2 and it's OK to ignore the error above, although some post-processing functionality may be limited (which doesn't affect the results in most cases; see https://github.com/facebookresearch/segment-anything-2/blob/main/INSTALL.md).\n",
      "  pred_masks_gpu = fill_holes_in_mask_scores(\n",
      "propagate in video: 100%|██████████| 4/4 [00:01<00:00,  3.59it/s]\n"
     ]
    },
    {
     "name": "stdout",
     "output_type": "stream",
     "text": [
      "RGB shapes:  [(298, 643, 3), (314, 614, 3), (306, 647, 3), (306, 642, 3)]\n",
      "Mask shapes:  [(298, 643), (314, 614), (306, 647), (306, 642)]\n"
     ]
    },
    {
     "name": "stderr",
     "output_type": "stream",
     "text": [
      "frame loading (JPEG): 100%|██████████| 4/4 [00:00<00:00, 41.29it/s]/it]\n",
      "/home/kumaraditya/segment-anything-2/sam2/sam2_video_predictor.py:873: UserWarning: cannot import name '_C' from 'sam2' (/home/kumaraditya/segment-anything-2/sam2/__init__.py)\n",
      "\n",
      "Skipping the post-processing step due to the error above. You can still use SAM 2 and it's OK to ignore the error above, although some post-processing functionality may be limited (which doesn't affect the results in most cases; see https://github.com/facebookresearch/segment-anything-2/blob/main/INSTALL.md).\n",
      "  pred_masks_gpu = fill_holes_in_mask_scores(\n",
      "propagate in video: 100%|██████████| 4/4 [00:01<00:00,  3.45it/s]\n"
     ]
    },
    {
     "name": "stdout",
     "output_type": "stream",
     "text": [
      "RGB shapes:  [(377, 639, 3), (378, 655, 3), (374, 671, 3), (369, 666, 3)]\n",
      "Mask shapes:  [(377, 639), (378, 655), (374, 671), (369, 666)]\n"
     ]
    },
    {
     "name": "stderr",
     "output_type": "stream",
     "text": [
      "frame loading (JPEG): 100%|██████████| 4/4 [00:00<00:00, 38.35it/s]/it]\n",
      "/home/kumaraditya/segment-anything-2/sam2/sam2_video_predictor.py:873: UserWarning: cannot import name '_C' from 'sam2' (/home/kumaraditya/segment-anything-2/sam2/__init__.py)\n",
      "\n",
      "Skipping the post-processing step due to the error above. You can still use SAM 2 and it's OK to ignore the error above, although some post-processing functionality may be limited (which doesn't affect the results in most cases; see https://github.com/facebookresearch/segment-anything-2/blob/main/INSTALL.md).\n",
      "  pred_masks_gpu = fill_holes_in_mask_scores(\n",
      "propagate in video: 100%|██████████| 4/4 [00:01<00:00,  3.53it/s]\n"
     ]
    },
    {
     "name": "stdout",
     "output_type": "stream",
     "text": [
      "RGB shapes:  [(478, 698, 3), (493, 707, 3), (527, 707, 3), (468, 682, 3)]\n",
      "Mask shapes:  [(478, 698), (493, 707), (527, 707), (468, 682)]\n"
     ]
    },
    {
     "name": "stderr",
     "output_type": "stream",
     "text": [
      "frame loading (JPEG): 100%|██████████| 4/4 [00:00<00:00, 28.82it/s]/it]\n",
      "/home/kumaraditya/segment-anything-2/sam2/sam2_video_predictor.py:873: UserWarning: cannot import name '_C' from 'sam2' (/home/kumaraditya/segment-anything-2/sam2/__init__.py)\n",
      "\n",
      "Skipping the post-processing step due to the error above. You can still use SAM 2 and it's OK to ignore the error above, although some post-processing functionality may be limited (which doesn't affect the results in most cases; see https://github.com/facebookresearch/segment-anything-2/blob/main/INSTALL.md).\n",
      "  pred_masks_gpu = fill_holes_in_mask_scores(\n",
      "propagate in video: 100%|██████████| 4/4 [00:01<00:00,  3.48it/s]\n"
     ]
    },
    {
     "name": "stdout",
     "output_type": "stream",
     "text": [
      "RGB shapes:  [(765, 1348, 3), (822, 1381, 3), (875, 1411, 3), (645, 1399, 3)]\n",
      "Mask shapes:  [(765, 1348), (822, 1381), (875, 1411), (645, 1399)]\n"
     ]
    },
    {
     "name": "stderr",
     "output_type": "stream",
     "text": [
      "frame loading (JPEG): 100%|██████████| 4/4 [00:00<00:00, 35.53it/s]/it]\n",
      "/home/kumaraditya/segment-anything-2/sam2/sam2_video_predictor.py:873: UserWarning: cannot import name '_C' from 'sam2' (/home/kumaraditya/segment-anything-2/sam2/__init__.py)\n",
      "\n",
      "Skipping the post-processing step due to the error above. You can still use SAM 2 and it's OK to ignore the error above, although some post-processing functionality may be limited (which doesn't affect the results in most cases; see https://github.com/facebookresearch/segment-anything-2/blob/main/INSTALL.md).\n",
      "  pred_masks_gpu = fill_holes_in_mask_scores(\n",
      "propagate in video: 100%|██████████| 4/4 [00:01<00:00,  3.39it/s]\n"
     ]
    },
    {
     "name": "stdout",
     "output_type": "stream",
     "text": [
      "RGB shapes:  [(728, 750, 3), (720, 727, 3), (700, 717, 3), (700, 694, 3)]\n",
      "Mask shapes:  [(728, 750), (720, 727), (700, 717), (700, 694)]\n"
     ]
    },
    {
     "name": "stderr",
     "output_type": "stream",
     "text": [
      "frame loading (JPEG): 100%|██████████| 4/4 [00:00<00:00, 28.11it/s]/it]\n",
      "/home/kumaraditya/segment-anything-2/sam2/sam2_video_predictor.py:873: UserWarning: cannot import name '_C' from 'sam2' (/home/kumaraditya/segment-anything-2/sam2/__init__.py)\n",
      "\n",
      "Skipping the post-processing step due to the error above. You can still use SAM 2 and it's OK to ignore the error above, although some post-processing functionality may be limited (which doesn't affect the results in most cases; see https://github.com/facebookresearch/segment-anything-2/blob/main/INSTALL.md).\n",
      "  pred_masks_gpu = fill_holes_in_mask_scores(\n",
      "propagate in video: 100%|██████████| 4/4 [00:01<00:00,  3.44it/s]\n"
     ]
    },
    {
     "name": "stdout",
     "output_type": "stream",
     "text": [
      "RGB shapes:  [(1149, 768, 3), (1199, 809, 3), (1124, 747, 3), (1190, 804, 3)]\n",
      "Mask shapes:  [(1149, 768), (1199, 809), (1124, 747), (1190, 804)]\n"
     ]
    },
    {
     "name": "stderr",
     "output_type": "stream",
     "text": [
      "frame loading (JPEG): 100%|██████████| 4/4 [00:00<00:00, 43.00it/s]/it]\n",
      "/home/kumaraditya/segment-anything-2/sam2/sam2_video_predictor.py:873: UserWarning: cannot import name '_C' from 'sam2' (/home/kumaraditya/segment-anything-2/sam2/__init__.py)\n",
      "\n",
      "Skipping the post-processing step due to the error above. You can still use SAM 2 and it's OK to ignore the error above, although some post-processing functionality may be limited (which doesn't affect the results in most cases; see https://github.com/facebookresearch/segment-anything-2/blob/main/INSTALL.md).\n",
      "  pred_masks_gpu = fill_holes_in_mask_scores(\n",
      "propagate in video: 100%|██████████| 4/4 [00:01<00:00,  3.40it/s]\n"
     ]
    },
    {
     "name": "stdout",
     "output_type": "stream",
     "text": [
      "RGB shapes:  [(341, 414, 3), (332, 413, 3), (358, 431, 3), (321, 449, 3)]\n",
      "Mask shapes:  [(341, 414), (332, 413), (358, 431), (321, 449)]\n"
     ]
    },
    {
     "name": "stderr",
     "output_type": "stream",
     "text": [
      "frame loading (JPEG): 100%|██████████| 4/4 [00:00<00:00, 40.81it/s]/it]\n",
      "/home/kumaraditya/segment-anything-2/sam2/sam2_video_predictor.py:873: UserWarning: cannot import name '_C' from 'sam2' (/home/kumaraditya/segment-anything-2/sam2/__init__.py)\n",
      "\n",
      "Skipping the post-processing step due to the error above. You can still use SAM 2 and it's OK to ignore the error above, although some post-processing functionality may be limited (which doesn't affect the results in most cases; see https://github.com/facebookresearch/segment-anything-2/blob/main/INSTALL.md).\n",
      "  pred_masks_gpu = fill_holes_in_mask_scores(\n",
      "propagate in video: 100%|██████████| 4/4 [00:01<00:00,  3.45it/s]\n"
     ]
    },
    {
     "name": "stdout",
     "output_type": "stream",
     "text": [
      "RGB shapes:  [(434, 367, 3), (414, 365, 3), (403, 363, 3), (514, 623, 3)]\n",
      "Mask shapes:  [(434, 367), (414, 365), (403, 363), (514, 623)]\n"
     ]
    },
    {
     "name": "stderr",
     "output_type": "stream",
     "text": [
      "frame loading (JPEG): 100%|██████████| 4/4 [00:00<00:00, 27.79it/s]/it]\n",
      "/home/kumaraditya/segment-anything-2/sam2/sam2_video_predictor.py:873: UserWarning: cannot import name '_C' from 'sam2' (/home/kumaraditya/segment-anything-2/sam2/__init__.py)\n",
      "\n",
      "Skipping the post-processing step due to the error above. You can still use SAM 2 and it's OK to ignore the error above, although some post-processing functionality may be limited (which doesn't affect the results in most cases; see https://github.com/facebookresearch/segment-anything-2/blob/main/INSTALL.md).\n",
      "  pred_masks_gpu = fill_holes_in_mask_scores(\n",
      "propagate in video: 100%|██████████| 4/4 [00:01<00:00,  3.50it/s]\n"
     ]
    },
    {
     "name": "stdout",
     "output_type": "stream",
     "text": [
      "RGB shapes:  [(706, 1140, 3), (867, 1160, 3), (805, 1500, 3), (897, 1532, 3)]\n",
      "Mask shapes:  [(706, 1140), (867, 1160), (805, 1500), (897, 1532)]\n"
     ]
    },
    {
     "name": "stderr",
     "output_type": "stream",
     "text": [
      "frame loading (JPEG): 100%|██████████| 4/4 [00:00<00:00, 24.60it/s]/it]\n",
      "/home/kumaraditya/segment-anything-2/sam2/sam2_video_predictor.py:873: UserWarning: cannot import name '_C' from 'sam2' (/home/kumaraditya/segment-anything-2/sam2/__init__.py)\n",
      "\n",
      "Skipping the post-processing step due to the error above. You can still use SAM 2 and it's OK to ignore the error above, although some post-processing functionality may be limited (which doesn't affect the results in most cases; see https://github.com/facebookresearch/segment-anything-2/blob/main/INSTALL.md).\n",
      "  pred_masks_gpu = fill_holes_in_mask_scores(\n",
      "propagate in video: 100%|██████████| 4/4 [00:01<00:00,  3.38it/s]\n"
     ]
    },
    {
     "name": "stdout",
     "output_type": "stream",
     "text": [
      "RGB shapes:  [(1439, 873, 3), (1340, 929, 3), (1439, 845, 3), (1356, 1003, 3)]\n",
      "Mask shapes:  [(1439, 873), (1340, 929), (1439, 845), (1356, 1003)]\n"
     ]
    },
    {
     "name": "stderr",
     "output_type": "stream",
     "text": [
      "frame loading (JPEG): 100%|██████████| 4/4 [00:00<00:00, 40.28it/s]/it]\n",
      "/home/kumaraditya/segment-anything-2/sam2/sam2_video_predictor.py:873: UserWarning: cannot import name '_C' from 'sam2' (/home/kumaraditya/segment-anything-2/sam2/__init__.py)\n",
      "\n",
      "Skipping the post-processing step due to the error above. You can still use SAM 2 and it's OK to ignore the error above, although some post-processing functionality may be limited (which doesn't affect the results in most cases; see https://github.com/facebookresearch/segment-anything-2/blob/main/INSTALL.md).\n",
      "  pred_masks_gpu = fill_holes_in_mask_scores(\n",
      "propagate in video: 100%|██████████| 4/4 [00:01<00:00,  3.44it/s]\n"
     ]
    },
    {
     "name": "stdout",
     "output_type": "stream",
     "text": [
      "RGB shapes:  [(535, 431, 3), (552, 422, 3), (512, 440, 3), (592, 394, 3)]\n",
      "Mask shapes:  [(535, 431), (552, 422), (512, 440), (592, 394)]\n"
     ]
    },
    {
     "name": "stderr",
     "output_type": "stream",
     "text": [
      "frame loading (JPEG): 100%|██████████| 4/4 [00:00<00:00, 40.05it/s]/it]\n",
      "/home/kumaraditya/segment-anything-2/sam2/sam2_video_predictor.py:873: UserWarning: cannot import name '_C' from 'sam2' (/home/kumaraditya/segment-anything-2/sam2/__init__.py)\n",
      "\n",
      "Skipping the post-processing step due to the error above. You can still use SAM 2 and it's OK to ignore the error above, although some post-processing functionality may be limited (which doesn't affect the results in most cases; see https://github.com/facebookresearch/segment-anything-2/blob/main/INSTALL.md).\n",
      "  pred_masks_gpu = fill_holes_in_mask_scores(\n",
      "propagate in video: 100%|██████████| 4/4 [00:01<00:00,  3.40it/s]\n"
     ]
    },
    {
     "name": "stdout",
     "output_type": "stream",
     "text": [
      "RGB shapes:  [(507, 417, 3), (561, 439, 3), (605, 391, 3), (576, 281, 3)]\n",
      "Mask shapes:  [(507, 417), (561, 439), (605, 391), (576, 281)]\n"
     ]
    },
    {
     "name": "stderr",
     "output_type": "stream",
     "text": [
      "frame loading (JPEG): 100%|██████████| 4/4 [00:00<00:00, 46.18it/s]/it]\n",
      "/home/kumaraditya/segment-anything-2/sam2/sam2_video_predictor.py:873: UserWarning: cannot import name '_C' from 'sam2' (/home/kumaraditya/segment-anything-2/sam2/__init__.py)\n",
      "\n",
      "Skipping the post-processing step due to the error above. You can still use SAM 2 and it's OK to ignore the error above, although some post-processing functionality may be limited (which doesn't affect the results in most cases; see https://github.com/facebookresearch/segment-anything-2/blob/main/INSTALL.md).\n",
      "  pred_masks_gpu = fill_holes_in_mask_scores(\n",
      "propagate in video: 100%|██████████| 4/4 [00:01<00:00,  3.39it/s]\n"
     ]
    },
    {
     "name": "stdout",
     "output_type": "stream",
     "text": [
      "RGB shapes:  [(324, 319, 3), (310, 318, 3), (315, 314, 3), (310, 317, 3)]\n",
      "Mask shapes:  [(324, 319), (310, 318), (315, 314), (310, 317)]\n"
     ]
    },
    {
     "name": "stderr",
     "output_type": "stream",
     "text": [
      "frame loading (JPEG): 100%|██████████| 4/4 [00:00<00:00, 45.11it/s]/it]\n",
      "/home/kumaraditya/segment-anything-2/sam2/sam2_video_predictor.py:873: UserWarning: cannot import name '_C' from 'sam2' (/home/kumaraditya/segment-anything-2/sam2/__init__.py)\n",
      "\n",
      "Skipping the post-processing step due to the error above. You can still use SAM 2 and it's OK to ignore the error above, although some post-processing functionality may be limited (which doesn't affect the results in most cases; see https://github.com/facebookresearch/segment-anything-2/blob/main/INSTALL.md).\n",
      "  pred_masks_gpu = fill_holes_in_mask_scores(\n",
      "propagate in video: 100%|██████████| 4/4 [00:01<00:00,  3.38it/s]\n"
     ]
    },
    {
     "name": "stdout",
     "output_type": "stream",
     "text": [
      "RGB shapes:  [(341, 280, 3), (338, 264, 3), (351, 279, 3), (314, 281, 3)]\n",
      "Mask shapes:  [(341, 280), (338, 264), (351, 279), (314, 281)]\n"
     ]
    },
    {
     "name": "stderr",
     "output_type": "stream",
     "text": [
      "frame loading (JPEG): 100%|██████████| 4/4 [00:00<00:00, 44.87it/s]/it]\n",
      "/home/kumaraditya/segment-anything-2/sam2/sam2_video_predictor.py:873: UserWarning: cannot import name '_C' from 'sam2' (/home/kumaraditya/segment-anything-2/sam2/__init__.py)\n",
      "\n",
      "Skipping the post-processing step due to the error above. You can still use SAM 2 and it's OK to ignore the error above, although some post-processing functionality may be limited (which doesn't affect the results in most cases; see https://github.com/facebookresearch/segment-anything-2/blob/main/INSTALL.md).\n",
      "  pred_masks_gpu = fill_holes_in_mask_scores(\n",
      "propagate in video: 100%|██████████| 4/4 [00:01<00:00,  3.50it/s]\n"
     ]
    },
    {
     "name": "stdout",
     "output_type": "stream",
     "text": [
      "RGB shapes:  [(363, 381, 3), (272, 379, 3), (357, 351, 3), (302, 320, 3)]\n",
      "Mask shapes:  [(363, 381), (272, 379), (357, 351), (302, 320)]\n"
     ]
    },
    {
     "name": "stderr",
     "output_type": "stream",
     "text": [
      "frame loading (JPEG): 100%|██████████| 4/4 [00:00<00:00, 46.22it/s]/it]\n",
      "/home/kumaraditya/segment-anything-2/sam2/sam2_video_predictor.py:873: UserWarning: cannot import name '_C' from 'sam2' (/home/kumaraditya/segment-anything-2/sam2/__init__.py)\n",
      "\n",
      "Skipping the post-processing step due to the error above. You can still use SAM 2 and it's OK to ignore the error above, although some post-processing functionality may be limited (which doesn't affect the results in most cases; see https://github.com/facebookresearch/segment-anything-2/blob/main/INSTALL.md).\n",
      "  pred_masks_gpu = fill_holes_in_mask_scores(\n",
      "propagate in video: 100%|██████████| 4/4 [00:01<00:00,  3.46it/s]\n"
     ]
    },
    {
     "name": "stdout",
     "output_type": "stream",
     "text": [
      "RGB shapes:  [(309, 285, 3), (253, 286, 3), (308, 255, 3), (220, 288, 3)]\n",
      "Mask shapes:  [(309, 285), (253, 286), (308, 255), (220, 288)]\n"
     ]
    },
    {
     "name": "stderr",
     "output_type": "stream",
     "text": [
      "frame loading (JPEG): 100%|██████████| 4/4 [00:00<00:00, 36.13it/s]/it]\n",
      "/home/kumaraditya/segment-anything-2/sam2/sam2_video_predictor.py:873: UserWarning: cannot import name '_C' from 'sam2' (/home/kumaraditya/segment-anything-2/sam2/__init__.py)\n",
      "\n",
      "Skipping the post-processing step due to the error above. You can still use SAM 2 and it's OK to ignore the error above, although some post-processing functionality may be limited (which doesn't affect the results in most cases; see https://github.com/facebookresearch/segment-anything-2/blob/main/INSTALL.md).\n",
      "  pred_masks_gpu = fill_holes_in_mask_scores(\n",
      "propagate in video: 100%|██████████| 4/4 [00:01<00:00,  3.44it/s]\n"
     ]
    },
    {
     "name": "stdout",
     "output_type": "stream",
     "text": [
      "RGB shapes:  [(620, 783, 3), (612, 760, 3), (587, 744, 3), (224, 983, 3)]\n",
      "Mask shapes:  [(620, 783), (612, 760), (587, 744), (224, 983)]\n"
     ]
    },
    {
     "name": "stderr",
     "output_type": "stream",
     "text": [
      "frame loading (JPEG): 100%|██████████| 4/4 [00:00<00:00, 45.23it/s]/it]\n",
      "/home/kumaraditya/segment-anything-2/sam2/sam2_video_predictor.py:873: UserWarning: cannot import name '_C' from 'sam2' (/home/kumaraditya/segment-anything-2/sam2/__init__.py)\n",
      "\n",
      "Skipping the post-processing step due to the error above. You can still use SAM 2 and it's OK to ignore the error above, although some post-processing functionality may be limited (which doesn't affect the results in most cases; see https://github.com/facebookresearch/segment-anything-2/blob/main/INSTALL.md).\n",
      "  pred_masks_gpu = fill_holes_in_mask_scores(\n",
      "propagate in video: 100%|██████████| 4/4 [00:01<00:00,  3.47it/s]\n"
     ]
    },
    {
     "name": "stdout",
     "output_type": "stream",
     "text": [
      "RGB shapes:  [(320, 257, 3), (323, 225, 3), (320, 312, 3), (278, 294, 3)]\n",
      "Mask shapes:  [(320, 257), (323, 225), (320, 312), (278, 294)]\n"
     ]
    },
    {
     "name": "stderr",
     "output_type": "stream",
     "text": [
      "frame loading (JPEG): 100%|██████████| 4/4 [00:00<00:00, 46.06it/s]/it]\n",
      "/home/kumaraditya/segment-anything-2/sam2/sam2_video_predictor.py:873: UserWarning: cannot import name '_C' from 'sam2' (/home/kumaraditya/segment-anything-2/sam2/__init__.py)\n",
      "\n",
      "Skipping the post-processing step due to the error above. You can still use SAM 2 and it's OK to ignore the error above, although some post-processing functionality may be limited (which doesn't affect the results in most cases; see https://github.com/facebookresearch/segment-anything-2/blob/main/INSTALL.md).\n",
      "  pred_masks_gpu = fill_holes_in_mask_scores(\n",
      "propagate in video: 100%|██████████| 4/4 [00:01<00:00,  3.39it/s]\n"
     ]
    },
    {
     "name": "stdout",
     "output_type": "stream",
     "text": [
      "RGB shapes:  [(313, 283, 3), (318, 286, 3), (268, 211, 3), (302, 289, 3)]\n",
      "Mask shapes:  [(313, 283), (318, 286), (268, 211), (302, 289)]\n"
     ]
    },
    {
     "name": "stderr",
     "output_type": "stream",
     "text": [
      "frame loading (JPEG): 100%|██████████| 4/4 [00:00<00:00, 30.56it/s]/it]\n",
      "/home/kumaraditya/segment-anything-2/sam2/sam2_video_predictor.py:873: UserWarning: cannot import name '_C' from 'sam2' (/home/kumaraditya/segment-anything-2/sam2/__init__.py)\n",
      "\n",
      "Skipping the post-processing step due to the error above. You can still use SAM 2 and it's OK to ignore the error above, although some post-processing functionality may be limited (which doesn't affect the results in most cases; see https://github.com/facebookresearch/segment-anything-2/blob/main/INSTALL.md).\n",
      "  pred_masks_gpu = fill_holes_in_mask_scores(\n",
      "propagate in video: 100%|██████████| 4/4 [00:01<00:00,  3.44it/s]\n"
     ]
    },
    {
     "name": "stdout",
     "output_type": "stream",
     "text": [
      "RGB shapes:  [(606, 1740, 3), (655, 1764, 3), (537, 1645, 3), (570, 1698, 3)]\n",
      "Mask shapes:  [(606, 1740), (655, 1764), (537, 1645), (570, 1698)]\n"
     ]
    },
    {
     "name": "stderr",
     "output_type": "stream",
     "text": [
      "frame loading (JPEG): 100%|██████████| 4/4 [00:00<00:00, 35.15it/s]/it]\n",
      "/home/kumaraditya/segment-anything-2/sam2/sam2_video_predictor.py:873: UserWarning: cannot import name '_C' from 'sam2' (/home/kumaraditya/segment-anything-2/sam2/__init__.py)\n",
      "\n",
      "Skipping the post-processing step due to the error above. You can still use SAM 2 and it's OK to ignore the error above, although some post-processing functionality may be limited (which doesn't affect the results in most cases; see https://github.com/facebookresearch/segment-anything-2/blob/main/INSTALL.md).\n",
      "  pred_masks_gpu = fill_holes_in_mask_scores(\n",
      "propagate in video: 100%|██████████| 4/4 [00:01<00:00,  3.41it/s]\n"
     ]
    },
    {
     "name": "stdout",
     "output_type": "stream",
     "text": [
      "RGB shapes:  [(383, 1919, 3), (375, 1765, 3), (359, 1365, 3), (368, 1317, 3)]\n",
      "Mask shapes:  [(383, 1919), (375, 1765), (359, 1365), (368, 1317)]\n"
     ]
    },
    {
     "name": "stderr",
     "output_type": "stream",
     "text": [
      "frame loading (JPEG): 100%|██████████| 4/4 [00:00<00:00, 24.53it/s]/it]\n",
      "/home/kumaraditya/segment-anything-2/sam2/sam2_video_predictor.py:873: UserWarning: cannot import name '_C' from 'sam2' (/home/kumaraditya/segment-anything-2/sam2/__init__.py)\n",
      "\n",
      "Skipping the post-processing step due to the error above. You can still use SAM 2 and it's OK to ignore the error above, although some post-processing functionality may be limited (which doesn't affect the results in most cases; see https://github.com/facebookresearch/segment-anything-2/blob/main/INSTALL.md).\n",
      "  pred_masks_gpu = fill_holes_in_mask_scores(\n",
      "propagate in video: 100%|██████████| 4/4 [00:01<00:00,  3.41it/s]\n"
     ]
    },
    {
     "name": "stdout",
     "output_type": "stream",
     "text": [
      "RGB shapes:  [(1439, 1068, 3), (1257, 1127, 3), (1439, 1110, 3), (1348, 1129, 3)]\n",
      "Mask shapes:  [(1439, 1068), (1257, 1127), (1439, 1110), (1348, 1129)]\n"
     ]
    },
    {
     "name": "stderr",
     "output_type": "stream",
     "text": [
      "frame loading (JPEG): 100%|██████████| 4/4 [00:00<00:00, 26.09it/s]/it]\n",
      "/home/kumaraditya/segment-anything-2/sam2/sam2_video_predictor.py:873: UserWarning: cannot import name '_C' from 'sam2' (/home/kumaraditya/segment-anything-2/sam2/__init__.py)\n",
      "\n",
      "Skipping the post-processing step due to the error above. You can still use SAM 2 and it's OK to ignore the error above, although some post-processing functionality may be limited (which doesn't affect the results in most cases; see https://github.com/facebookresearch/segment-anything-2/blob/main/INSTALL.md).\n",
      "  pred_masks_gpu = fill_holes_in_mask_scores(\n",
      "propagate in video: 100%|██████████| 4/4 [00:01<00:00,  3.38it/s]\n"
     ]
    },
    {
     "name": "stdout",
     "output_type": "stream",
     "text": [
      "RGB shapes:  [(1242, 854, 3), (1093, 856, 3), (1035, 641, 3), (1377, 715, 3)]\n",
      "Mask shapes:  [(1242, 854), (1093, 856), (1035, 641), (1377, 715)]\n"
     ]
    },
    {
     "name": "stderr",
     "output_type": "stream",
     "text": [
      "frame loading (JPEG): 100%|██████████| 4/4 [00:00<00:00, 21.90it/s]/it]\n",
      "/home/kumaraditya/segment-anything-2/sam2/sam2_video_predictor.py:873: UserWarning: cannot import name '_C' from 'sam2' (/home/kumaraditya/segment-anything-2/sam2/__init__.py)\n",
      "\n",
      "Skipping the post-processing step due to the error above. You can still use SAM 2 and it's OK to ignore the error above, although some post-processing functionality may be limited (which doesn't affect the results in most cases; see https://github.com/facebookresearch/segment-anything-2/blob/main/INSTALL.md).\n",
      "  pred_masks_gpu = fill_holes_in_mask_scores(\n",
      "propagate in video: 100%|██████████| 4/4 [00:01<00:00,  3.49it/s]\n"
     ]
    },
    {
     "name": "stdout",
     "output_type": "stream",
     "text": [
      "RGB shapes:  [(1439, 1305, 3), (1439, 1289, 3), (1439, 1280, 3), (1395, 1095, 3)]\n",
      "Mask shapes:  [(1439, 1305), (1439, 1289), (1439, 1280), (1395, 1095)]\n"
     ]
    },
    {
     "name": "stderr",
     "output_type": "stream",
     "text": [
      "frame loading (JPEG): 100%|██████████| 4/4 [00:00<00:00, 33.12it/s]/it]\n",
      "/home/kumaraditya/segment-anything-2/sam2/sam2_video_predictor.py:873: UserWarning: cannot import name '_C' from 'sam2' (/home/kumaraditya/segment-anything-2/sam2/__init__.py)\n",
      "\n",
      "Skipping the post-processing step due to the error above. You can still use SAM 2 and it's OK to ignore the error above, although some post-processing functionality may be limited (which doesn't affect the results in most cases; see https://github.com/facebookresearch/segment-anything-2/blob/main/INSTALL.md).\n",
      "  pred_masks_gpu = fill_holes_in_mask_scores(\n",
      "propagate in video: 100%|██████████| 4/4 [00:01<00:00,  3.57it/s]\n"
     ]
    },
    {
     "name": "stdout",
     "output_type": "stream",
     "text": [
      "RGB shapes:  [(674, 838, 3), (729, 880, 3), (703, 912, 3), (686, 863, 3)]\n",
      "Mask shapes:  [(674, 838), (729, 880), (703, 912), (686, 863)]\n"
     ]
    },
    {
     "name": "stderr",
     "output_type": "stream",
     "text": [
      "frame loading (JPEG): 100%|██████████| 4/4 [00:00<00:00, 25.89it/s]/it]\n",
      "/home/kumaraditya/segment-anything-2/sam2/sam2_video_predictor.py:873: UserWarning: cannot import name '_C' from 'sam2' (/home/kumaraditya/segment-anything-2/sam2/__init__.py)\n",
      "\n",
      "Skipping the post-processing step due to the error above. You can still use SAM 2 and it's OK to ignore the error above, although some post-processing functionality may be limited (which doesn't affect the results in most cases; see https://github.com/facebookresearch/segment-anything-2/blob/main/INSTALL.md).\n",
      "  pred_masks_gpu = fill_holes_in_mask_scores(\n",
      "propagate in video: 100%|██████████| 4/4 [00:01<00:00,  3.46it/s]\n"
     ]
    },
    {
     "name": "stdout",
     "output_type": "stream",
     "text": [
      "RGB shapes:  [(1167, 932, 3), (1146, 869, 3), (940, 971, 3), (1383, 814, 3)]\n",
      "Mask shapes:  [(1167, 932), (1146, 869), (940, 971), (1383, 814)]\n"
     ]
    },
    {
     "name": "stderr",
     "output_type": "stream",
     "text": [
      "frame loading (JPEG): 100%|██████████| 4/4 [00:00<00:00, 25.72it/s]/it]\n",
      "/home/kumaraditya/segment-anything-2/sam2/sam2_video_predictor.py:873: UserWarning: cannot import name '_C' from 'sam2' (/home/kumaraditya/segment-anything-2/sam2/__init__.py)\n",
      "\n",
      "Skipping the post-processing step due to the error above. You can still use SAM 2 and it's OK to ignore the error above, although some post-processing functionality may be limited (which doesn't affect the results in most cases; see https://github.com/facebookresearch/segment-anything-2/blob/main/INSTALL.md).\n",
      "  pred_masks_gpu = fill_holes_in_mask_scores(\n",
      "propagate in video: 100%|██████████| 4/4 [00:01<00:00,  3.45it/s]\n"
     ]
    },
    {
     "name": "stdout",
     "output_type": "stream",
     "text": [
      "RGB shapes:  [(1405, 963, 3), (1208, 772, 3), (1234, 829, 3), (1243, 790, 3)]\n",
      "Mask shapes:  [(1405, 963), (1208, 772), (1234, 829), (1243, 790)]\n"
     ]
    },
    {
     "name": "stderr",
     "output_type": "stream",
     "text": [
      "frame loading (JPEG): 100%|██████████| 4/4 [00:00<00:00, 24.09it/s]/it]\n",
      "/home/kumaraditya/segment-anything-2/sam2/sam2_video_predictor.py:873: UserWarning: cannot import name '_C' from 'sam2' (/home/kumaraditya/segment-anything-2/sam2/__init__.py)\n",
      "\n",
      "Skipping the post-processing step due to the error above. You can still use SAM 2 and it's OK to ignore the error above, although some post-processing functionality may be limited (which doesn't affect the results in most cases; see https://github.com/facebookresearch/segment-anything-2/blob/main/INSTALL.md).\n",
      "  pred_masks_gpu = fill_holes_in_mask_scores(\n",
      "propagate in video: 100%|██████████| 4/4 [00:01<00:00,  3.41it/s]\n"
     ]
    },
    {
     "name": "stdout",
     "output_type": "stream",
     "text": [
      "RGB shapes:  [(530, 1264, 3), (501, 1244, 3), (1091, 1670, 3), (856, 941, 3)]\n",
      "Mask shapes:  [(530, 1264), (501, 1244), (1091, 1670), (856, 941)]\n"
     ]
    },
    {
     "name": "stderr",
     "output_type": "stream",
     "text": [
      "frame loading (JPEG): 100%|██████████| 4/4 [00:00<00:00, 24.83it/s]/it]\n",
      "/home/kumaraditya/segment-anything-2/sam2/sam2_video_predictor.py:873: UserWarning: cannot import name '_C' from 'sam2' (/home/kumaraditya/segment-anything-2/sam2/__init__.py)\n",
      "\n",
      "Skipping the post-processing step due to the error above. You can still use SAM 2 and it's OK to ignore the error above, although some post-processing functionality may be limited (which doesn't affect the results in most cases; see https://github.com/facebookresearch/segment-anything-2/blob/main/INSTALL.md).\n",
      "  pred_masks_gpu = fill_holes_in_mask_scores(\n",
      "propagate in video: 100%|██████████| 4/4 [00:01<00:00,  3.38it/s]\n"
     ]
    },
    {
     "name": "stdout",
     "output_type": "stream",
     "text": [
      "RGB shapes:  [(1124, 1359, 3), (1168, 1212, 3), (1175, 1362, 3), (1172, 1291, 3)]\n",
      "Mask shapes:  [(1124, 1359), (1168, 1212), (1175, 1362), (1172, 1291)]\n"
     ]
    },
    {
     "name": "stderr",
     "output_type": "stream",
     "text": [
      "frame loading (JPEG): 100%|██████████| 4/4 [00:00<00:00, 21.82it/s]/it]\n",
      "/home/kumaraditya/segment-anything-2/sam2/sam2_video_predictor.py:873: UserWarning: cannot import name '_C' from 'sam2' (/home/kumaraditya/segment-anything-2/sam2/__init__.py)\n",
      "\n",
      "Skipping the post-processing step due to the error above. You can still use SAM 2 and it's OK to ignore the error above, although some post-processing functionality may be limited (which doesn't affect the results in most cases; see https://github.com/facebookresearch/segment-anything-2/blob/main/INSTALL.md).\n",
      "  pred_masks_gpu = fill_holes_in_mask_scores(\n",
      "propagate in video: 100%|██████████| 4/4 [00:01<00:00,  3.37it/s]\n"
     ]
    },
    {
     "name": "stdout",
     "output_type": "stream",
     "text": [
      "RGB shapes:  [(836, 1919, 3), (751, 1566, 3), (863, 1680, 3), (1181, 1919, 3)]\n",
      "Mask shapes:  [(836, 1919), (751, 1566), (863, 1680), (1181, 1919)]\n"
     ]
    },
    {
     "name": "stderr",
     "output_type": "stream",
     "text": [
      "frame loading (JPEG): 100%|██████████| 4/4 [00:00<00:00, 40.23it/s]/it]\n",
      "/home/kumaraditya/segment-anything-2/sam2/sam2_video_predictor.py:873: UserWarning: cannot import name '_C' from 'sam2' (/home/kumaraditya/segment-anything-2/sam2/__init__.py)\n",
      "\n",
      "Skipping the post-processing step due to the error above. You can still use SAM 2 and it's OK to ignore the error above, although some post-processing functionality may be limited (which doesn't affect the results in most cases; see https://github.com/facebookresearch/segment-anything-2/blob/main/INSTALL.md).\n",
      "  pred_masks_gpu = fill_holes_in_mask_scores(\n",
      "propagate in video: 100%|██████████| 4/4 [00:01<00:00,  3.39it/s]\n"
     ]
    },
    {
     "name": "stdout",
     "output_type": "stream",
     "text": [
      "RGB shapes:  [(541, 736, 3), (507, 735, 3), (497, 751, 3), (542, 734, 3)]\n",
      "Mask shapes:  [(541, 736), (507, 735), (497, 751), (542, 734)]\n"
     ]
    },
    {
     "name": "stderr",
     "output_type": "stream",
     "text": [
      "frame loading (JPEG): 100%|██████████| 4/4 [00:00<00:00, 23.67it/s]/it]\n",
      "/home/kumaraditya/segment-anything-2/sam2/sam2_video_predictor.py:873: UserWarning: cannot import name '_C' from 'sam2' (/home/kumaraditya/segment-anything-2/sam2/__init__.py)\n",
      "\n",
      "Skipping the post-processing step due to the error above. You can still use SAM 2 and it's OK to ignore the error above, although some post-processing functionality may be limited (which doesn't affect the results in most cases; see https://github.com/facebookresearch/segment-anything-2/blob/main/INSTALL.md).\n",
      "  pred_masks_gpu = fill_holes_in_mask_scores(\n",
      "propagate in video: 100%|██████████| 4/4 [00:01<00:00,  3.38it/s]\n"
     ]
    },
    {
     "name": "stdout",
     "output_type": "stream",
     "text": [
      "RGB shapes:  [(1263, 1252, 3), (1304, 1200, 3), (1001, 1183, 3), (953, 1164, 3)]\n",
      "Mask shapes:  [(1263, 1252), (1304, 1200), (1001, 1183), (953, 1164)]\n"
     ]
    },
    {
     "name": "stderr",
     "output_type": "stream",
     "text": [
      "frame loading (JPEG): 100%|██████████| 4/4 [00:00<00:00, 36.47it/s]/it]\n",
      "/home/kumaraditya/segment-anything-2/sam2/sam2_video_predictor.py:873: UserWarning: cannot import name '_C' from 'sam2' (/home/kumaraditya/segment-anything-2/sam2/__init__.py)\n",
      "\n",
      "Skipping the post-processing step due to the error above. You can still use SAM 2 and it's OK to ignore the error above, although some post-processing functionality may be limited (which doesn't affect the results in most cases; see https://github.com/facebookresearch/segment-anything-2/blob/main/INSTALL.md).\n",
      "  pred_masks_gpu = fill_holes_in_mask_scores(\n",
      "propagate in video: 100%|██████████| 4/4 [00:01<00:00,  3.47it/s]\n"
     ]
    },
    {
     "name": "stdout",
     "output_type": "stream",
     "text": [
      "RGB shapes:  [(676, 916, 3), (615, 885, 3), (611, 918, 3), (645, 892, 3)]\n",
      "Mask shapes:  [(676, 916), (615, 885), (611, 918), (645, 892)]\n"
     ]
    },
    {
     "name": "stderr",
     "output_type": "stream",
     "text": [
      "frame loading (JPEG): 100%|██████████| 4/4 [00:00<00:00, 33.45it/s]/it]\n",
      "/home/kumaraditya/segment-anything-2/sam2/sam2_video_predictor.py:873: UserWarning: cannot import name '_C' from 'sam2' (/home/kumaraditya/segment-anything-2/sam2/__init__.py)\n",
      "\n",
      "Skipping the post-processing step due to the error above. You can still use SAM 2 and it's OK to ignore the error above, although some post-processing functionality may be limited (which doesn't affect the results in most cases; see https://github.com/facebookresearch/segment-anything-2/blob/main/INSTALL.md).\n",
      "  pred_masks_gpu = fill_holes_in_mask_scores(\n",
      "propagate in video: 100%|██████████| 4/4 [00:01<00:00,  3.39it/s]\n"
     ]
    },
    {
     "name": "stdout",
     "output_type": "stream",
     "text": [
      "RGB shapes:  [(852, 714, 3), (845, 722, 3), (854, 714, 3), (841, 725, 3)]\n",
      "Mask shapes:  [(852, 714), (845, 722), (854, 714), (841, 725)]\n"
     ]
    },
    {
     "name": "stderr",
     "output_type": "stream",
     "text": [
      "frame loading (JPEG): 100%|██████████| 4/4 [00:00<00:00, 33.59it/s]/it]\n",
      "/home/kumaraditya/segment-anything-2/sam2/sam2_video_predictor.py:873: UserWarning: cannot import name '_C' from 'sam2' (/home/kumaraditya/segment-anything-2/sam2/__init__.py)\n",
      "\n",
      "Skipping the post-processing step due to the error above. You can still use SAM 2 and it's OK to ignore the error above, although some post-processing functionality may be limited (which doesn't affect the results in most cases; see https://github.com/facebookresearch/segment-anything-2/blob/main/INSTALL.md).\n",
      "  pred_masks_gpu = fill_holes_in_mask_scores(\n",
      "propagate in video: 100%|██████████| 4/4 [00:01<00:00,  3.36it/s]\n"
     ]
    },
    {
     "name": "stdout",
     "output_type": "stream",
     "text": [
      "RGB shapes:  [(774, 868, 3), (766, 820, 3), (792, 792, 3), (782, 799, 3)]\n",
      "Mask shapes:  [(774, 868), (766, 820), (792, 792), (782, 799)]\n"
     ]
    },
    {
     "name": "stderr",
     "output_type": "stream",
     "text": [
      "frame loading (JPEG): 100%|██████████| 4/4 [00:00<00:00, 33.98it/s]/it]\n",
      "/home/kumaraditya/segment-anything-2/sam2/sam2_video_predictor.py:873: UserWarning: cannot import name '_C' from 'sam2' (/home/kumaraditya/segment-anything-2/sam2/__init__.py)\n",
      "\n",
      "Skipping the post-processing step due to the error above. You can still use SAM 2 and it's OK to ignore the error above, although some post-processing functionality may be limited (which doesn't affect the results in most cases; see https://github.com/facebookresearch/segment-anything-2/blob/main/INSTALL.md).\n",
      "  pred_masks_gpu = fill_holes_in_mask_scores(\n",
      "propagate in video: 100%|██████████| 4/4 [00:01<00:00,  3.45it/s]\n"
     ]
    },
    {
     "name": "stdout",
     "output_type": "stream",
     "text": [
      "RGB shapes:  [(885, 758, 3), (856, 727, 3), (790, 854, 3), (797, 821, 3)]\n",
      "Mask shapes:  [(885, 758), (856, 727), (790, 854), (797, 821)]\n"
     ]
    },
    {
     "name": "stderr",
     "output_type": "stream",
     "text": [
      "frame loading (JPEG): 100%|██████████| 4/4 [00:00<00:00, 33.35it/s]/it]\n",
      "/home/kumaraditya/segment-anything-2/sam2/sam2_video_predictor.py:873: UserWarning: cannot import name '_C' from 'sam2' (/home/kumaraditya/segment-anything-2/sam2/__init__.py)\n",
      "\n",
      "Skipping the post-processing step due to the error above. You can still use SAM 2 and it's OK to ignore the error above, although some post-processing functionality may be limited (which doesn't affect the results in most cases; see https://github.com/facebookresearch/segment-anything-2/blob/main/INSTALL.md).\n",
      "  pred_masks_gpu = fill_holes_in_mask_scores(\n",
      "propagate in video: 100%|██████████| 4/4 [00:01<00:00,  3.39it/s]\n"
     ]
    },
    {
     "name": "stdout",
     "output_type": "stream",
     "text": [
      "RGB shapes:  [(765, 895, 3), (793, 984, 3), (828, 897, 3), (762, 933, 3)]\n",
      "Mask shapes:  [(765, 895), (793, 984), (828, 897), (762, 933)]\n"
     ]
    },
    {
     "name": "stderr",
     "output_type": "stream",
     "text": [
      "frame loading (JPEG): 100%|██████████| 4/4 [00:00<00:00, 24.05it/s]/it]\n",
      "/home/kumaraditya/segment-anything-2/sam2/sam2_video_predictor.py:873: UserWarning: cannot import name '_C' from 'sam2' (/home/kumaraditya/segment-anything-2/sam2/__init__.py)\n",
      "\n",
      "Skipping the post-processing step due to the error above. You can still use SAM 2 and it's OK to ignore the error above, although some post-processing functionality may be limited (which doesn't affect the results in most cases; see https://github.com/facebookresearch/segment-anything-2/blob/main/INSTALL.md).\n",
      "  pred_masks_gpu = fill_holes_in_mask_scores(\n",
      "propagate in video: 100%|██████████| 4/4 [00:01<00:00,  3.50it/s]\n"
     ]
    },
    {
     "name": "stdout",
     "output_type": "stream",
     "text": [
      "RGB shapes:  [(1106, 1115, 3), (1124, 1149, 3), (1109, 1168, 3), (1374, 1196, 3)]\n",
      "Mask shapes:  [(1106, 1115), (1124, 1149), (1109, 1168), (1374, 1196)]\n"
     ]
    },
    {
     "name": "stderr",
     "output_type": "stream",
     "text": [
      "frame loading (JPEG): 100%|██████████| 4/4 [00:00<00:00, 32.48it/s]/it]\n",
      "/home/kumaraditya/segment-anything-2/sam2/sam2_video_predictor.py:873: UserWarning: cannot import name '_C' from 'sam2' (/home/kumaraditya/segment-anything-2/sam2/__init__.py)\n",
      "\n",
      "Skipping the post-processing step due to the error above. You can still use SAM 2 and it's OK to ignore the error above, although some post-processing functionality may be limited (which doesn't affect the results in most cases; see https://github.com/facebookresearch/segment-anything-2/blob/main/INSTALL.md).\n",
      "  pred_masks_gpu = fill_holes_in_mask_scores(\n",
      "propagate in video: 100%|██████████| 4/4 [00:01<00:00,  3.46it/s]\n"
     ]
    },
    {
     "name": "stdout",
     "output_type": "stream",
     "text": [
      "RGB shapes:  [(718, 1175, 3), (703, 1232, 3), (705, 1195, 3), (749, 1156, 3)]\n",
      "Mask shapes:  [(718, 1175), (703, 1232), (705, 1195), (749, 1156)]\n"
     ]
    },
    {
     "name": "stderr",
     "output_type": "stream",
     "text": [
      "frame loading (JPEG): 100%|██████████| 4/4 [00:00<00:00, 23.32it/s]/it]\n",
      "/home/kumaraditya/segment-anything-2/sam2/sam2_video_predictor.py:873: UserWarning: cannot import name '_C' from 'sam2' (/home/kumaraditya/segment-anything-2/sam2/__init__.py)\n",
      "\n",
      "Skipping the post-processing step due to the error above. You can still use SAM 2 and it's OK to ignore the error above, although some post-processing functionality may be limited (which doesn't affect the results in most cases; see https://github.com/facebookresearch/segment-anything-2/blob/main/INSTALL.md).\n",
      "  pred_masks_gpu = fill_holes_in_mask_scores(\n",
      "propagate in video: 100%|██████████| 4/4 [00:01<00:00,  3.38it/s]\n"
     ]
    },
    {
     "name": "stdout",
     "output_type": "stream",
     "text": [
      "RGB shapes:  [(1424, 1219, 3), (1439, 1252, 3), (1242, 1249, 3), (1410, 1019, 3)]\n",
      "Mask shapes:  [(1424, 1219), (1439, 1252), (1242, 1249), (1410, 1019)]\n"
     ]
    },
    {
     "name": "stderr",
     "output_type": "stream",
     "text": [
      "frame loading (JPEG): 100%|██████████| 4/4 [00:00<00:00, 21.24it/s]/it]\n",
      "/home/kumaraditya/segment-anything-2/sam2/sam2_video_predictor.py:873: UserWarning: cannot import name '_C' from 'sam2' (/home/kumaraditya/segment-anything-2/sam2/__init__.py)\n",
      "\n",
      "Skipping the post-processing step due to the error above. You can still use SAM 2 and it's OK to ignore the error above, although some post-processing functionality may be limited (which doesn't affect the results in most cases; see https://github.com/facebookresearch/segment-anything-2/blob/main/INSTALL.md).\n",
      "  pred_masks_gpu = fill_holes_in_mask_scores(\n",
      "propagate in video: 100%|██████████| 4/4 [00:01<00:00,  3.43it/s]\n"
     ]
    },
    {
     "name": "stdout",
     "output_type": "stream",
     "text": [
      "RGB shapes:  [(1157, 1303, 3), (1191, 1335, 3), (1339, 1586, 3), (1220, 1329, 3)]\n",
      "Mask shapes:  [(1157, 1303), (1191, 1335), (1339, 1586), (1220, 1329)]\n"
     ]
    },
    {
     "name": "stderr",
     "output_type": "stream",
     "text": [
      "frame loading (JPEG): 100%|██████████| 4/4 [00:00<00:00, 29.98it/s]/it]\n",
      "/home/kumaraditya/segment-anything-2/sam2/sam2_video_predictor.py:873: UserWarning: cannot import name '_C' from 'sam2' (/home/kumaraditya/segment-anything-2/sam2/__init__.py)\n",
      "\n",
      "Skipping the post-processing step due to the error above. You can still use SAM 2 and it's OK to ignore the error above, although some post-processing functionality may be limited (which doesn't affect the results in most cases; see https://github.com/facebookresearch/segment-anything-2/blob/main/INSTALL.md).\n",
      "  pred_masks_gpu = fill_holes_in_mask_scores(\n",
      "propagate in video: 100%|██████████| 4/4 [00:01<00:00,  3.39it/s]\n"
     ]
    },
    {
     "name": "stdout",
     "output_type": "stream",
     "text": [
      "RGB shapes:  [(987, 1027, 3), (934, 1007, 3), (978, 1063, 3), (978, 1066, 3)]\n",
      "Mask shapes:  [(987, 1027), (934, 1007), (978, 1063), (978, 1066)]\n"
     ]
    },
    {
     "name": "stderr",
     "output_type": "stream",
     "text": [
      "frame loading (JPEG): 100%|██████████| 4/4 [00:00<00:00, 40.70it/s]/it]\n",
      "/home/kumaraditya/segment-anything-2/sam2/sam2_video_predictor.py:873: UserWarning: cannot import name '_C' from 'sam2' (/home/kumaraditya/segment-anything-2/sam2/__init__.py)\n",
      "\n",
      "Skipping the post-processing step due to the error above. You can still use SAM 2 and it's OK to ignore the error above, although some post-processing functionality may be limited (which doesn't affect the results in most cases; see https://github.com/facebookresearch/segment-anything-2/blob/main/INSTALL.md).\n",
      "  pred_masks_gpu = fill_holes_in_mask_scores(\n",
      "propagate in video: 100%|██████████| 4/4 [00:01<00:00,  3.51it/s]\n"
     ]
    },
    {
     "name": "stdout",
     "output_type": "stream",
     "text": [
      "RGB shapes:  [(372, 713, 3), (443, 707, 3), (448, 694, 3), (440, 660, 3)]\n",
      "Mask shapes:  [(372, 713), (443, 707), (448, 694), (440, 660)]\n"
     ]
    },
    {
     "name": "stderr",
     "output_type": "stream",
     "text": [
      "frame loading (JPEG): 100%|██████████| 4/4 [00:00<00:00, 27.96it/s]/it]\n",
      "/home/kumaraditya/segment-anything-2/sam2/sam2_video_predictor.py:873: UserWarning: cannot import name '_C' from 'sam2' (/home/kumaraditya/segment-anything-2/sam2/__init__.py)\n",
      "\n",
      "Skipping the post-processing step due to the error above. You can still use SAM 2 and it's OK to ignore the error above, although some post-processing functionality may be limited (which doesn't affect the results in most cases; see https://github.com/facebookresearch/segment-anything-2/blob/main/INSTALL.md).\n",
      "  pred_masks_gpu = fill_holes_in_mask_scores(\n",
      "propagate in video: 100%|██████████| 4/4 [00:01<00:00,  3.38it/s]\n"
     ]
    },
    {
     "name": "stdout",
     "output_type": "stream",
     "text": [
      "RGB shapes:  [(1219, 971, 3), (1202, 996, 3), (950, 805, 3), (867, 848, 3)]\n",
      "Mask shapes:  [(1219, 971), (1202, 996), (950, 805), (867, 848)]\n"
     ]
    },
    {
     "name": "stderr",
     "output_type": "stream",
     "text": [
      "frame loading (JPEG): 100%|██████████| 4/4 [00:00<00:00, 34.64it/s]/it]\n",
      "/home/kumaraditya/segment-anything-2/sam2/sam2_video_predictor.py:873: UserWarning: cannot import name '_C' from 'sam2' (/home/kumaraditya/segment-anything-2/sam2/__init__.py)\n",
      "\n",
      "Skipping the post-processing step due to the error above. You can still use SAM 2 and it's OK to ignore the error above, although some post-processing functionality may be limited (which doesn't affect the results in most cases; see https://github.com/facebookresearch/segment-anything-2/blob/main/INSTALL.md).\n",
      "  pred_masks_gpu = fill_holes_in_mask_scores(\n",
      "propagate in video: 100%|██████████| 4/4 [00:01<00:00,  3.38it/s]\n"
     ]
    },
    {
     "name": "stdout",
     "output_type": "stream",
     "text": [
      "RGB shapes:  [(786, 632, 3), (775, 617, 3), (768, 600, 3), (763, 590, 3)]\n",
      "Mask shapes:  [(786, 632), (775, 617), (768, 600), (763, 590)]\n"
     ]
    },
    {
     "name": "stderr",
     "output_type": "stream",
     "text": [
      "frame loading (JPEG): 100%|██████████| 4/4 [00:00<00:00, 35.79it/s]/it]\n",
      "/home/kumaraditya/segment-anything-2/sam2/sam2_video_predictor.py:873: UserWarning: cannot import name '_C' from 'sam2' (/home/kumaraditya/segment-anything-2/sam2/__init__.py)\n",
      "\n",
      "Skipping the post-processing step due to the error above. You can still use SAM 2 and it's OK to ignore the error above, although some post-processing functionality may be limited (which doesn't affect the results in most cases; see https://github.com/facebookresearch/segment-anything-2/blob/main/INSTALL.md).\n",
      "  pred_masks_gpu = fill_holes_in_mask_scores(\n",
      "propagate in video: 100%|██████████| 4/4 [00:01<00:00,  3.39it/s]\n"
     ]
    },
    {
     "name": "stdout",
     "output_type": "stream",
     "text": [
      "RGB shapes:  [(719, 545, 3), (726, 558, 3), (720, 552, 3), (754, 575, 3)]\n",
      "Mask shapes:  [(719, 545), (726, 558), (720, 552), (754, 575)]\n"
     ]
    },
    {
     "name": "stderr",
     "output_type": "stream",
     "text": [
      "frame loading (JPEG): 100%|██████████| 4/4 [00:00<00:00, 37.23it/s]/it]\n",
      "/home/kumaraditya/segment-anything-2/sam2/sam2_video_predictor.py:873: UserWarning: cannot import name '_C' from 'sam2' (/home/kumaraditya/segment-anything-2/sam2/__init__.py)\n",
      "\n",
      "Skipping the post-processing step due to the error above. You can still use SAM 2 and it's OK to ignore the error above, although some post-processing functionality may be limited (which doesn't affect the results in most cases; see https://github.com/facebookresearch/segment-anything-2/blob/main/INSTALL.md).\n",
      "  pred_masks_gpu = fill_holes_in_mask_scores(\n",
      "propagate in video: 100%|██████████| 4/4 [00:01<00:00,  3.38it/s]\n"
     ]
    },
    {
     "name": "stdout",
     "output_type": "stream",
     "text": [
      "RGB shapes:  [(578, 614, 3), (605, 559, 3), (596, 559, 3), (638, 608, 3)]\n",
      "Mask shapes:  [(578, 614), (605, 559), (596, 559), (638, 608)]\n"
     ]
    },
    {
     "name": "stderr",
     "output_type": "stream",
     "text": [
      "frame loading (JPEG): 100%|██████████| 4/4 [00:00<00:00, 41.00it/s]/it]\n",
      "/home/kumaraditya/segment-anything-2/sam2/sam2_video_predictor.py:873: UserWarning: cannot import name '_C' from 'sam2' (/home/kumaraditya/segment-anything-2/sam2/__init__.py)\n",
      "\n",
      "Skipping the post-processing step due to the error above. You can still use SAM 2 and it's OK to ignore the error above, although some post-processing functionality may be limited (which doesn't affect the results in most cases; see https://github.com/facebookresearch/segment-anything-2/blob/main/INSTALL.md).\n",
      "  pred_masks_gpu = fill_holes_in_mask_scores(\n",
      "propagate in video: 100%|██████████| 4/4 [00:01<00:00,  3.39it/s]\n"
     ]
    },
    {
     "name": "stdout",
     "output_type": "stream",
     "text": [
      "RGB shapes:  [(545, 423, 3), (546, 448, 3), (507, 494, 3), (469, 489, 3)]\n",
      "Mask shapes:  [(545, 423), (546, 448), (507, 494), (469, 489)]\n"
     ]
    },
    {
     "name": "stderr",
     "output_type": "stream",
     "text": [
      "frame loading (JPEG): 100%|██████████| 4/4 [00:00<00:00, 44.53it/s]/it]\n",
      "/home/kumaraditya/segment-anything-2/sam2/sam2_video_predictor.py:873: UserWarning: cannot import name '_C' from 'sam2' (/home/kumaraditya/segment-anything-2/sam2/__init__.py)\n",
      "\n",
      "Skipping the post-processing step due to the error above. You can still use SAM 2 and it's OK to ignore the error above, although some post-processing functionality may be limited (which doesn't affect the results in most cases; see https://github.com/facebookresearch/segment-anything-2/blob/main/INSTALL.md).\n",
      "  pred_masks_gpu = fill_holes_in_mask_scores(\n",
      "propagate in video: 100%|██████████| 4/4 [00:01<00:00,  3.36it/s]\n"
     ]
    },
    {
     "name": "stdout",
     "output_type": "stream",
     "text": [
      "RGB shapes:  [(387, 303, 3), (394, 342, 3), (398, 339, 3), (360, 330, 3)]\n",
      "Mask shapes:  [(387, 303), (394, 342), (398, 339), (360, 330)]\n"
     ]
    },
    {
     "name": "stderr",
     "output_type": "stream",
     "text": [
      "frame loading (JPEG): 100%|██████████| 4/4 [00:00<00:00, 37.03it/s]/it]\n",
      "/home/kumaraditya/segment-anything-2/sam2/sam2_video_predictor.py:873: UserWarning: cannot import name '_C' from 'sam2' (/home/kumaraditya/segment-anything-2/sam2/__init__.py)\n",
      "\n",
      "Skipping the post-processing step due to the error above. You can still use SAM 2 and it's OK to ignore the error above, although some post-processing functionality may be limited (which doesn't affect the results in most cases; see https://github.com/facebookresearch/segment-anything-2/blob/main/INSTALL.md).\n",
      "  pred_masks_gpu = fill_holes_in_mask_scores(\n",
      "propagate in video: 100%|██████████| 4/4 [00:01<00:00,  3.38it/s]\n"
     ]
    },
    {
     "name": "stdout",
     "output_type": "stream",
     "text": [
      "RGB shapes:  [(496, 881, 3), (505, 837, 3), (551, 958, 3), (516, 907, 3)]\n",
      "Mask shapes:  [(496, 881), (505, 837), (551, 958), (516, 907)]\n"
     ]
    },
    {
     "name": "stderr",
     "output_type": "stream",
     "text": [
      "frame loading (JPEG): 100%|██████████| 4/4 [00:00<00:00, 33.62it/s]/it]\n",
      "/home/kumaraditya/segment-anything-2/sam2/sam2_video_predictor.py:873: UserWarning: cannot import name '_C' from 'sam2' (/home/kumaraditya/segment-anything-2/sam2/__init__.py)\n",
      "\n",
      "Skipping the post-processing step due to the error above. You can still use SAM 2 and it's OK to ignore the error above, although some post-processing functionality may be limited (which doesn't affect the results in most cases; see https://github.com/facebookresearch/segment-anything-2/blob/main/INSTALL.md).\n",
      "  pred_masks_gpu = fill_holes_in_mask_scores(\n",
      "propagate in video: 100%|██████████| 4/4 [00:01<00:00,  3.37it/s]\n"
     ]
    },
    {
     "name": "stdout",
     "output_type": "stream",
     "text": [
      "RGB shapes:  [(829, 901, 3), (859, 917, 3), (798, 852, 3), (711, 791, 3)]\n",
      "Mask shapes:  [(829, 901), (859, 917), (798, 852), (711, 791)]\n"
     ]
    },
    {
     "name": "stderr",
     "output_type": "stream",
     "text": [
      "frame loading (JPEG): 100%|██████████| 4/4 [00:00<00:00, 34.23it/s]/it]\n",
      "/home/kumaraditya/segment-anything-2/sam2/sam2_video_predictor.py:873: UserWarning: cannot import name '_C' from 'sam2' (/home/kumaraditya/segment-anything-2/sam2/__init__.py)\n",
      "\n",
      "Skipping the post-processing step due to the error above. You can still use SAM 2 and it's OK to ignore the error above, although some post-processing functionality may be limited (which doesn't affect the results in most cases; see https://github.com/facebookresearch/segment-anything-2/blob/main/INSTALL.md).\n",
      "  pred_masks_gpu = fill_holes_in_mask_scores(\n",
      "propagate in video: 100%|██████████| 4/4 [00:01<00:00,  3.43it/s]\n"
     ]
    },
    {
     "name": "stdout",
     "output_type": "stream",
     "text": [
      "RGB shapes:  [(800, 848, 3), (804, 849, 3), (808, 887, 3), (805, 773, 3)]\n",
      "Mask shapes:  [(800, 848), (804, 849), (808, 887), (805, 773)]\n"
     ]
    },
    {
     "name": "stderr",
     "output_type": "stream",
     "text": [
      "frame loading (JPEG): 100%|██████████| 4/4 [00:00<00:00, 39.09it/s]/it]\n",
      "/home/kumaraditya/segment-anything-2/sam2/sam2_video_predictor.py:873: UserWarning: cannot import name '_C' from 'sam2' (/home/kumaraditya/segment-anything-2/sam2/__init__.py)\n",
      "\n",
      "Skipping the post-processing step due to the error above. You can still use SAM 2 and it's OK to ignore the error above, although some post-processing functionality may be limited (which doesn't affect the results in most cases; see https://github.com/facebookresearch/segment-anything-2/blob/main/INSTALL.md).\n",
      "  pred_masks_gpu = fill_holes_in_mask_scores(\n",
      "propagate in video: 100%|██████████| 4/4 [00:01<00:00,  3.40it/s]\n"
     ]
    },
    {
     "name": "stdout",
     "output_type": "stream",
     "text": [
      "RGB shapes:  [(515, 601, 3), (535, 488, 3), (518, 555, 3), (510, 447, 3)]\n",
      "Mask shapes:  [(515, 601), (535, 488), (518, 555), (510, 447)]\n"
     ]
    },
    {
     "name": "stderr",
     "output_type": "stream",
     "text": [
      "frame loading (JPEG): 100%|██████████| 4/4 [00:00<00:00, 35.55it/s]/it]\n",
      "/home/kumaraditya/segment-anything-2/sam2/sam2_video_predictor.py:873: UserWarning: cannot import name '_C' from 'sam2' (/home/kumaraditya/segment-anything-2/sam2/__init__.py)\n",
      "\n",
      "Skipping the post-processing step due to the error above. You can still use SAM 2 and it's OK to ignore the error above, although some post-processing functionality may be limited (which doesn't affect the results in most cases; see https://github.com/facebookresearch/segment-anything-2/blob/main/INSTALL.md).\n",
      "  pred_masks_gpu = fill_holes_in_mask_scores(\n",
      "propagate in video: 100%|██████████| 4/4 [00:01<00:00,  3.44it/s]\n"
     ]
    },
    {
     "name": "stdout",
     "output_type": "stream",
     "text": [
      "RGB shapes:  [(618, 650, 3), (693, 619, 3), (716, 341, 3), (675, 307, 3)]\n",
      "Mask shapes:  [(618, 650), (693, 619), (716, 341), (675, 307)]\n"
     ]
    },
    {
     "name": "stderr",
     "output_type": "stream",
     "text": [
      "frame loading (JPEG): 100%|██████████| 4/4 [00:00<00:00, 38.29it/s]/it]\n",
      "/home/kumaraditya/segment-anything-2/sam2/sam2_video_predictor.py:873: UserWarning: cannot import name '_C' from 'sam2' (/home/kumaraditya/segment-anything-2/sam2/__init__.py)\n",
      "\n",
      "Skipping the post-processing step due to the error above. You can still use SAM 2 and it's OK to ignore the error above, although some post-processing functionality may be limited (which doesn't affect the results in most cases; see https://github.com/facebookresearch/segment-anything-2/blob/main/INSTALL.md).\n",
      "  pred_masks_gpu = fill_holes_in_mask_scores(\n",
      "propagate in video: 100%|██████████| 4/4 [00:01<00:00,  3.38it/s]\n"
     ]
    },
    {
     "name": "stdout",
     "output_type": "stream",
     "text": [
      "RGB shapes:  [(528, 696, 3), (510, 741, 3), (523, 709, 3), (564, 676, 3)]\n",
      "Mask shapes:  [(528, 696), (510, 741), (523, 709), (564, 676)]\n"
     ]
    },
    {
     "name": "stderr",
     "output_type": "stream",
     "text": [
      "frame loading (JPEG): 100%|██████████| 4/4 [00:00<00:00, 45.54it/s]/it]\n",
      "/home/kumaraditya/segment-anything-2/sam2/sam2_video_predictor.py:873: UserWarning: cannot import name '_C' from 'sam2' (/home/kumaraditya/segment-anything-2/sam2/__init__.py)\n",
      "\n",
      "Skipping the post-processing step due to the error above. You can still use SAM 2 and it's OK to ignore the error above, although some post-processing functionality may be limited (which doesn't affect the results in most cases; see https://github.com/facebookresearch/segment-anything-2/blob/main/INSTALL.md).\n",
      "  pred_masks_gpu = fill_holes_in_mask_scores(\n",
      "propagate in video: 100%|██████████| 4/4 [00:01<00:00,  3.40it/s]\n"
     ]
    },
    {
     "name": "stdout",
     "output_type": "stream",
     "text": [
      "RGB shapes:  [(290, 440, 3), (292, 426, 3), (309, 408, 3), (295, 418, 3)]\n",
      "Mask shapes:  [(290, 440), (292, 426), (309, 408), (295, 418)]\n"
     ]
    },
    {
     "name": "stderr",
     "output_type": "stream",
     "text": [
      "frame loading (JPEG): 100%|██████████| 4/4 [00:00<00:00, 37.99it/s]/it]\n",
      "/home/kumaraditya/segment-anything-2/sam2/sam2_video_predictor.py:873: UserWarning: cannot import name '_C' from 'sam2' (/home/kumaraditya/segment-anything-2/sam2/__init__.py)\n",
      "\n",
      "Skipping the post-processing step due to the error above. You can still use SAM 2 and it's OK to ignore the error above, although some post-processing functionality may be limited (which doesn't affect the results in most cases; see https://github.com/facebookresearch/segment-anything-2/blob/main/INSTALL.md).\n",
      "  pred_masks_gpu = fill_holes_in_mask_scores(\n",
      "propagate in video: 100%|██████████| 4/4 [00:01<00:00,  3.40it/s]\n"
     ]
    },
    {
     "name": "stdout",
     "output_type": "stream",
     "text": [
      "RGB shapes:  [(657, 428, 3), (644, 479, 3), (644, 466, 3), (668, 454, 3)]\n",
      "Mask shapes:  [(657, 428), (644, 479), (644, 466), (668, 454)]\n"
     ]
    },
    {
     "name": "stderr",
     "output_type": "stream",
     "text": [
      "frame loading (JPEG): 100%|██████████| 4/4 [00:00<00:00, 37.57it/s]/it]\n",
      "/home/kumaraditya/segment-anything-2/sam2/sam2_video_predictor.py:873: UserWarning: cannot import name '_C' from 'sam2' (/home/kumaraditya/segment-anything-2/sam2/__init__.py)\n",
      "\n",
      "Skipping the post-processing step due to the error above. You can still use SAM 2 and it's OK to ignore the error above, although some post-processing functionality may be limited (which doesn't affect the results in most cases; see https://github.com/facebookresearch/segment-anything-2/blob/main/INSTALL.md).\n",
      "  pred_masks_gpu = fill_holes_in_mask_scores(\n",
      "propagate in video: 100%|██████████| 4/4 [00:01<00:00,  3.40it/s]\n"
     ]
    },
    {
     "name": "stdout",
     "output_type": "stream",
     "text": [
      "RGB shapes:  [(577, 768, 3), (561, 750, 3), (631, 781, 3), (553, 791, 3)]\n",
      "Mask shapes:  [(577, 768), (561, 750), (631, 781), (553, 791)]\n"
     ]
    },
    {
     "name": "stderr",
     "output_type": "stream",
     "text": [
      "frame loading (JPEG): 100%|██████████| 4/4 [00:00<00:00, 42.32it/s]/it]\n",
      "/home/kumaraditya/segment-anything-2/sam2/sam2_video_predictor.py:873: UserWarning: cannot import name '_C' from 'sam2' (/home/kumaraditya/segment-anything-2/sam2/__init__.py)\n",
      "\n",
      "Skipping the post-processing step due to the error above. You can still use SAM 2 and it's OK to ignore the error above, although some post-processing functionality may be limited (which doesn't affect the results in most cases; see https://github.com/facebookresearch/segment-anything-2/blob/main/INSTALL.md).\n",
      "  pred_masks_gpu = fill_holes_in_mask_scores(\n",
      "propagate in video: 100%|██████████| 4/4 [00:01<00:00,  3.45it/s]\n"
     ]
    },
    {
     "name": "stdout",
     "output_type": "stream",
     "text": [
      "RGB shapes:  [(463, 292, 3), (448, 276, 3), (476, 299, 3), (401, 266, 3)]\n",
      "Mask shapes:  [(463, 292), (448, 276), (476, 299), (401, 266)]\n"
     ]
    },
    {
     "name": "stderr",
     "output_type": "stream",
     "text": [
      "frame loading (JPEG): 100%|██████████| 4/4 [00:00<00:00, 43.04it/s]/it]\n",
      "/home/kumaraditya/segment-anything-2/sam2/sam2_video_predictor.py:873: UserWarning: cannot import name '_C' from 'sam2' (/home/kumaraditya/segment-anything-2/sam2/__init__.py)\n",
      "\n",
      "Skipping the post-processing step due to the error above. You can still use SAM 2 and it's OK to ignore the error above, although some post-processing functionality may be limited (which doesn't affect the results in most cases; see https://github.com/facebookresearch/segment-anything-2/blob/main/INSTALL.md).\n",
      "  pred_masks_gpu = fill_holes_in_mask_scores(\n",
      "propagate in video: 100%|██████████| 4/4 [00:01<00:00,  3.37it/s]\n"
     ]
    },
    {
     "name": "stdout",
     "output_type": "stream",
     "text": [
      "RGB shapes:  [(419, 402, 3), (462, 399, 3), (450, 410, 3), (452, 404, 3)]\n",
      "Mask shapes:  [(419, 402), (462, 399), (450, 410), (452, 404)]\n"
     ]
    },
    {
     "name": "stderr",
     "output_type": "stream",
     "text": [
      "frame loading (JPEG): 100%|██████████| 4/4 [00:00<00:00, 32.41it/s]/it]\n",
      "/home/kumaraditya/segment-anything-2/sam2/sam2_video_predictor.py:873: UserWarning: cannot import name '_C' from 'sam2' (/home/kumaraditya/segment-anything-2/sam2/__init__.py)\n",
      "\n",
      "Skipping the post-processing step due to the error above. You can still use SAM 2 and it's OK to ignore the error above, although some post-processing functionality may be limited (which doesn't affect the results in most cases; see https://github.com/facebookresearch/segment-anything-2/blob/main/INSTALL.md).\n",
      "  pred_masks_gpu = fill_holes_in_mask_scores(\n",
      "propagate in video: 100%|██████████| 4/4 [00:01<00:00,  3.43it/s]\n"
     ]
    },
    {
     "name": "stdout",
     "output_type": "stream",
     "text": [
      "RGB shapes:  [(644, 1139, 3), (689, 1266, 3), (663, 1244, 3), (653, 1292, 3)]\n",
      "Mask shapes:  [(644, 1139), (689, 1266), (663, 1244), (653, 1292)]\n"
     ]
    },
    {
     "name": "stderr",
     "output_type": "stream",
     "text": [
      "frame loading (JPEG): 100%|██████████| 4/4 [00:00<00:00, 43.70it/s]/it]\n",
      "/home/kumaraditya/segment-anything-2/sam2/sam2_video_predictor.py:873: UserWarning: cannot import name '_C' from 'sam2' (/home/kumaraditya/segment-anything-2/sam2/__init__.py)\n",
      "\n",
      "Skipping the post-processing step due to the error above. You can still use SAM 2 and it's OK to ignore the error above, although some post-processing functionality may be limited (which doesn't affect the results in most cases; see https://github.com/facebookresearch/segment-anything-2/blob/main/INSTALL.md).\n",
      "  pred_masks_gpu = fill_holes_in_mask_scores(\n",
      "propagate in video: 100%|██████████| 4/4 [00:01<00:00,  3.52it/s]\n"
     ]
    },
    {
     "name": "stdout",
     "output_type": "stream",
     "text": [
      "RGB shapes:  [(317, 313, 3), (366, 219, 3), (308, 271, 3), (326, 278, 3)]\n",
      "Mask shapes:  [(317, 313), (366, 219), (308, 271), (326, 278)]\n"
     ]
    },
    {
     "name": "stderr",
     "output_type": "stream",
     "text": [
      "frame loading (JPEG): 100%|██████████| 4/4 [00:00<00:00, 45.90it/s]/it]\n",
      "/home/kumaraditya/segment-anything-2/sam2/sam2_video_predictor.py:873: UserWarning: cannot import name '_C' from 'sam2' (/home/kumaraditya/segment-anything-2/sam2/__init__.py)\n",
      "\n",
      "Skipping the post-processing step due to the error above. You can still use SAM 2 and it's OK to ignore the error above, although some post-processing functionality may be limited (which doesn't affect the results in most cases; see https://github.com/facebookresearch/segment-anything-2/blob/main/INSTALL.md).\n",
      "  pred_masks_gpu = fill_holes_in_mask_scores(\n",
      "propagate in video: 100%|██████████| 4/4 [00:01<00:00,  3.40it/s]\n"
     ]
    },
    {
     "name": "stdout",
     "output_type": "stream",
     "text": [
      "RGB shapes:  [(247, 225, 3), (273, 287, 3), (285, 278, 3), (292, 238, 3)]\n",
      "Mask shapes:  [(247, 225), (273, 287), (285, 278), (292, 238)]\n"
     ]
    },
    {
     "name": "stderr",
     "output_type": "stream",
     "text": [
      "frame loading (JPEG): 100%|██████████| 4/4 [00:00<00:00, 46.98it/s]/it]\n",
      "/home/kumaraditya/segment-anything-2/sam2/sam2_video_predictor.py:873: UserWarning: cannot import name '_C' from 'sam2' (/home/kumaraditya/segment-anything-2/sam2/__init__.py)\n",
      "\n",
      "Skipping the post-processing step due to the error above. You can still use SAM 2 and it's OK to ignore the error above, although some post-processing functionality may be limited (which doesn't affect the results in most cases; see https://github.com/facebookresearch/segment-anything-2/blob/main/INSTALL.md).\n",
      "  pred_masks_gpu = fill_holes_in_mask_scores(\n",
      "propagate in video: 100%|██████████| 4/4 [00:01<00:00,  3.38it/s]\n"
     ]
    },
    {
     "name": "stdout",
     "output_type": "stream",
     "text": [
      "RGB shapes:  [(280, 328, 3), (296, 345, 3), (304, 325, 3), (310, 307, 3)]\n",
      "Mask shapes:  [(280, 328), (296, 345), (304, 325), (310, 307)]\n"
     ]
    },
    {
     "name": "stderr",
     "output_type": "stream",
     "text": [
      "frame loading (JPEG): 100%|██████████| 4/4 [00:00<00:00, 42.35it/s]/it]\n",
      "/home/kumaraditya/segment-anything-2/sam2/sam2_video_predictor.py:873: UserWarning: cannot import name '_C' from 'sam2' (/home/kumaraditya/segment-anything-2/sam2/__init__.py)\n",
      "\n",
      "Skipping the post-processing step due to the error above. You can still use SAM 2 and it's OK to ignore the error above, although some post-processing functionality may be limited (which doesn't affect the results in most cases; see https://github.com/facebookresearch/segment-anything-2/blob/main/INSTALL.md).\n",
      "  pred_masks_gpu = fill_holes_in_mask_scores(\n",
      "propagate in video: 100%|██████████| 4/4 [00:01<00:00,  3.40it/s]\n"
     ]
    },
    {
     "name": "stdout",
     "output_type": "stream",
     "text": [
      "RGB shapes:  [(436, 420, 3), (477, 431, 3), (473, 419, 3), (465, 423, 3)]\n",
      "Mask shapes:  [(436, 420), (477, 431), (473, 419), (465, 423)]\n"
     ]
    },
    {
     "name": "stderr",
     "output_type": "stream",
     "text": [
      "frame loading (JPEG): 100%|██████████| 4/4 [00:00<00:00, 44.48it/s]/it]\n",
      "/home/kumaraditya/segment-anything-2/sam2/sam2_video_predictor.py:873: UserWarning: cannot import name '_C' from 'sam2' (/home/kumaraditya/segment-anything-2/sam2/__init__.py)\n",
      "\n",
      "Skipping the post-processing step due to the error above. You can still use SAM 2 and it's OK to ignore the error above, although some post-processing functionality may be limited (which doesn't affect the results in most cases; see https://github.com/facebookresearch/segment-anything-2/blob/main/INSTALL.md).\n",
      "  pred_masks_gpu = fill_holes_in_mask_scores(\n",
      "propagate in video: 100%|██████████| 4/4 [00:01<00:00,  3.48it/s]\n"
     ]
    },
    {
     "name": "stdout",
     "output_type": "stream",
     "text": [
      "RGB shapes:  [(337, 295, 3), (355, 305, 3), (354, 308, 3), (347, 296, 3)]\n",
      "Mask shapes:  [(337, 295), (355, 305), (354, 308), (347, 296)]\n"
     ]
    },
    {
     "name": "stderr",
     "output_type": "stream",
     "text": [
      "frame loading (JPEG): 100%|██████████| 4/4 [00:00<00:00, 34.99it/s]/it]\n",
      "/home/kumaraditya/segment-anything-2/sam2/sam2_video_predictor.py:873: UserWarning: cannot import name '_C' from 'sam2' (/home/kumaraditya/segment-anything-2/sam2/__init__.py)\n",
      "\n",
      "Skipping the post-processing step due to the error above. You can still use SAM 2 and it's OK to ignore the error above, although some post-processing functionality may be limited (which doesn't affect the results in most cases; see https://github.com/facebookresearch/segment-anything-2/blob/main/INSTALL.md).\n",
      "  pred_masks_gpu = fill_holes_in_mask_scores(\n",
      "propagate in video: 100%|██████████| 4/4 [00:01<00:00,  3.39it/s]\n"
     ]
    },
    {
     "name": "stdout",
     "output_type": "stream",
     "text": [
      "RGB shapes:  [(416, 1524, 3), (464, 1470, 3), (439, 1436, 3), (415, 1413, 3)]\n",
      "Mask shapes:  [(416, 1524), (464, 1470), (439, 1436), (415, 1413)]\n"
     ]
    },
    {
     "name": "stderr",
     "output_type": "stream",
     "text": [
      "frame loading (JPEG): 100%|██████████| 4/4 [00:00<00:00, 39.16it/s]/it]\n",
      "/home/kumaraditya/segment-anything-2/sam2/sam2_video_predictor.py:873: UserWarning: cannot import name '_C' from 'sam2' (/home/kumaraditya/segment-anything-2/sam2/__init__.py)\n",
      "\n",
      "Skipping the post-processing step due to the error above. You can still use SAM 2 and it's OK to ignore the error above, although some post-processing functionality may be limited (which doesn't affect the results in most cases; see https://github.com/facebookresearch/segment-anything-2/blob/main/INSTALL.md).\n",
      "  pred_masks_gpu = fill_holes_in_mask_scores(\n",
      "propagate in video: 100%|██████████| 4/4 [00:01<00:00,  3.42it/s]\n"
     ]
    },
    {
     "name": "stdout",
     "output_type": "stream",
     "text": [
      "RGB shapes:  [(488, 654, 3), (536, 642, 3), (536, 637, 3), (481, 651, 3)]\n",
      "Mask shapes:  [(488, 654), (536, 642), (536, 637), (481, 651)]\n"
     ]
    },
    {
     "name": "stderr",
     "output_type": "stream",
     "text": [
      "frame loading (JPEG): 100%|██████████| 4/4 [00:00<00:00, 42.09it/s]/it]\n",
      "/home/kumaraditya/segment-anything-2/sam2/sam2_video_predictor.py:873: UserWarning: cannot import name '_C' from 'sam2' (/home/kumaraditya/segment-anything-2/sam2/__init__.py)\n",
      "\n",
      "Skipping the post-processing step due to the error above. You can still use SAM 2 and it's OK to ignore the error above, although some post-processing functionality may be limited (which doesn't affect the results in most cases; see https://github.com/facebookresearch/segment-anything-2/blob/main/INSTALL.md).\n",
      "  pred_masks_gpu = fill_holes_in_mask_scores(\n",
      "propagate in video: 100%|██████████| 4/4 [00:01<00:00,  3.40it/s]\n"
     ]
    },
    {
     "name": "stdout",
     "output_type": "stream",
     "text": [
      "RGB shapes:  [(420, 449, 3), (423, 482, 3), (415, 498, 3), (414, 513, 3)]\n",
      "Mask shapes:  [(420, 449), (423, 482), (415, 498), (414, 513)]\n"
     ]
    },
    {
     "name": "stderr",
     "output_type": "stream",
     "text": [
      "frame loading (JPEG): 100%|██████████| 4/4 [00:00<00:00, 32.15it/s]/it]\n",
      "/home/kumaraditya/segment-anything-2/sam2/sam2_video_predictor.py:873: UserWarning: cannot import name '_C' from 'sam2' (/home/kumaraditya/segment-anything-2/sam2/__init__.py)\n",
      "\n",
      "Skipping the post-processing step due to the error above. You can still use SAM 2 and it's OK to ignore the error above, although some post-processing functionality may be limited (which doesn't affect the results in most cases; see https://github.com/facebookresearch/segment-anything-2/blob/main/INSTALL.md).\n",
      "  pred_masks_gpu = fill_holes_in_mask_scores(\n",
      "propagate in video: 100%|██████████| 4/4 [00:01<00:00,  3.44it/s]\n"
     ]
    },
    {
     "name": "stdout",
     "output_type": "stream",
     "text": [
      "RGB shapes:  [(926, 775, 3), (923, 802, 3), (925, 754, 3), (923, 727, 3)]\n",
      "Mask shapes:  [(926, 775), (923, 802), (925, 754), (923, 727)]\n"
     ]
    },
    {
     "name": "stderr",
     "output_type": "stream",
     "text": [
      "frame loading (JPEG): 100%|██████████| 4/4 [00:00<00:00, 43.56it/s]/it]\n",
      "/home/kumaraditya/segment-anything-2/sam2/sam2_video_predictor.py:873: UserWarning: cannot import name '_C' from 'sam2' (/home/kumaraditya/segment-anything-2/sam2/__init__.py)\n",
      "\n",
      "Skipping the post-processing step due to the error above. You can still use SAM 2 and it's OK to ignore the error above, although some post-processing functionality may be limited (which doesn't affect the results in most cases; see https://github.com/facebookresearch/segment-anything-2/blob/main/INSTALL.md).\n",
      "  pred_masks_gpu = fill_holes_in_mask_scores(\n",
      "propagate in video: 100%|██████████| 4/4 [00:01<00:00,  3.46it/s]\n"
     ]
    },
    {
     "name": "stdout",
     "output_type": "stream",
     "text": [
      "RGB shapes:  [(298, 408, 3), (337, 389, 3), (349, 396, 3), (343, 354, 3)]\n",
      "Mask shapes:  [(298, 408), (337, 389), (349, 396), (343, 354)]\n"
     ]
    },
    {
     "name": "stderr",
     "output_type": "stream",
     "text": [
      "frame loading (JPEG): 100%|██████████| 4/4 [00:00<00:00, 44.43it/s]/it]\n",
      "/home/kumaraditya/segment-anything-2/sam2/sam2_video_predictor.py:873: UserWarning: cannot import name '_C' from 'sam2' (/home/kumaraditya/segment-anything-2/sam2/__init__.py)\n",
      "\n",
      "Skipping the post-processing step due to the error above. You can still use SAM 2 and it's OK to ignore the error above, although some post-processing functionality may be limited (which doesn't affect the results in most cases; see https://github.com/facebookresearch/segment-anything-2/blob/main/INSTALL.md).\n",
      "  pred_masks_gpu = fill_holes_in_mask_scores(\n",
      "propagate in video: 100%|██████████| 4/4 [00:01<00:00,  3.48it/s]\n"
     ]
    },
    {
     "name": "stdout",
     "output_type": "stream",
     "text": [
      "RGB shapes:  [(310, 461, 3), (392, 477, 3), (294, 367, 3), (306, 375, 3)]\n",
      "Mask shapes:  [(310, 461), (392, 477), (294, 367), (306, 375)]\n"
     ]
    },
    {
     "name": "stderr",
     "output_type": "stream",
     "text": [
      "frame loading (JPEG): 100%|██████████| 4/4 [00:00<00:00, 44.93it/s]/it]\n",
      "/home/kumaraditya/segment-anything-2/sam2/sam2_video_predictor.py:873: UserWarning: cannot import name '_C' from 'sam2' (/home/kumaraditya/segment-anything-2/sam2/__init__.py)\n",
      "\n",
      "Skipping the post-processing step due to the error above. You can still use SAM 2 and it's OK to ignore the error above, although some post-processing functionality may be limited (which doesn't affect the results in most cases; see https://github.com/facebookresearch/segment-anything-2/blob/main/INSTALL.md).\n",
      "  pred_masks_gpu = fill_holes_in_mask_scores(\n",
      "propagate in video: 100%|██████████| 4/4 [00:01<00:00,  3.39it/s]\n"
     ]
    },
    {
     "name": "stdout",
     "output_type": "stream",
     "text": [
      "RGB shapes:  [(218, 357, 3), (300, 349, 3), (308, 237, 3), (294, 325, 3)]\n",
      "Mask shapes:  [(218, 357), (300, 349), (308, 237), (294, 325)]\n"
     ]
    },
    {
     "name": "stderr",
     "output_type": "stream",
     "text": [
      "frame loading (JPEG): 100%|██████████| 4/4 [00:00<00:00, 40.46it/s]/it]\n",
      "/home/kumaraditya/segment-anything-2/sam2/sam2_video_predictor.py:873: UserWarning: cannot import name '_C' from 'sam2' (/home/kumaraditya/segment-anything-2/sam2/__init__.py)\n",
      "\n",
      "Skipping the post-processing step due to the error above. You can still use SAM 2 and it's OK to ignore the error above, although some post-processing functionality may be limited (which doesn't affect the results in most cases; see https://github.com/facebookresearch/segment-anything-2/blob/main/INSTALL.md).\n",
      "  pred_masks_gpu = fill_holes_in_mask_scores(\n",
      "propagate in video: 100%|██████████| 4/4 [00:01<00:00,  3.41it/s]\n"
     ]
    },
    {
     "name": "stdout",
     "output_type": "stream",
     "text": [
      "RGB shapes:  [(443, 653, 3), (446, 709, 3), (444, 648, 3), (444, 677, 3)]\n",
      "Mask shapes:  [(443, 653), (446, 709), (444, 648), (444, 677)]\n"
     ]
    },
    {
     "name": "stderr",
     "output_type": "stream",
     "text": [
      "frame loading (JPEG): 100%|██████████| 4/4 [00:00<00:00, 41.81it/s]/it]\n",
      "/home/kumaraditya/segment-anything-2/sam2/sam2_video_predictor.py:873: UserWarning: cannot import name '_C' from 'sam2' (/home/kumaraditya/segment-anything-2/sam2/__init__.py)\n",
      "\n",
      "Skipping the post-processing step due to the error above. You can still use SAM 2 and it's OK to ignore the error above, although some post-processing functionality may be limited (which doesn't affect the results in most cases; see https://github.com/facebookresearch/segment-anything-2/blob/main/INSTALL.md).\n",
      "  pred_masks_gpu = fill_holes_in_mask_scores(\n",
      "propagate in video: 100%|██████████| 4/4 [00:01<00:00,  3.38it/s]\n"
     ]
    },
    {
     "name": "stdout",
     "output_type": "stream",
     "text": [
      "RGB shapes:  [(370, 576, 3), (463, 612, 3), (445, 586, 3), (398, 642, 3)]\n",
      "Mask shapes:  [(370, 576), (463, 612), (445, 586), (398, 642)]\n"
     ]
    },
    {
     "name": "stderr",
     "output_type": "stream",
     "text": [
      "frame loading (JPEG): 100%|██████████| 4/4 [00:00<00:00, 37.64it/s]/it]\n",
      "/home/kumaraditya/segment-anything-2/sam2/sam2_video_predictor.py:873: UserWarning: cannot import name '_C' from 'sam2' (/home/kumaraditya/segment-anything-2/sam2/__init__.py)\n",
      "\n",
      "Skipping the post-processing step due to the error above. You can still use SAM 2 and it's OK to ignore the error above, although some post-processing functionality may be limited (which doesn't affect the results in most cases; see https://github.com/facebookresearch/segment-anything-2/blob/main/INSTALL.md).\n",
      "  pred_masks_gpu = fill_holes_in_mask_scores(\n",
      "propagate in video: 100%|██████████| 4/4 [00:01<00:00,  3.44it/s]\n"
     ]
    },
    {
     "name": "stdout",
     "output_type": "stream",
     "text": [
      "RGB shapes:  [(563, 726, 3), (547, 772, 3), (528, 737, 3), (536, 754, 3)]\n",
      "Mask shapes:  [(563, 726), (547, 772), (528, 737), (536, 754)]\n"
     ]
    },
    {
     "name": "stderr",
     "output_type": "stream",
     "text": [
      "frame loading (JPEG): 100%|██████████| 4/4 [00:00<00:00, 25.79it/s]/it]\n",
      "/home/kumaraditya/segment-anything-2/sam2/sam2_video_predictor.py:873: UserWarning: cannot import name '_C' from 'sam2' (/home/kumaraditya/segment-anything-2/sam2/__init__.py)\n",
      "\n",
      "Skipping the post-processing step due to the error above. You can still use SAM 2 and it's OK to ignore the error above, although some post-processing functionality may be limited (which doesn't affect the results in most cases; see https://github.com/facebookresearch/segment-anything-2/blob/main/INSTALL.md).\n",
      "  pred_masks_gpu = fill_holes_in_mask_scores(\n",
      "propagate in video: 100%|██████████| 4/4 [00:01<00:00,  3.37it/s]\n"
     ]
    },
    {
     "name": "stdout",
     "output_type": "stream",
     "text": [
      "RGB shapes:  [(1231, 1170, 3), (1204, 1108, 3), (1234, 1217, 3), (1232, 1136, 3)]\n",
      "Mask shapes:  [(1231, 1170), (1204, 1108), (1234, 1217), (1232, 1136)]\n"
     ]
    },
    {
     "name": "stderr",
     "output_type": "stream",
     "text": [
      "frame loading (JPEG): 100%|██████████| 4/4 [00:00<00:00, 43.48it/s]/it]\n",
      "/home/kumaraditya/segment-anything-2/sam2/sam2_video_predictor.py:873: UserWarning: cannot import name '_C' from 'sam2' (/home/kumaraditya/segment-anything-2/sam2/__init__.py)\n",
      "\n",
      "Skipping the post-processing step due to the error above. You can still use SAM 2 and it's OK to ignore the error above, although some post-processing functionality may be limited (which doesn't affect the results in most cases; see https://github.com/facebookresearch/segment-anything-2/blob/main/INSTALL.md).\n",
      "  pred_masks_gpu = fill_holes_in_mask_scores(\n",
      "propagate in video: 100%|██████████| 4/4 [00:01<00:00,  3.40it/s]\n"
     ]
    },
    {
     "name": "stdout",
     "output_type": "stream",
     "text": [
      "RGB shapes:  [(388, 545, 3), (374, 539, 3), (344, 559, 3), (382, 554, 3)]\n",
      "Mask shapes:  [(388, 545), (374, 539), (344, 559), (382, 554)]\n"
     ]
    },
    {
     "name": "stderr",
     "output_type": "stream",
     "text": [
      "frame loading (JPEG): 100%|██████████| 4/4 [00:00<00:00, 38.85it/s]/it]\n",
      "/home/kumaraditya/segment-anything-2/sam2/sam2_video_predictor.py:873: UserWarning: cannot import name '_C' from 'sam2' (/home/kumaraditya/segment-anything-2/sam2/__init__.py)\n",
      "\n",
      "Skipping the post-processing step due to the error above. You can still use SAM 2 and it's OK to ignore the error above, although some post-processing functionality may be limited (which doesn't affect the results in most cases; see https://github.com/facebookresearch/segment-anything-2/blob/main/INSTALL.md).\n",
      "  pred_masks_gpu = fill_holes_in_mask_scores(\n",
      "propagate in video: 100%|██████████| 4/4 [00:01<00:00,  3.39it/s]\n"
     ]
    },
    {
     "name": "stdout",
     "output_type": "stream",
     "text": [
      "RGB shapes:  [(549, 583, 3), (549, 561, 3), (550, 546, 3), (554, 522, 3)]\n",
      "Mask shapes:  [(549, 583), (549, 561), (550, 546), (554, 522)]\n"
     ]
    },
    {
     "name": "stderr",
     "output_type": "stream",
     "text": [
      "frame loading (JPEG): 100%|██████████| 4/4 [00:00<00:00, 39.05it/s]/it]\n",
      "/home/kumaraditya/segment-anything-2/sam2/sam2_video_predictor.py:873: UserWarning: cannot import name '_C' from 'sam2' (/home/kumaraditya/segment-anything-2/sam2/__init__.py)\n",
      "\n",
      "Skipping the post-processing step due to the error above. You can still use SAM 2 and it's OK to ignore the error above, although some post-processing functionality may be limited (which doesn't affect the results in most cases; see https://github.com/facebookresearch/segment-anything-2/blob/main/INSTALL.md).\n",
      "  pred_masks_gpu = fill_holes_in_mask_scores(\n",
      "propagate in video: 100%|██████████| 4/4 [00:01<00:00,  3.44it/s]\n"
     ]
    },
    {
     "name": "stdout",
     "output_type": "stream",
     "text": [
      "RGB shapes:  [(491, 611, 3), (503, 614, 3), (479, 602, 3), (467, 589, 3)]\n",
      "Mask shapes:  [(491, 611), (503, 614), (479, 602), (467, 589)]\n"
     ]
    },
    {
     "name": "stderr",
     "output_type": "stream",
     "text": [
      "frame loading (JPEG): 100%|██████████| 4/4 [00:00<00:00, 37.56it/s]/it]\n",
      "/home/kumaraditya/segment-anything-2/sam2/sam2_video_predictor.py:873: UserWarning: cannot import name '_C' from 'sam2' (/home/kumaraditya/segment-anything-2/sam2/__init__.py)\n",
      "\n",
      "Skipping the post-processing step due to the error above. You can still use SAM 2 and it's OK to ignore the error above, although some post-processing functionality may be limited (which doesn't affect the results in most cases; see https://github.com/facebookresearch/segment-anything-2/blob/main/INSTALL.md).\n",
      "  pred_masks_gpu = fill_holes_in_mask_scores(\n",
      "propagate in video: 100%|██████████| 4/4 [00:01<00:00,  3.40it/s]\n"
     ]
    },
    {
     "name": "stdout",
     "output_type": "stream",
     "text": [
      "RGB shapes:  [(583, 777, 3), (547, 724, 3), (557, 812, 3), (560, 743, 3)]\n",
      "Mask shapes:  [(583, 777), (547, 724), (557, 812), (560, 743)]\n"
     ]
    },
    {
     "name": "stderr",
     "output_type": "stream",
     "text": [
      "frame loading (JPEG): 100%|██████████| 4/4 [00:00<00:00, 41.67it/s]s/it]\n",
      "/home/kumaraditya/segment-anything-2/sam2/sam2_video_predictor.py:873: UserWarning: cannot import name '_C' from 'sam2' (/home/kumaraditya/segment-anything-2/sam2/__init__.py)\n",
      "\n",
      "Skipping the post-processing step due to the error above. You can still use SAM 2 and it's OK to ignore the error above, although some post-processing functionality may be limited (which doesn't affect the results in most cases; see https://github.com/facebookresearch/segment-anything-2/blob/main/INSTALL.md).\n",
      "  pred_masks_gpu = fill_holes_in_mask_scores(\n",
      "propagate in video: 100%|██████████| 4/4 [00:01<00:00,  3.45it/s]\n"
     ]
    },
    {
     "name": "stdout",
     "output_type": "stream",
     "text": [
      "RGB shapes:  [(389, 682, 3), (385, 661, 3), (392, 618, 3), (387, 640, 3)]\n",
      "Mask shapes:  [(389, 682), (385, 661), (392, 618), (387, 640)]\n"
     ]
    },
    {
     "name": "stderr",
     "output_type": "stream",
     "text": [
      "frame loading (JPEG): 100%|██████████| 4/4 [00:00<00:00, 42.44it/s]s/it]\n",
      "/home/kumaraditya/segment-anything-2/sam2/sam2_video_predictor.py:873: UserWarning: cannot import name '_C' from 'sam2' (/home/kumaraditya/segment-anything-2/sam2/__init__.py)\n",
      "\n",
      "Skipping the post-processing step due to the error above. You can still use SAM 2 and it's OK to ignore the error above, although some post-processing functionality may be limited (which doesn't affect the results in most cases; see https://github.com/facebookresearch/segment-anything-2/blob/main/INSTALL.md).\n",
      "  pred_masks_gpu = fill_holes_in_mask_scores(\n",
      "propagate in video: 100%|██████████| 4/4 [00:01<00:00,  3.48it/s]\n"
     ]
    },
    {
     "name": "stdout",
     "output_type": "stream",
     "text": [
      "RGB shapes:  [(546, 333, 3), (592, 351, 3), (566, 343, 3), (533, 331, 3)]\n",
      "Mask shapes:  [(546, 333), (592, 351), (566, 343), (533, 331)]\n"
     ]
    },
    {
     "name": "stderr",
     "output_type": "stream",
     "text": [
      "frame loading (JPEG): 100%|██████████| 4/4 [00:00<00:00, 41.40it/s]s/it]\n",
      "/home/kumaraditya/segment-anything-2/sam2/sam2_video_predictor.py:873: UserWarning: cannot import name '_C' from 'sam2' (/home/kumaraditya/segment-anything-2/sam2/__init__.py)\n",
      "\n",
      "Skipping the post-processing step due to the error above. You can still use SAM 2 and it's OK to ignore the error above, although some post-processing functionality may be limited (which doesn't affect the results in most cases; see https://github.com/facebookresearch/segment-anything-2/blob/main/INSTALL.md).\n",
      "  pred_masks_gpu = fill_holes_in_mask_scores(\n",
      "propagate in video: 100%|██████████| 4/4 [00:01<00:00,  3.47it/s]\n"
     ]
    },
    {
     "name": "stdout",
     "output_type": "stream",
     "text": [
      "RGB shapes:  [(556, 506, 3), (535, 491, 3), (534, 489, 3), (538, 517, 3)]\n",
      "Mask shapes:  [(556, 506), (535, 491), (534, 489), (538, 517)]\n"
     ]
    },
    {
     "name": "stderr",
     "output_type": "stream",
     "text": [
      "frame loading (JPEG): 100%|██████████| 4/4 [00:00<00:00, 37.90it/s]s/it]\n",
      "/home/kumaraditya/segment-anything-2/sam2/sam2_video_predictor.py:873: UserWarning: cannot import name '_C' from 'sam2' (/home/kumaraditya/segment-anything-2/sam2/__init__.py)\n",
      "\n",
      "Skipping the post-processing step due to the error above. You can still use SAM 2 and it's OK to ignore the error above, although some post-processing functionality may be limited (which doesn't affect the results in most cases; see https://github.com/facebookresearch/segment-anything-2/blob/main/INSTALL.md).\n",
      "  pred_masks_gpu = fill_holes_in_mask_scores(\n",
      "propagate in video: 100%|██████████| 4/4 [00:01<00:00,  3.42it/s]\n"
     ]
    },
    {
     "name": "stdout",
     "output_type": "stream",
     "text": [
      "RGB shapes:  [(378, 749, 3), (384, 735, 3), (450, 704, 3), (437, 702, 3)]\n",
      "Mask shapes:  [(378, 749), (384, 735), (450, 704), (437, 702)]\n"
     ]
    },
    {
     "name": "stderr",
     "output_type": "stream",
     "text": [
      "frame loading (JPEG): 100%|██████████| 4/4 [00:00<00:00, 38.38it/s]s/it]\n",
      "/home/kumaraditya/segment-anything-2/sam2/sam2_video_predictor.py:873: UserWarning: cannot import name '_C' from 'sam2' (/home/kumaraditya/segment-anything-2/sam2/__init__.py)\n",
      "\n",
      "Skipping the post-processing step due to the error above. You can still use SAM 2 and it's OK to ignore the error above, although some post-processing functionality may be limited (which doesn't affect the results in most cases; see https://github.com/facebookresearch/segment-anything-2/blob/main/INSTALL.md).\n",
      "  pred_masks_gpu = fill_holes_in_mask_scores(\n",
      "propagate in video: 100%|██████████| 4/4 [00:01<00:00,  3.44it/s]\n"
     ]
    },
    {
     "name": "stdout",
     "output_type": "stream",
     "text": [
      "RGB shapes:  [(513, 606, 3), (513, 601, 3), (471, 591, 3), (510, 596, 3)]\n",
      "Mask shapes:  [(513, 606), (513, 601), (471, 591), (510, 596)]\n"
     ]
    },
    {
     "name": "stderr",
     "output_type": "stream",
     "text": [
      "frame loading (JPEG): 100%|██████████| 4/4 [00:00<00:00, 37.11it/s]s/it]\n",
      "/home/kumaraditya/segment-anything-2/sam2/sam2_video_predictor.py:873: UserWarning: cannot import name '_C' from 'sam2' (/home/kumaraditya/segment-anything-2/sam2/__init__.py)\n",
      "\n",
      "Skipping the post-processing step due to the error above. You can still use SAM 2 and it's OK to ignore the error above, although some post-processing functionality may be limited (which doesn't affect the results in most cases; see https://github.com/facebookresearch/segment-anything-2/blob/main/INSTALL.md).\n",
      "  pred_masks_gpu = fill_holes_in_mask_scores(\n",
      "propagate in video: 100%|██████████| 4/4 [00:01<00:00,  3.38it/s]\n"
     ]
    },
    {
     "name": "stdout",
     "output_type": "stream",
     "text": [
      "RGB shapes:  [(700, 383, 3), (659, 364, 3), (717, 484, 3), (695, 423, 3)]\n",
      "Mask shapes:  [(700, 383), (659, 364), (717, 484), (695, 423)]\n"
     ]
    },
    {
     "name": "stderr",
     "output_type": "stream",
     "text": [
      "frame loading (JPEG): 100%|██████████| 4/4 [00:00<00:00, 45.64it/s]s/it]\n",
      "/home/kumaraditya/segment-anything-2/sam2/sam2_video_predictor.py:873: UserWarning: cannot import name '_C' from 'sam2' (/home/kumaraditya/segment-anything-2/sam2/__init__.py)\n",
      "\n",
      "Skipping the post-processing step due to the error above. You can still use SAM 2 and it's OK to ignore the error above, although some post-processing functionality may be limited (which doesn't affect the results in most cases; see https://github.com/facebookresearch/segment-anything-2/blob/main/INSTALL.md).\n",
      "  pred_masks_gpu = fill_holes_in_mask_scores(\n",
      "propagate in video: 100%|██████████| 4/4 [00:01<00:00,  3.38it/s]\n"
     ]
    },
    {
     "name": "stdout",
     "output_type": "stream",
     "text": [
      "RGB shapes:  [(270, 534, 3), (318, 525, 3), (308, 540, 3), (268, 552, 3)]\n",
      "Mask shapes:  [(270, 534), (318, 525), (308, 540), (268, 552)]\n"
     ]
    },
    {
     "name": "stderr",
     "output_type": "stream",
     "text": [
      "frame loading (JPEG): 100%|██████████| 4/4 [00:00<00:00, 43.24it/s]s/it]\n",
      "/home/kumaraditya/segment-anything-2/sam2/sam2_video_predictor.py:873: UserWarning: cannot import name '_C' from 'sam2' (/home/kumaraditya/segment-anything-2/sam2/__init__.py)\n",
      "\n",
      "Skipping the post-processing step due to the error above. You can still use SAM 2 and it's OK to ignore the error above, although some post-processing functionality may be limited (which doesn't affect the results in most cases; see https://github.com/facebookresearch/segment-anything-2/blob/main/INSTALL.md).\n",
      "  pred_masks_gpu = fill_holes_in_mask_scores(\n",
      "propagate in video: 100%|██████████| 4/4 [00:01<00:00,  3.44it/s]\n"
     ]
    },
    {
     "name": "stdout",
     "output_type": "stream",
     "text": [
      "RGB shapes:  [(389, 412, 3), (381, 406, 3), (384, 397, 3), (384, 321, 3)]\n",
      "Mask shapes:  [(389, 412), (381, 406), (384, 397), (384, 321)]\n"
     ]
    },
    {
     "name": "stderr",
     "output_type": "stream",
     "text": [
      "frame loading (JPEG): 100%|██████████| 4/4 [00:00<00:00, 43.70it/s]s/it]\n",
      "/home/kumaraditya/segment-anything-2/sam2/sam2_video_predictor.py:873: UserWarning: cannot import name '_C' from 'sam2' (/home/kumaraditya/segment-anything-2/sam2/__init__.py)\n",
      "\n",
      "Skipping the post-processing step due to the error above. You can still use SAM 2 and it's OK to ignore the error above, although some post-processing functionality may be limited (which doesn't affect the results in most cases; see https://github.com/facebookresearch/segment-anything-2/blob/main/INSTALL.md).\n",
      "  pred_masks_gpu = fill_holes_in_mask_scores(\n",
      "propagate in video: 100%|██████████| 4/4 [00:01<00:00,  3.39it/s]\n"
     ]
    },
    {
     "name": "stdout",
     "output_type": "stream",
     "text": [
      "RGB shapes:  [(376, 585, 3), (360, 557, 3), (291, 670, 3), (289, 671, 3)]\n",
      "Mask shapes:  [(376, 585), (360, 557), (291, 670), (289, 671)]\n"
     ]
    },
    {
     "name": "stderr",
     "output_type": "stream",
     "text": [
      "frame loading (JPEG): 100%|██████████| 4/4 [00:00<00:00, 46.27it/s]s/it]\n",
      "/home/kumaraditya/segment-anything-2/sam2/sam2_video_predictor.py:873: UserWarning: cannot import name '_C' from 'sam2' (/home/kumaraditya/segment-anything-2/sam2/__init__.py)\n",
      "\n",
      "Skipping the post-processing step due to the error above. You can still use SAM 2 and it's OK to ignore the error above, although some post-processing functionality may be limited (which doesn't affect the results in most cases; see https://github.com/facebookresearch/segment-anything-2/blob/main/INSTALL.md).\n",
      "  pred_masks_gpu = fill_holes_in_mask_scores(\n",
      "propagate in video: 100%|██████████| 4/4 [00:01<00:00,  3.52it/s]\n"
     ]
    },
    {
     "name": "stdout",
     "output_type": "stream",
     "text": [
      "RGB shapes:  [(366, 329, 3), (345, 329, 3), (340, 333, 3), (387, 341, 3)]\n",
      "Mask shapes:  [(366, 329), (345, 329), (340, 333), (387, 341)]\n"
     ]
    },
    {
     "name": "stderr",
     "output_type": "stream",
     "text": [
      "frame loading (JPEG): 100%|██████████| 4/4 [00:00<00:00, 44.60it/s]s/it]\n",
      "/home/kumaraditya/segment-anything-2/sam2/sam2_video_predictor.py:873: UserWarning: cannot import name '_C' from 'sam2' (/home/kumaraditya/segment-anything-2/sam2/__init__.py)\n",
      "\n",
      "Skipping the post-processing step due to the error above. You can still use SAM 2 and it's OK to ignore the error above, although some post-processing functionality may be limited (which doesn't affect the results in most cases; see https://github.com/facebookresearch/segment-anything-2/blob/main/INSTALL.md).\n",
      "  pred_masks_gpu = fill_holes_in_mask_scores(\n",
      "propagate in video: 100%|██████████| 4/4 [00:01<00:00,  3.41it/s]\n"
     ]
    },
    {
     "name": "stdout",
     "output_type": "stream",
     "text": [
      "RGB shapes:  [(356, 351, 3), (384, 391, 3), (351, 392, 3), (362, 383, 3)]\n",
      "Mask shapes:  [(356, 351), (384, 391), (351, 392), (362, 383)]\n"
     ]
    },
    {
     "name": "stderr",
     "output_type": "stream",
     "text": [
      "frame loading (JPEG): 100%|██████████| 4/4 [00:00<00:00, 42.46it/s]s/it]\n",
      "/home/kumaraditya/segment-anything-2/sam2/sam2_video_predictor.py:873: UserWarning: cannot import name '_C' from 'sam2' (/home/kumaraditya/segment-anything-2/sam2/__init__.py)\n",
      "\n",
      "Skipping the post-processing step due to the error above. You can still use SAM 2 and it's OK to ignore the error above, although some post-processing functionality may be limited (which doesn't affect the results in most cases; see https://github.com/facebookresearch/segment-anything-2/blob/main/INSTALL.md).\n",
      "  pred_masks_gpu = fill_holes_in_mask_scores(\n",
      "propagate in video: 100%|██████████| 4/4 [00:01<00:00,  3.41it/s]\n"
     ]
    },
    {
     "name": "stdout",
     "output_type": "stream",
     "text": [
      "RGB shapes:  [(267, 270, 3), (263, 277, 3), (515, 276, 3), (273, 273, 3)]\n",
      "Mask shapes:  [(267, 270), (263, 277), (515, 276), (273, 273)]\n"
     ]
    },
    {
     "name": "stderr",
     "output_type": "stream",
     "text": [
      "frame loading (JPEG): 100%|██████████| 4/4 [00:00<00:00, 40.76it/s]s/it]\n",
      "/home/kumaraditya/segment-anything-2/sam2/sam2_video_predictor.py:873: UserWarning: cannot import name '_C' from 'sam2' (/home/kumaraditya/segment-anything-2/sam2/__init__.py)\n",
      "\n",
      "Skipping the post-processing step due to the error above. You can still use SAM 2 and it's OK to ignore the error above, although some post-processing functionality may be limited (which doesn't affect the results in most cases; see https://github.com/facebookresearch/segment-anything-2/blob/main/INSTALL.md).\n",
      "  pred_masks_gpu = fill_holes_in_mask_scores(\n",
      "propagate in video: 100%|██████████| 4/4 [00:01<00:00,  3.43it/s]\n"
     ]
    },
    {
     "name": "stdout",
     "output_type": "stream",
     "text": [
      "RGB shapes:  [(465, 707, 3), (473, 653, 3), (397, 698, 3), (378, 746, 3)]\n",
      "Mask shapes:  [(465, 707), (473, 653), (397, 698), (378, 746)]\n"
     ]
    },
    {
     "name": "stderr",
     "output_type": "stream",
     "text": [
      "frame loading (JPEG): 100%|██████████| 4/4 [00:00<00:00, 43.28it/s]s/it]\n",
      "/home/kumaraditya/segment-anything-2/sam2/sam2_video_predictor.py:873: UserWarning: cannot import name '_C' from 'sam2' (/home/kumaraditya/segment-anything-2/sam2/__init__.py)\n",
      "\n",
      "Skipping the post-processing step due to the error above. You can still use SAM 2 and it's OK to ignore the error above, although some post-processing functionality may be limited (which doesn't affect the results in most cases; see https://github.com/facebookresearch/segment-anything-2/blob/main/INSTALL.md).\n",
      "  pred_masks_gpu = fill_holes_in_mask_scores(\n",
      "propagate in video: 100%|██████████| 4/4 [00:01<00:00,  3.39it/s]\n"
     ]
    },
    {
     "name": "stdout",
     "output_type": "stream",
     "text": [
      "RGB shapes:  [(314, 193, 3), (228, 219, 3), (310, 315, 3), (224, 327, 3)]\n",
      "Mask shapes:  [(314, 193), (228, 219), (310, 315), (224, 327)]\n"
     ]
    },
    {
     "name": "stderr",
     "output_type": "stream",
     "text": [
      "frame loading (JPEG): 100%|██████████| 4/4 [00:00<00:00, 43.49it/s]s/it]\n",
      "/home/kumaraditya/segment-anything-2/sam2/sam2_video_predictor.py:873: UserWarning: cannot import name '_C' from 'sam2' (/home/kumaraditya/segment-anything-2/sam2/__init__.py)\n",
      "\n",
      "Skipping the post-processing step due to the error above. You can still use SAM 2 and it's OK to ignore the error above, although some post-processing functionality may be limited (which doesn't affect the results in most cases; see https://github.com/facebookresearch/segment-anything-2/blob/main/INSTALL.md).\n",
      "  pred_masks_gpu = fill_holes_in_mask_scores(\n",
      "propagate in video: 100%|██████████| 4/4 [00:01<00:00,  3.46it/s]\n"
     ]
    },
    {
     "name": "stdout",
     "output_type": "stream",
     "text": [
      "RGB shapes:  [(339, 297, 3), (298, 227, 3), (337, 309, 3), (273, 305, 3)]\n",
      "Mask shapes:  [(339, 297), (298, 227), (337, 309), (273, 305)]\n"
     ]
    },
    {
     "name": "stderr",
     "output_type": "stream",
     "text": [
      "frame loading (JPEG): 100%|██████████| 4/4 [00:00<00:00, 44.89it/s]s/it]\n",
      "/home/kumaraditya/segment-anything-2/sam2/sam2_video_predictor.py:873: UserWarning: cannot import name '_C' from 'sam2' (/home/kumaraditya/segment-anything-2/sam2/__init__.py)\n",
      "\n",
      "Skipping the post-processing step due to the error above. You can still use SAM 2 and it's OK to ignore the error above, although some post-processing functionality may be limited (which doesn't affect the results in most cases; see https://github.com/facebookresearch/segment-anything-2/blob/main/INSTALL.md).\n",
      "  pred_masks_gpu = fill_holes_in_mask_scores(\n",
      "propagate in video: 100%|██████████| 4/4 [00:01<00:00,  3.39it/s]\n"
     ]
    },
    {
     "name": "stdout",
     "output_type": "stream",
     "text": [
      "RGB shapes:  [(286, 506, 3), (285, 490, 3), (268, 447, 3), (268, 412, 3)]\n",
      "Mask shapes:  [(286, 506), (285, 490), (268, 447), (268, 412)]\n"
     ]
    },
    {
     "name": "stderr",
     "output_type": "stream",
     "text": [
      "frame loading (JPEG): 100%|██████████| 4/4 [00:00<00:00, 42.00it/s]s/it]\n",
      "/home/kumaraditya/segment-anything-2/sam2/sam2_video_predictor.py:873: UserWarning: cannot import name '_C' from 'sam2' (/home/kumaraditya/segment-anything-2/sam2/__init__.py)\n",
      "\n",
      "Skipping the post-processing step due to the error above. You can still use SAM 2 and it's OK to ignore the error above, although some post-processing functionality may be limited (which doesn't affect the results in most cases; see https://github.com/facebookresearch/segment-anything-2/blob/main/INSTALL.md).\n",
      "  pred_masks_gpu = fill_holes_in_mask_scores(\n",
      "propagate in video: 100%|██████████| 4/4 [00:01<00:00,  3.45it/s]\n"
     ]
    },
    {
     "name": "stdout",
     "output_type": "stream",
     "text": [
      "RGB shapes:  [(337, 435, 3), (335, 433, 3), (326, 399, 3), (329, 415, 3)]\n",
      "Mask shapes:  [(337, 435), (335, 433), (326, 399), (329, 415)]\n"
     ]
    },
    {
     "name": "stderr",
     "output_type": "stream",
     "text": [
      "frame loading (JPEG): 100%|██████████| 4/4 [00:00<00:00, 25.93it/s]s/it]\n",
      "/home/kumaraditya/segment-anything-2/sam2/sam2_video_predictor.py:873: UserWarning: cannot import name '_C' from 'sam2' (/home/kumaraditya/segment-anything-2/sam2/__init__.py)\n",
      "\n",
      "Skipping the post-processing step due to the error above. You can still use SAM 2 and it's OK to ignore the error above, although some post-processing functionality may be limited (which doesn't affect the results in most cases; see https://github.com/facebookresearch/segment-anything-2/blob/main/INSTALL.md).\n",
      "  pred_masks_gpu = fill_holes_in_mask_scores(\n",
      "propagate in video: 100%|██████████| 4/4 [00:01<00:00,  3.43it/s]\n"
     ]
    },
    {
     "name": "stdout",
     "output_type": "stream",
     "text": [
      "RGB shapes:  [(1276, 879, 3), (1317, 817, 3), (1343, 837, 3), (1293, 876, 3)]\n",
      "Mask shapes:  [(1276, 879), (1317, 817), (1343, 837), (1293, 876)]\n"
     ]
    },
    {
     "name": "stderr",
     "output_type": "stream",
     "text": [
      "frame loading (JPEG): 100%|██████████| 4/4 [00:00<00:00, 43.82it/s]s/it]\n",
      "/home/kumaraditya/segment-anything-2/sam2/sam2_video_predictor.py:873: UserWarning: cannot import name '_C' from 'sam2' (/home/kumaraditya/segment-anything-2/sam2/__init__.py)\n",
      "\n",
      "Skipping the post-processing step due to the error above. You can still use SAM 2 and it's OK to ignore the error above, although some post-processing functionality may be limited (which doesn't affect the results in most cases; see https://github.com/facebookresearch/segment-anything-2/blob/main/INSTALL.md).\n",
      "  pred_masks_gpu = fill_holes_in_mask_scores(\n",
      "propagate in video: 100%|██████████| 4/4 [00:01<00:00,  3.44it/s]\n"
     ]
    },
    {
     "name": "stdout",
     "output_type": "stream",
     "text": [
      "RGB shapes:  [(251, 638, 3), (243, 618, 3), (254, 621, 3), (252, 562, 3)]\n",
      "Mask shapes:  [(251, 638), (243, 618), (254, 621), (252, 562)]\n"
     ]
    },
    {
     "name": "stderr",
     "output_type": "stream",
     "text": [
      "frame loading (JPEG): 100%|██████████| 4/4 [00:00<00:00, 43.19it/s]s/it]\n",
      "/home/kumaraditya/segment-anything-2/sam2/sam2_video_predictor.py:873: UserWarning: cannot import name '_C' from 'sam2' (/home/kumaraditya/segment-anything-2/sam2/__init__.py)\n",
      "\n",
      "Skipping the post-processing step due to the error above. You can still use SAM 2 and it's OK to ignore the error above, although some post-processing functionality may be limited (which doesn't affect the results in most cases; see https://github.com/facebookresearch/segment-anything-2/blob/main/INSTALL.md).\n",
      "  pred_masks_gpu = fill_holes_in_mask_scores(\n",
      "propagate in video: 100%|██████████| 4/4 [00:01<00:00,  3.38it/s]\n"
     ]
    },
    {
     "name": "stdout",
     "output_type": "stream",
     "text": [
      "RGB shapes:  [(308, 822, 3), (306, 836, 3), (315, 822, 3), (308, 848, 3)]\n",
      "Mask shapes:  [(308, 822), (306, 836), (315, 822), (308, 848)]\n"
     ]
    },
    {
     "name": "stderr",
     "output_type": "stream",
     "text": [
      "frame loading (JPEG): 100%|██████████| 4/4 [00:00<00:00, 43.25it/s]s/it]\n",
      "/home/kumaraditya/segment-anything-2/sam2/sam2_video_predictor.py:873: UserWarning: cannot import name '_C' from 'sam2' (/home/kumaraditya/segment-anything-2/sam2/__init__.py)\n",
      "\n",
      "Skipping the post-processing step due to the error above. You can still use SAM 2 and it's OK to ignore the error above, although some post-processing functionality may be limited (which doesn't affect the results in most cases; see https://github.com/facebookresearch/segment-anything-2/blob/main/INSTALL.md).\n",
      "  pred_masks_gpu = fill_holes_in_mask_scores(\n",
      "propagate in video: 100%|██████████| 4/4 [00:01<00:00,  3.41it/s]\n"
     ]
    },
    {
     "name": "stdout",
     "output_type": "stream",
     "text": [
      "RGB shapes:  [(367, 332, 3), (367, 332, 3), (368, 337, 3), (369, 335, 3)]\n",
      "Mask shapes:  [(367, 332), (367, 332), (368, 337), (369, 335)]\n"
     ]
    },
    {
     "name": "stderr",
     "output_type": "stream",
     "text": [
      "frame loading (JPEG): 100%|██████████| 4/4 [00:00<00:00, 43.96it/s]s/it]\n",
      "/home/kumaraditya/segment-anything-2/sam2/sam2_video_predictor.py:873: UserWarning: cannot import name '_C' from 'sam2' (/home/kumaraditya/segment-anything-2/sam2/__init__.py)\n",
      "\n",
      "Skipping the post-processing step due to the error above. You can still use SAM 2 and it's OK to ignore the error above, although some post-processing functionality may be limited (which doesn't affect the results in most cases; see https://github.com/facebookresearch/segment-anything-2/blob/main/INSTALL.md).\n",
      "  pred_masks_gpu = fill_holes_in_mask_scores(\n",
      "propagate in video: 100%|██████████| 4/4 [00:01<00:00,  3.43it/s]\n"
     ]
    },
    {
     "name": "stdout",
     "output_type": "stream",
     "text": [
      "RGB shapes:  [(333, 440, 3), (316, 481, 3), (315, 484, 3), (324, 426, 3)]\n",
      "Mask shapes:  [(333, 440), (316, 481), (315, 484), (324, 426)]\n"
     ]
    },
    {
     "name": "stderr",
     "output_type": "stream",
     "text": [
      "frame loading (JPEG): 100%|██████████| 4/4 [00:00<00:00, 42.58it/s]s/it]\n",
      "/home/kumaraditya/segment-anything-2/sam2/sam2_video_predictor.py:873: UserWarning: cannot import name '_C' from 'sam2' (/home/kumaraditya/segment-anything-2/sam2/__init__.py)\n",
      "\n",
      "Skipping the post-processing step due to the error above. You can still use SAM 2 and it's OK to ignore the error above, although some post-processing functionality may be limited (which doesn't affect the results in most cases; see https://github.com/facebookresearch/segment-anything-2/blob/main/INSTALL.md).\n",
      "  pred_masks_gpu = fill_holes_in_mask_scores(\n",
      "propagate in video: 100%|██████████| 4/4 [00:01<00:00,  3.40it/s]\n"
     ]
    },
    {
     "name": "stdout",
     "output_type": "stream",
     "text": [
      "RGB shapes:  [(384, 516, 3), (385, 491, 3), (406, 505, 3), (365, 498, 3)]\n",
      "Mask shapes:  [(384, 516), (385, 491), (406, 505), (365, 498)]\n"
     ]
    },
    {
     "name": "stderr",
     "output_type": "stream",
     "text": [
      "frame loading (JPEG): 100%|██████████| 4/4 [00:00<00:00, 30.13it/s]s/it]\n",
      "/home/kumaraditya/segment-anything-2/sam2/sam2_video_predictor.py:873: UserWarning: cannot import name '_C' from 'sam2' (/home/kumaraditya/segment-anything-2/sam2/__init__.py)\n",
      "\n",
      "Skipping the post-processing step due to the error above. You can still use SAM 2 and it's OK to ignore the error above, although some post-processing functionality may be limited (which doesn't affect the results in most cases; see https://github.com/facebookresearch/segment-anything-2/blob/main/INSTALL.md).\n",
      "  pred_masks_gpu = fill_holes_in_mask_scores(\n",
      "propagate in video: 100%|██████████| 4/4 [00:01<00:00,  3.39it/s]\n"
     ]
    },
    {
     "name": "stdout",
     "output_type": "stream",
     "text": [
      "RGB shapes:  [(1095, 734, 3), (1066, 709, 3), (1075, 713, 3), (823, 677, 3)]\n",
      "Mask shapes:  [(1095, 734), (1066, 709), (1075, 713), (823, 677)]\n"
     ]
    },
    {
     "name": "stderr",
     "output_type": "stream",
     "text": [
      "frame loading (JPEG): 100%|██████████| 4/4 [00:00<00:00, 40.26it/s]s/it]\n",
      "/home/kumaraditya/segment-anything-2/sam2/sam2_video_predictor.py:873: UserWarning: cannot import name '_C' from 'sam2' (/home/kumaraditya/segment-anything-2/sam2/__init__.py)\n",
      "\n",
      "Skipping the post-processing step due to the error above. You can still use SAM 2 and it's OK to ignore the error above, although some post-processing functionality may be limited (which doesn't affect the results in most cases; see https://github.com/facebookresearch/segment-anything-2/blob/main/INSTALL.md).\n",
      "  pred_masks_gpu = fill_holes_in_mask_scores(\n",
      "propagate in video: 100%|██████████| 4/4 [00:01<00:00,  3.39it/s]\n"
     ]
    },
    {
     "name": "stdout",
     "output_type": "stream",
     "text": [
      "RGB shapes:  [(435, 536, 3), (405, 463, 3), (487, 491, 3), (468, 475, 3)]\n",
      "Mask shapes:  [(435, 536), (405, 463), (487, 491), (468, 475)]\n"
     ]
    },
    {
     "name": "stderr",
     "output_type": "stream",
     "text": [
      "frame loading (JPEG): 100%|██████████| 4/4 [00:00<00:00, 31.56it/s]s/it]\n",
      "/home/kumaraditya/segment-anything-2/sam2/sam2_video_predictor.py:873: UserWarning: cannot import name '_C' from 'sam2' (/home/kumaraditya/segment-anything-2/sam2/__init__.py)\n",
      "\n",
      "Skipping the post-processing step due to the error above. You can still use SAM 2 and it's OK to ignore the error above, although some post-processing functionality may be limited (which doesn't affect the results in most cases; see https://github.com/facebookresearch/segment-anything-2/blob/main/INSTALL.md).\n",
      "  pred_masks_gpu = fill_holes_in_mask_scores(\n",
      "propagate in video: 100%|██████████| 4/4 [00:01<00:00,  3.39it/s]\n"
     ]
    },
    {
     "name": "stdout",
     "output_type": "stream",
     "text": [
      "RGB shapes:  [(932, 1022, 3), (931, 1025, 3), (940, 1043, 3), (926, 1026, 3)]\n",
      "Mask shapes:  [(932, 1022), (931, 1025), (940, 1043), (926, 1026)]\n"
     ]
    },
    {
     "name": "stderr",
     "output_type": "stream",
     "text": [
      "Rendering image grids: 100%|██████████| 135/135 [17:53<00:00,  7.95s/it]\n"
     ]
    }
   ],
   "source": [
    "refined_crops_data = dict()\n",
    "\n",
    "crop_dir = Path(cfg.output_dir) / scene_id / device / \"render_crops_sam2\"\n",
    "crop_dir.mkdir(parents=True, exist_ok=True)\n",
    "\n",
    "for id, entry in tqdm(crop_heaps.items(), f\"Rendering image grids\"):\n",
    "    heap = entry[\"heap\"]\n",
    "    label = entry[\"label\"]\n",
    "    if len(heap) and label.lower() not in [\n",
    "        \"background\",\n",
    "        \"wall\",\n",
    "        \"floor\",\n",
    "        \"ceiling\",\n",
    "        \"split\",\n",
    "        \"remove\",\n",
    "    ]:\n",
    "        \n",
    "        logging.info(f\"Processing object id: {id} with label: {label}\")\n",
    "        \n",
    "        crops = heap.get_sorted()\n",
    "        rgbs = [c.rgb for c in crops]\n",
    "        masks = [c.mask for c in crops]\n",
    "        scores = [c.score for c in crops]\n",
    "\n",
    "        rgbs, refined_masks, refined_scores = sam2_refine_masks(rgbs, masks, scores)\n",
    "\n",
    "        refined_crops_data[id] = dict()\n",
    "        refined_crops_data[id][\"rgbs\"] = rgbs\n",
    "        refined_crops_data[id][\"masks\"] = refined_masks\n",
    "        refined_crops_data[id][\"scores\"] = refined_scores\n",
    "        refined_crops_data[id][\"label\"] = label\n",
    "\n",
    "        #print all rgbs and masks shapes\n",
    "        print(\"RGB shapes: \", [rgb.shape for rgb in rgbs])\n",
    "        print(\"Mask shapes: \", [mask.shape for mask in refined_masks])\n",
    "        \n",
    "        plot_grid_images(\n",
    "            rgbs, refined_masks, grid_width=len(rgbs), title=label\n",
    "        )\n",
    "        plt.savefig(crop_dir / f\"{str(id).zfill(5)}.jpg\")\n",
    "        plt.close()"
   ]
  },
  {
   "cell_type": "code",
   "execution_count": 31,
   "metadata": {},
   "outputs": [],
   "source": [
    "import cv2\n",
    "\n",
    "def save_crops_data(crops_data, output_dir, pad_length=5):\n",
    "    rgb_dir = output_dir / \"rgbs\"\n",
    "    mask_dir = output_dir / \"masks\"\n",
    "    metadata_dir = output_dir / \"metadata\"\n",
    "    \n",
    "    os.makedirs(rgb_dir, exist_ok=True)\n",
    "    os.makedirs(mask_dir, exist_ok=True)\n",
    "    os.makedirs(metadata_dir, exist_ok=True)\n",
    "    \n",
    "    for obj_id, data in crops_data.items():\n",
    "        padded_obj_id = str(obj_id).zfill(pad_length)\n",
    "\n",
    "        for crop_id, (rgb, mask) in enumerate(zip(data[\"rgbs\"], data[\"masks\"])):\n",
    "            rgb_filename = os.path.join(rgb_dir, f\"{padded_obj_id}_{crop_id}_rgb.png\")\n",
    "            cv2.imwrite(rgb_filename, cv2.cvtColor(rgb, cv2.COLOR_RGB2BGR))  # Convert to BGR before saving\n",
    "\n",
    "            mask_filename = os.path.join(mask_dir, f\"{padded_obj_id}_{crop_id}_mask.npy\")\n",
    "            np.save(mask_filename, mask)\n",
    "\n",
    "        scores = [round(float(score), 4) for score in data[\"scores\"]]\n",
    "\n",
    "        metadata = {\n",
    "            \"scores\": scores,\n",
    "            \"label\": data[\"label\"]\n",
    "        }\n",
    "        metadata_filename = os.path.join(metadata_dir, f\"{padded_obj_id}_metadata.json\")\n",
    "        with open(metadata_filename, 'w') as metadata_file:\n",
    "            json.dump(metadata, metadata_file, indent=4)\n"
   ]
  },
  {
   "cell_type": "code",
   "execution_count": 32,
   "metadata": {},
   "outputs": [],
   "source": [
    "crops_data_dir = Path(cfg.output_dir) / scene_id / device / \"crops_data\"\n",
    "save_crops_data(refined_crops_data, crops_data_dir)"
   ]
  }
 ],
 "metadata": {
  "kernelspec": {
   "display_name": "scannetpp",
   "language": "python",
   "name": "python3"
  },
  "language_info": {
   "codemirror_mode": {
    "name": "ipython",
    "version": 3
   },
   "file_extension": ".py",
   "mimetype": "text/x-python",
   "name": "python",
   "nbconvert_exporter": "python",
   "pygments_lexer": "ipython3",
   "version": "3.10.14"
  }
 },
 "nbformat": 4,
 "nbformat_minor": 2
}
