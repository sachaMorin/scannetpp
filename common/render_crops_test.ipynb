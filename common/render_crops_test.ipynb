{
 "cells": [
  {
   "cell_type": "code",
   "execution_count": 1,
   "metadata": {},
   "outputs": [],
   "source": [
    "import argparse\n",
    "import os\n",
    "import sys\n",
    "from pathlib import Path\n",
    "import json\n",
    "import matplotlib.pyplot as plt\n",
    "%matplotlib inline\n",
    "\n",
    "import imageio\n",
    "import numpy as np\n",
    "from tqdm import tqdm\n",
    "try:\n",
    "    import renderpy\n",
    "except ImportError:\n",
    "    print(\"renderpy not installed. Please install renderpy from https://github.com/liu115/renderpy\")\n",
    "    sys.exit(1)"
   ]
  },
  {
   "cell_type": "code",
   "execution_count": 2,
   "metadata": {},
   "outputs": [],
   "source": [
    "from utils.colmap import read_model, write_model, Image\n",
    "from scene_release import ScannetppScene_Release\n",
    "from utils.utils import run_command, load_yaml_munch, load_json, read_txt_list"
   ]
  },
  {
   "cell_type": "code",
   "execution_count": 3,
   "metadata": {},
   "outputs": [
    {
     "name": "stdout",
     "output_type": "stream",
     "text": [
      "Config file: /home/kumaraditya/scannetpp/common/configs/render.yml\n"
     ]
    }
   ],
   "source": [
    "p = argparse.ArgumentParser()\n",
    "p.add_argument(\"config_file\", help=\"Path to config file\", default=\"/home/kumaraditya/scannetpp/common/configs/render.yml\", nargs=\"?\")\n",
    "args = p.parse_args([])\n",
    "\n",
    "print(f\"Config file: {args.config_file}\")\n"
   ]
  },
  {
   "cell_type": "code",
   "execution_count": 4,
   "metadata": {},
   "outputs": [],
   "source": [
    "cfg = load_yaml_munch(args.config_file)\n",
    "\n",
    "# get the scenes to process\n",
    "if cfg.get(\"scene_ids\"):\n",
    "    scene_ids = cfg.scene_ids\n",
    "elif cfg.get(\"splits\"):\n",
    "    scene_ids = []\n",
    "    for split in cfg.splits:\n",
    "        split_path = Path(cfg.data_root) / \"splits\" / f\"{split}.txt\"\n",
    "        scene_ids += read_txt_list(split_path)\n",
    "\n",
    "output_dir = cfg.get(\"output_dir\")\n",
    "if output_dir is None:\n",
    "    # default to data folder in data_root\n",
    "    output_dir = Path(cfg.data_root) / \"data\"\n",
    "output_dir = Path(output_dir)\n",
    "\n",
    "render_devices = []\n",
    "if cfg.get(\"render_dslr\", False):\n",
    "    render_devices.append(\"dslr\")\n",
    "    raise Exception(\"This code is has not been tested with the DSLR data.\")\n",
    "if cfg.get(\"render_iphone\", False):\n",
    "    render_devices.append(\"iphone\")"
   ]
  },
  {
   "cell_type": "code",
   "execution_count": 5,
   "metadata": {},
   "outputs": [
    {
     "name": "stdout",
     "output_type": "stream",
     "text": [
      "c0f5742640\n",
      "['iphone']\n"
     ]
    }
   ],
   "source": [
    "scene_id = scene_ids[0]\n",
    "print(scene_id)\n",
    "print(render_devices)"
   ]
  },
  {
   "cell_type": "code",
   "execution_count": 6,
   "metadata": {},
   "outputs": [
    {
     "name": "stdout",
     "output_type": "stream",
     "text": [
      "Init EGL\n",
      "Detected 5 devices\n",
      "Using device 0\n",
      "Using EGL version 1.5\n",
      "OpenGL version: 4.6.0 NVIDIA 550.107.02\n",
      "EGL version: 1.5\n",
      "Loaded mesh:MeshData:\n",
      "\tVertices:  917079\n",
      "\tColors:    917079\n",
      "\tNormals:   0\n",
      "\tTexCoords: 0\n",
      "\n",
      "\n",
      "Copy mesh to GPU: 917079 vertices, 1832073 faces\n",
      "Setup the frame and render buffer\n"
     ]
    },
    {
     "name": "stderr",
     "output_type": "stream",
     "text": [
      "Rendering object crops using iphone images:   0%|          | 0/586 [00:00<?, ?it/s]/tmp/ipykernel_151467/1520543007.py:61: DeprecationWarning: Starting with ImageIO v3 the behavior of this function will switch to that of iio.v3.imread. To keep the current behavior (and make this warning disappear) use `import imageio.v2 as imageio` or call `imageio.v2.imread` directly.\n",
      "  rgb = np.asarray(imageio.imread(iphone_rgb_path))\n",
      "Rendering object crops using iphone images: 100%|██████████| 586/586 [03:54<00:00,  2.50it/s]\n"
     ]
    }
   ],
   "source": [
    "from render_crops_utils import vert_to_obj_lookup, CropHeap, crop_rgb_mask, plot_grid_images\n",
    "\n",
    "scene = ScannetppScene_Release(scene_id, data_root=Path(cfg.data_root) / \"data\")\n",
    "render_engine = renderpy.Render()\n",
    "render_engine.setupMesh(str(scene.scan_mesh_path))\n",
    "\n",
    "# Load annotations\n",
    "segments_anno = json.load(open(scene.scan_anno_json_path, \"r\"))\n",
    "n_objects = len(segments_anno[\"segGroups\"])\n",
    "instance_colors = np.random.randint(low=0, high=256, size=(n_objects + 1, 3), dtype=np.uint8)\n",
    "instance_colors[0] = 255 # White bg\n",
    "vert_to_obj = vert_to_obj_lookup(segments_anno)\n",
    "\n",
    "# Crop heaps\n",
    "crop_heaps = dict()\n",
    "for obj in segments_anno[\"segGroups\"]:\n",
    "    crop_heaps[obj[\"id\"]] = dict()\n",
    "    crop_heaps[obj[\"id\"]][\"label\"] = obj[\"label\"]\n",
    "    crop_heaps[obj[\"id\"]][\"heap\"] = CropHeap(max_size=4)\n",
    "\n",
    "# Background class is 0\n",
    "assert 0 not in crop_heaps\n",
    "crop_heaps[0] = dict()\n",
    "crop_heaps[0][\"label\"] = \"BACKGROUND\"\n",
    "crop_heaps[0][\"heap\"] = CropHeap(max_size=4)\n",
    "\n",
    "\n",
    "for device in render_devices:\n",
    "    if device == \"dslr\":\n",
    "        cameras, images, points3D = read_model(scene.dslr_colmap_dir, \".txt\")\n",
    "    else:\n",
    "        cameras, images, points3D = read_model(scene.iphone_colmap_dir, \".txt\")\n",
    "    assert len(cameras) == 1, \"Multiple cameras not supported\"\n",
    "    camera = next(iter(cameras.values()))\n",
    "\n",
    "    fx, fy, cx, cy = camera.params[:4]\n",
    "    params = camera.params[4:]\n",
    "    camera_model = camera.model\n",
    "    render_engine.setupCamera(\n",
    "        camera.height, camera.width,\n",
    "        fx, fy, cx, cy,\n",
    "        camera_model,\n",
    "        params,      # Distortion parameters np.array([k1, k2, k3, k4]) or np.array([k1, k2, p1, p2])\n",
    "    )\n",
    "\n",
    "    near = cfg.get(\"near\", 0.05)\n",
    "    far = cfg.get(\"far\", 20.0)\n",
    "    rgb_dir = Path(cfg.output_dir) / scene_id / device / \"render_rgb\"\n",
    "    depth_dir = Path(cfg.output_dir) / scene_id / device / \"render_depth\"\n",
    "    crop_dir = Path(cfg.output_dir) / scene_id / device / \"render_crops_kumar_w_sam\"\n",
    "    rgb_dir.mkdir(parents=True, exist_ok=True)\n",
    "    depth_dir.mkdir(parents=True, exist_ok=True)\n",
    "    crop_dir.mkdir(parents=True, exist_ok=True)\n",
    "\n",
    "    for _, image in tqdm(images.items(), f\"Rendering object crops using {device} images\"):\n",
    "        world_to_camera = image.world_to_camera\n",
    "\n",
    "        rgb_rendered, _, vert_indices = render_engine.renderAll(world_to_camera, near, far)\n",
    "\n",
    "        iphone_rgb_path = Path(scene.iphone_rgb_dir) / image.name\n",
    "        rgb = np.asarray(imageio.imread(iphone_rgb_path))\n",
    "\n",
    "        vert_instance = vert_to_obj[vert_indices]\n",
    "        pix_instance = vert_instance[:, :, 0] # Some triangles actually belong to different objects. I don't think it will matter for crops.\n",
    "\n",
    "        # Visualize instances\n",
    "        # instance_rgb = instance_colors[pix_instance]\n",
    "        # imageio.imwrite(rgb_dir / image.name, instance_rgb)\n",
    "\n",
    "        objs = np.unique(pix_instance)\n",
    "\n",
    "        for obj in objs:\n",
    "            mask = pix_instance == obj\n",
    "            crop = crop_rgb_mask(rgb, rgb_rendered, mask, inflate_px=100)\n",
    "            crop_heaps[obj][\"heap\"].push(crop)\n",
    "\n",
    "\n",
    "        # instance_rgb = instance_rgb.astype(np.uint8)\n",
    "        # # Make depth in mm and clip to fit 16-bit image\n",
    "        # depth = (depth.astype(np.float32) * 1000).clip(0, 65535).astype(np.uint16)\n",
    "        # depth_name = image.name.split(\".\")[0] + \".png\"\n",
    "        # imageio.imwrite(depth_dir / depth_name, depth)"
   ]
  },
  {
   "cell_type": "code",
   "execution_count": 7,
   "metadata": {},
   "outputs": [],
   "source": [
    "# for id, entry in tqdm(crop_heaps.items(), f\"Rendering image grids\"):\n",
    "#     heap = entry[\"heap\"]\n",
    "#     label = entry[\"label\"]\n",
    "#     if len(heap) and label.lower() not in [\n",
    "#         \"background\",\n",
    "#         \"wall\",\n",
    "#         \"floor\",\n",
    "#         \"ceiling\",\n",
    "#         \"split\",\n",
    "#         \"remove\",\n",
    "#     ]:\n",
    "#         crops = heap.get_sorted()\n",
    "#         rgbs = [c.rgb for c in crops]\n",
    "#         masks = [c.mask for c in crops]\n",
    "#         scores = [c.score for c in crops]\n",
    "#         plot_grid_images(\n",
    "#             rgbs + masks, grid_width=len(rgbs), title=entry[\"label\"]\n",
    "#         )\n",
    "#         plt.savefig(crop_dir / f\"{str(id).zfill(5)}.jpg\")\n",
    "#         plt.close()"
   ]
  },
  {
   "cell_type": "code",
   "execution_count": 10,
   "metadata": {},
   "outputs": [],
   "source": [
    "import torch\n",
    "import os\n",
    "import tempfile\n",
    "import shutil\n",
    "import cv2\n",
    "from sam2.build_sam import build_sam2_video_predictor\n",
    "\n",
    "class SAM2VideoMaskModel:\n",
    "    def __init__(self, sam2_checkpoint, model_cfg, device=\"cuda\"):\n",
    "        \"\"\"\n",
    "        Initialize SAM2 model and create a temporary directory for storing video frames.\n",
    "\n",
    "        Args:\n",
    "            sam2_checkpoint (str): Path to the SAM2 checkpoint file.\n",
    "            model_cfg (str): Path to the SAM2 model configuration file.\n",
    "            device (str): Device to run SAM2 on (e.g., 'cuda' or 'cpu').\n",
    "        \"\"\"\n",
    "        self.device = torch.device(device)\n",
    "        if self.device.type == \"cuda\":\n",
    "            torch.autocast(\"cuda\", dtype=torch.bfloat16).__enter__()\n",
    "\n",
    "        self.predictor = build_sam2_video_predictor(\n",
    "            model_cfg, sam2_checkpoint, device=self.device\n",
    "        )\n",
    "\n",
    "        # Create a temporary directory for storing frames\n",
    "        self.temp_dir = tempfile.mkdtemp()\n",
    "        print(f\"Temporary directory created at: {self.temp_dir}\")\n",
    "\n",
    "        # Placeholder for resized images, masks, padded_masks, rgb_padded, padding information, and scores\n",
    "        self.rgb = []\n",
    "        self.rgb_padded = []\n",
    "        self.mask = []\n",
    "        self.padded_masks = []\n",
    "        self.scores = []\n",
    "        self.padding_info = []\n",
    "        self.refined_masks = []\n",
    "\n",
    "    def pad_and_store(self, rgbs, masks, scores):\n",
    "        \"\"\"\n",
    "        Pads the RGB images and masks to the size of the largest image and stores the RGBs in the temp directory.\n",
    "        Also stores the provided scores, padded masks, and padding information for each image.\n",
    "\n",
    "        Args:\n",
    "            rgbs: List of RGB images in cv2 format (H, W, 3).\n",
    "            masks: List of mask images in cv2 format (H, W) or (H, W, 1).\n",
    "            scores: List of scores for each corresponding RGB and mask.\n",
    "        \"\"\"\n",
    "        if len(rgbs) != len(masks) or len(rgbs) != len(scores):\n",
    "            raise ValueError(\"The number of RGB images, masks, and scores must match.\")\n",
    "\n",
    "        # Determine the target size based on the largest dimensions of the images\n",
    "        max_h = max([rgb.shape[0] for rgb in rgbs])  # Find the max height\n",
    "        max_w = max([rgb.shape[1] for rgb in rgbs])  # Find the max width\n",
    "\n",
    "        for idx, (rgb, mask, score) in enumerate(zip(rgbs, masks, scores)):\n",
    "            # Calculate padding for RGB and mask to fit into the max dimensions\n",
    "            h, w, _ = rgb.shape\n",
    "            pad_h = max_h - h\n",
    "            pad_w = max_w - w\n",
    "            padding_info = (\n",
    "                (0, pad_h),\n",
    "                (0, pad_w),\n",
    "            )  # Store padding applied for future unpadding\n",
    "\n",
    "            # Apply padding to RGB and mask\n",
    "            padded_rgb = np.pad(\n",
    "                rgb,\n",
    "                ((0, pad_h), (0, pad_w), (0, 0)),\n",
    "                mode=\"constant\",\n",
    "                constant_values=0,\n",
    "            )\n",
    "            padded_mask = np.pad(\n",
    "                mask, ((0, pad_h), (0, pad_w)), mode=\"constant\", constant_values=0\n",
    "            )\n",
    "\n",
    "            # Save the padded RGB to the temp directory\n",
    "            rgb_filename = os.path.join(self.temp_dir, f\"{idx}.jpg\")\n",
    "            cv2.imwrite(rgb_filename, padded_rgb)\n",
    "\n",
    "            # Store the original and padded images, masks, scores, and padding info\n",
    "            self.rgb.append(rgb)\n",
    "            self.rgb_padded.append(padded_rgb)\n",
    "            self.mask.append(mask)\n",
    "            self.padded_masks.append(padded_mask)\n",
    "            self.scores.append(score)\n",
    "            self.padding_info.append(padding_info)\n",
    "\n",
    "        # print(f\"Stored {len(self.rgb)} padded RGB images, masks, and scores.\")\n",
    "\n",
    "    def set_state_and_refine_masks(self):\n",
    "        \"\"\"\n",
    "        Set the state for the SAM2 predictor, refine the masks based on the highest scoring image,\n",
    "        and propagate the refined mask through all frames.\n",
    "        \"\"\"\n",
    "        # Set the inference state using the temp_dir where padded frames are stored\n",
    "        inference_state = self.predictor.init_state(video_path=self.temp_dir)\n",
    "\n",
    "        # Find the RGB image with the highest score\n",
    "        highest_score_idx = np.argmax(self.scores)\n",
    "        highest_score_rgb = self.rgb_padded[highest_score_idx]\n",
    "        highest_score_mask = self.padded_masks[highest_score_idx]\n",
    "\n",
    "        # Sample two points for initialization (centroid and another random point in the mask)\n",
    "        mask_indices = np.argwhere(\n",
    "            highest_score_mask > 0\n",
    "        )  # Get the indices of the mask\n",
    "        # centroid = np.mean(mask_indices, axis=0).astype(int)\n",
    "        random_point_1 = mask_indices[np.random.choice(len(mask_indices))]\n",
    "        random_point_2 = mask_indices[np.random.choice(len(mask_indices))]\n",
    "\n",
    "        points = np.array([random_point_1, random_point_2], dtype=np.float32)\n",
    "        labels = np.array([1, 1], dtype=np.int32)  # Positive clicks for both points\n",
    "\n",
    "        # Initialize the predictor with points and mask\n",
    "        _, out_obj_ids, out_mask_logits = self.predictor.add_new_points_or_box(\n",
    "            inference_state=inference_state,\n",
    "            frame_idx=highest_score_idx,  # Use the index of the highest score frame\n",
    "            obj_id=1,  # Give a unique ID to this object\n",
    "            points=points,\n",
    "            labels=labels,\n",
    "            box=None,  # No box used in this example\n",
    "        )\n",
    "\n",
    "        # Propagate the refined mask through all frames and store them\n",
    "        for out_frame_idx, out_obj_ids, out_mask_logits in self.predictor.propagate_in_video(inference_state):\n",
    "            # We assume that there is only one object per frame, so we can extract the first mask\n",
    "            refined_mask = (out_mask_logits[0] > 0.0).cpu().numpy().squeeze()\n",
    "            self.refined_masks.append(refined_mask)\n",
    "\n",
    "        # print(\"Refined masks propagated and stored for all frames.\")\n",
    "\n",
    "        self.predictor.reset_state(inference_state)\n",
    "        # print(\"Inference state reset.\")\n",
    "\n",
    "    def unpad_masks_to_original_size(self):\n",
    "        \"\"\"\n",
    "        Converts the refined masks back to their original sizes by removing the padding.\n",
    "        Assumes `self.refined_masks` is a list of masks with shape (h, w).\n",
    "        \"\"\"\n",
    "        original_size_masks = []\n",
    "        \n",
    "        for frame_idx, mask in enumerate(self.refined_masks):\n",
    "            # Retrieve the padding information for this frame\n",
    "            pad_h, pad_w = self.padding_info[frame_idx]  # Get padding for the frame\n",
    "\n",
    "            # Remove padding from the mask\n",
    "            if pad_h[1] != 0 or pad_w[1] != 0:\n",
    "                original_mask = mask[:-pad_h[1], :-pad_w[1]]\n",
    "            else:\n",
    "                original_mask = mask  # No padding, keep the mask as it is\n",
    "            \n",
    "            # Append the unpadded mask to the original_size_masks list\n",
    "            original_size_masks.append(original_mask)\n",
    "\n",
    "        self.refined_masks = original_size_masks  # Update the refined masks to their original sizes\n",
    "        # print(\"Masks resized back to original dimensions.\")\n",
    "\n",
    "    def cleanup(self):\n",
    "        \"\"\"\n",
    "        Cleans up the temporary directory and clears all stored data except the SAM2 model.\n",
    "        \"\"\"\n",
    "        if os.path.exists(self.temp_dir):\n",
    "            for filename in os.listdir(self.temp_dir):\n",
    "                file_path = os.path.join(self.temp_dir, filename)\n",
    "                try:\n",
    "                    if os.path.isfile(file_path) or os.path.islink(file_path):\n",
    "                        os.unlink(file_path)  # Remove the file or symbolic link\n",
    "                    elif os.path.isdir(file_path):\n",
    "                        shutil.rmtree(file_path)  # Remove the subdirectory and its contents\n",
    "                except Exception as e:\n",
    "                    print(f\"Failed to delete {file_path}. Reason: {e}\")\n",
    "\n",
    "            print(f\"Cleared contents of temporary directory {self.temp_dir}.\")\n",
    "\n",
    "        # Clear all stored data (RGBs, masks, etc.) except the SAM2 model\n",
    "        self.rgb = []\n",
    "        self.rgb_padded = []\n",
    "        self.mask = []\n",
    "        self.padded_masks = []\n",
    "        self.scores = []\n",
    "        self.padding_info = []\n",
    "        self.refined_masks = []\n",
    "        \n",
    "        print(\"Cleared all stored images, masks, scores, and padding information.\")\n"
   ]
  },
  {
   "cell_type": "code",
   "execution_count": 11,
   "metadata": {},
   "outputs": [
    {
     "name": "stdout",
     "output_type": "stream",
     "text": [
      "Temporary directory created at: /tmp/tmpehswpppo\n"
     ]
    }
   ],
   "source": [
    "sam2_checkpoint = \"/home/kumaraditya/checkpoints/sam2_hiera_large.pt\"\n",
    "sam2_model_cfg = \"sam2_hiera_l.yaml\"\n",
    "sam2_model = SAM2VideoMaskModel(sam2_checkpoint, sam2_model_cfg)\n"
   ]
  },
  {
   "cell_type": "code",
   "execution_count": 12,
   "metadata": {},
   "outputs": [
    {
     "name": "stderr",
     "output_type": "stream",
     "text": [
      "frame loading (JPEG): 100%|██████████| 4/4 [00:00<00:00, 33.66it/s]\n",
      "/home/kumaraditya/segment-anything-2/sam2/sam2_video_predictor.py:873: UserWarning: cannot import name '_C' from 'sam2' (/home/kumaraditya/segment-anything-2/sam2/__init__.py)\n",
      "\n",
      "Skipping the post-processing step due to the error above. You can still use SAM 2 and it's OK to ignore the error above, although some post-processing functionality may be limited (which doesn't affect the results in most cases; see https://github.com/facebookresearch/segment-anything-2/blob/main/INSTALL.md).\n",
      "  pred_masks_gpu = fill_holes_in_mask_scores(\n",
      "propagate in video: 100%|██████████| 4/4 [00:01<00:00,  3.85it/s]\n",
      "/home/kumaraditya/scannetpp/common/render_crops_utils.py:185: UserWarning: Attempting to set identical low and high xlims makes transformation singular; automatically expanding.\n",
      "  ax.imshow(img)\n",
      "/home/kumaraditya/scannetpp/common/render_crops_utils.py:185: UserWarning: Attempting to set identical low and high ylims makes transformation singular; automatically expanding.\n",
      "  ax.imshow(img)\n"
     ]
    },
    {
     "name": "stdout",
     "output_type": "stream",
     "text": [
      "Cleared contents of temporary directory /tmp/tmpehswpppo.\n",
      "Cleared all stored images, masks, scores, and padding information.\n"
     ]
    },
    {
     "name": "stderr",
     "output_type": "stream",
     "text": [
      "frame loading (JPEG): 100%|██████████| 4/4 [00:00<00:00, 42.06it/s]it]\n",
      "/home/kumaraditya/segment-anything-2/sam2/sam2_video_predictor.py:873: UserWarning: cannot import name '_C' from 'sam2' (/home/kumaraditya/segment-anything-2/sam2/__init__.py)\n",
      "\n",
      "Skipping the post-processing step due to the error above. You can still use SAM 2 and it's OK to ignore the error above, although some post-processing functionality may be limited (which doesn't affect the results in most cases; see https://github.com/facebookresearch/segment-anything-2/blob/main/INSTALL.md).\n",
      "  pred_masks_gpu = fill_holes_in_mask_scores(\n",
      "propagate in video: 100%|██████████| 4/4 [00:01<00:00,  3.98it/s]\n",
      "/home/kumaraditya/scannetpp/common/render_crops_utils.py:185: UserWarning: Attempting to set identical low and high ylims makes transformation singular; automatically expanding.\n",
      "  ax.imshow(img)\n",
      "/home/kumaraditya/scannetpp/common/render_crops_utils.py:185: UserWarning: Attempting to set identical low and high xlims makes transformation singular; automatically expanding.\n",
      "  ax.imshow(img)\n"
     ]
    },
    {
     "name": "stdout",
     "output_type": "stream",
     "text": [
      "Cleared contents of temporary directory /tmp/tmpehswpppo.\n",
      "Cleared all stored images, masks, scores, and padding information.\n"
     ]
    },
    {
     "name": "stderr",
     "output_type": "stream",
     "text": [
      "frame loading (JPEG): 100%|██████████| 4/4 [00:00<00:00, 38.90it/s]it]\n",
      "/home/kumaraditya/segment-anything-2/sam2/sam2_video_predictor.py:873: UserWarning: cannot import name '_C' from 'sam2' (/home/kumaraditya/segment-anything-2/sam2/__init__.py)\n",
      "\n",
      "Skipping the post-processing step due to the error above. You can still use SAM 2 and it's OK to ignore the error above, although some post-processing functionality may be limited (which doesn't affect the results in most cases; see https://github.com/facebookresearch/segment-anything-2/blob/main/INSTALL.md).\n",
      "  pred_masks_gpu = fill_holes_in_mask_scores(\n",
      "propagate in video: 100%|██████████| 4/4 [00:01<00:00,  3.97it/s]\n",
      "/home/kumaraditya/scannetpp/common/render_crops_utils.py:185: UserWarning: Attempting to set identical low and high xlims makes transformation singular; automatically expanding.\n",
      "  ax.imshow(img)\n",
      "/home/kumaraditya/scannetpp/common/render_crops_utils.py:185: UserWarning: Attempting to set identical low and high ylims makes transformation singular; automatically expanding.\n",
      "  ax.imshow(img)\n"
     ]
    },
    {
     "name": "stdout",
     "output_type": "stream",
     "text": [
      "Cleared contents of temporary directory /tmp/tmpehswpppo.\n",
      "Cleared all stored images, masks, scores, and padding information.\n"
     ]
    },
    {
     "name": "stderr",
     "output_type": "stream",
     "text": [
      "frame loading (JPEG): 100%|██████████| 4/4 [00:00<00:00, 35.96it/s]it]\n",
      "/home/kumaraditya/segment-anything-2/sam2/sam2_video_predictor.py:873: UserWarning: cannot import name '_C' from 'sam2' (/home/kumaraditya/segment-anything-2/sam2/__init__.py)\n",
      "\n",
      "Skipping the post-processing step due to the error above. You can still use SAM 2 and it's OK to ignore the error above, although some post-processing functionality may be limited (which doesn't affect the results in most cases; see https://github.com/facebookresearch/segment-anything-2/blob/main/INSTALL.md).\n",
      "  pred_masks_gpu = fill_holes_in_mask_scores(\n",
      "propagate in video: 100%|██████████| 4/4 [00:01<00:00,  3.97it/s]\n",
      "/home/kumaraditya/scannetpp/common/render_crops_utils.py:185: UserWarning: Attempting to set identical low and high xlims makes transformation singular; automatically expanding.\n",
      "  ax.imshow(img)\n",
      "/home/kumaraditya/scannetpp/common/render_crops_utils.py:185: UserWarning: Attempting to set identical low and high ylims makes transformation singular; automatically expanding.\n",
      "  ax.imshow(img)\n"
     ]
    },
    {
     "name": "stdout",
     "output_type": "stream",
     "text": [
      "Cleared contents of temporary directory /tmp/tmpehswpppo.\n",
      "Cleared all stored images, masks, scores, and padding information.\n"
     ]
    },
    {
     "name": "stderr",
     "output_type": "stream",
     "text": [
      "frame loading (JPEG): 100%|██████████| 4/4 [00:00<00:00, 27.72it/s]it]\n",
      "/home/kumaraditya/segment-anything-2/sam2/sam2_video_predictor.py:873: UserWarning: cannot import name '_C' from 'sam2' (/home/kumaraditya/segment-anything-2/sam2/__init__.py)\n",
      "\n",
      "Skipping the post-processing step due to the error above. You can still use SAM 2 and it's OK to ignore the error above, although some post-processing functionality may be limited (which doesn't affect the results in most cases; see https://github.com/facebookresearch/segment-anything-2/blob/main/INSTALL.md).\n",
      "  pred_masks_gpu = fill_holes_in_mask_scores(\n",
      "propagate in video: 100%|██████████| 4/4 [00:01<00:00,  3.95it/s]\n",
      "/home/kumaraditya/scannetpp/common/render_crops_utils.py:185: UserWarning: Attempting to set identical low and high xlims makes transformation singular; automatically expanding.\n",
      "  ax.imshow(img)\n",
      "/home/kumaraditya/scannetpp/common/render_crops_utils.py:185: UserWarning: Attempting to set identical low and high ylims makes transformation singular; automatically expanding.\n",
      "  ax.imshow(img)\n"
     ]
    },
    {
     "name": "stdout",
     "output_type": "stream",
     "text": [
      "Cleared contents of temporary directory /tmp/tmpehswpppo.\n",
      "Cleared all stored images, masks, scores, and padding information.\n"
     ]
    },
    {
     "name": "stderr",
     "output_type": "stream",
     "text": [
      "frame loading (JPEG): 100%|██████████| 4/4 [00:00<00:00, 34.50it/s]it]\n",
      "/home/kumaraditya/segment-anything-2/sam2/sam2_video_predictor.py:873: UserWarning: cannot import name '_C' from 'sam2' (/home/kumaraditya/segment-anything-2/sam2/__init__.py)\n",
      "\n",
      "Skipping the post-processing step due to the error above. You can still use SAM 2 and it's OK to ignore the error above, although some post-processing functionality may be limited (which doesn't affect the results in most cases; see https://github.com/facebookresearch/segment-anything-2/blob/main/INSTALL.md).\n",
      "  pred_masks_gpu = fill_holes_in_mask_scores(\n",
      "propagate in video: 100%|██████████| 4/4 [00:01<00:00,  3.94it/s]\n",
      "/home/kumaraditya/scannetpp/common/render_crops_utils.py:185: UserWarning: Attempting to set identical low and high ylims makes transformation singular; automatically expanding.\n",
      "  ax.imshow(img)\n",
      "/home/kumaraditya/scannetpp/common/render_crops_utils.py:185: UserWarning: Attempting to set identical low and high xlims makes transformation singular; automatically expanding.\n",
      "  ax.imshow(img)\n"
     ]
    },
    {
     "name": "stdout",
     "output_type": "stream",
     "text": [
      "Cleared contents of temporary directory /tmp/tmpehswpppo.\n",
      "Cleared all stored images, masks, scores, and padding information.\n"
     ]
    },
    {
     "name": "stderr",
     "output_type": "stream",
     "text": [
      "frame loading (JPEG): 100%|██████████| 4/4 [00:00<00:00, 38.16it/s]it]\n",
      "/home/kumaraditya/segment-anything-2/sam2/sam2_video_predictor.py:873: UserWarning: cannot import name '_C' from 'sam2' (/home/kumaraditya/segment-anything-2/sam2/__init__.py)\n",
      "\n",
      "Skipping the post-processing step due to the error above. You can still use SAM 2 and it's OK to ignore the error above, although some post-processing functionality may be limited (which doesn't affect the results in most cases; see https://github.com/facebookresearch/segment-anything-2/blob/main/INSTALL.md).\n",
      "  pred_masks_gpu = fill_holes_in_mask_scores(\n",
      "propagate in video: 100%|██████████| 4/4 [00:01<00:00,  3.93it/s]\n",
      "/home/kumaraditya/scannetpp/common/render_crops_utils.py:185: UserWarning: Attempting to set identical low and high ylims makes transformation singular; automatically expanding.\n",
      "  ax.imshow(img)\n",
      "/home/kumaraditya/scannetpp/common/render_crops_utils.py:185: UserWarning: Attempting to set identical low and high xlims makes transformation singular; automatically expanding.\n",
      "  ax.imshow(img)\n"
     ]
    },
    {
     "name": "stdout",
     "output_type": "stream",
     "text": [
      "Cleared contents of temporary directory /tmp/tmpehswpppo.\n",
      "Cleared all stored images, masks, scores, and padding information.\n"
     ]
    },
    {
     "name": "stderr",
     "output_type": "stream",
     "text": [
      "frame loading (JPEG): 100%|██████████| 4/4 [00:00<00:00, 40.97it/s]it]\n",
      "/home/kumaraditya/segment-anything-2/sam2/sam2_video_predictor.py:873: UserWarning: cannot import name '_C' from 'sam2' (/home/kumaraditya/segment-anything-2/sam2/__init__.py)\n",
      "\n",
      "Skipping the post-processing step due to the error above. You can still use SAM 2 and it's OK to ignore the error above, although some post-processing functionality may be limited (which doesn't affect the results in most cases; see https://github.com/facebookresearch/segment-anything-2/blob/main/INSTALL.md).\n",
      "  pred_masks_gpu = fill_holes_in_mask_scores(\n",
      "propagate in video: 100%|██████████| 4/4 [00:01<00:00,  3.93it/s]\n",
      "/home/kumaraditya/scannetpp/common/render_crops_utils.py:185: UserWarning: Attempting to set identical low and high xlims makes transformation singular; automatically expanding.\n",
      "  ax.imshow(img)\n",
      "/home/kumaraditya/scannetpp/common/render_crops_utils.py:185: UserWarning: Attempting to set identical low and high ylims makes transformation singular; automatically expanding.\n",
      "  ax.imshow(img)\n"
     ]
    },
    {
     "name": "stdout",
     "output_type": "stream",
     "text": [
      "Cleared contents of temporary directory /tmp/tmpehswpppo.\n",
      "Cleared all stored images, masks, scores, and padding information.\n"
     ]
    },
    {
     "name": "stderr",
     "output_type": "stream",
     "text": [
      "frame loading (JPEG): 100%|██████████| 4/4 [00:00<00:00, 42.47it/s]it]\n",
      "/home/kumaraditya/segment-anything-2/sam2/sam2_video_predictor.py:873: UserWarning: cannot import name '_C' from 'sam2' (/home/kumaraditya/segment-anything-2/sam2/__init__.py)\n",
      "\n",
      "Skipping the post-processing step due to the error above. You can still use SAM 2 and it's OK to ignore the error above, although some post-processing functionality may be limited (which doesn't affect the results in most cases; see https://github.com/facebookresearch/segment-anything-2/blob/main/INSTALL.md).\n",
      "  pred_masks_gpu = fill_holes_in_mask_scores(\n",
      "propagate in video: 100%|██████████| 4/4 [00:01<00:00,  3.93it/s]\n"
     ]
    },
    {
     "name": "stdout",
     "output_type": "stream",
     "text": [
      "Cleared contents of temporary directory /tmp/tmpehswpppo.\n",
      "Cleared all stored images, masks, scores, and padding information.\n"
     ]
    },
    {
     "name": "stderr",
     "output_type": "stream",
     "text": [
      "/home/kumaraditya/scannetpp/common/render_crops_utils.py:185: UserWarning: Attempting to set identical low and high ylims makes transformation singular; automatically expanding.\n",
      "  ax.imshow(img)\n",
      "/home/kumaraditya/scannetpp/common/render_crops_utils.py:185: UserWarning: Attempting to set identical low and high xlims makes transformation singular; automatically expanding.\n",
      "  ax.imshow(img)\n",
      "frame loading (JPEG): 100%|██████████| 4/4 [00:00<00:00, 41.30it/s]/it]\n",
      "/home/kumaraditya/segment-anything-2/sam2/sam2_video_predictor.py:873: UserWarning: cannot import name '_C' from 'sam2' (/home/kumaraditya/segment-anything-2/sam2/__init__.py)\n",
      "\n",
      "Skipping the post-processing step due to the error above. You can still use SAM 2 and it's OK to ignore the error above, although some post-processing functionality may be limited (which doesn't affect the results in most cases; see https://github.com/facebookresearch/segment-anything-2/blob/main/INSTALL.md).\n",
      "  pred_masks_gpu = fill_holes_in_mask_scores(\n",
      "propagate in video: 100%|██████████| 4/4 [00:01<00:00,  3.90it/s]\n",
      "/home/kumaraditya/scannetpp/common/render_crops_utils.py:185: UserWarning: Attempting to set identical low and high ylims makes transformation singular; automatically expanding.\n",
      "  ax.imshow(img)\n",
      "/home/kumaraditya/scannetpp/common/render_crops_utils.py:185: UserWarning: Attempting to set identical low and high xlims makes transformation singular; automatically expanding.\n",
      "  ax.imshow(img)\n"
     ]
    },
    {
     "name": "stdout",
     "output_type": "stream",
     "text": [
      "Cleared contents of temporary directory /tmp/tmpehswpppo.\n",
      "Cleared all stored images, masks, scores, and padding information.\n"
     ]
    },
    {
     "name": "stderr",
     "output_type": "stream",
     "text": [
      "frame loading (JPEG): 100%|██████████| 4/4 [00:00<00:00, 37.56it/s]/it]\n",
      "/home/kumaraditya/segment-anything-2/sam2/sam2_video_predictor.py:873: UserWarning: cannot import name '_C' from 'sam2' (/home/kumaraditya/segment-anything-2/sam2/__init__.py)\n",
      "\n",
      "Skipping the post-processing step due to the error above. You can still use SAM 2 and it's OK to ignore the error above, although some post-processing functionality may be limited (which doesn't affect the results in most cases; see https://github.com/facebookresearch/segment-anything-2/blob/main/INSTALL.md).\n",
      "  pred_masks_gpu = fill_holes_in_mask_scores(\n",
      "propagate in video: 100%|██████████| 4/4 [00:01<00:00,  3.90it/s]\n",
      "/home/kumaraditya/scannetpp/common/render_crops_utils.py:185: UserWarning: Attempting to set identical low and high xlims makes transformation singular; automatically expanding.\n",
      "  ax.imshow(img)\n"
     ]
    },
    {
     "name": "stdout",
     "output_type": "stream",
     "text": [
      "Cleared contents of temporary directory /tmp/tmpehswpppo.\n",
      "Cleared all stored images, masks, scores, and padding information.\n"
     ]
    },
    {
     "name": "stderr",
     "output_type": "stream",
     "text": [
      "frame loading (JPEG): 100%|██████████| 4/4 [00:00<00:00, 27.53it/s]/it]\n",
      "/home/kumaraditya/segment-anything-2/sam2/sam2_video_predictor.py:873: UserWarning: cannot import name '_C' from 'sam2' (/home/kumaraditya/segment-anything-2/sam2/__init__.py)\n",
      "\n",
      "Skipping the post-processing step due to the error above. You can still use SAM 2 and it's OK to ignore the error above, although some post-processing functionality may be limited (which doesn't affect the results in most cases; see https://github.com/facebookresearch/segment-anything-2/blob/main/INSTALL.md).\n",
      "  pred_masks_gpu = fill_holes_in_mask_scores(\n",
      "propagate in video: 100%|██████████| 4/4 [00:01<00:00,  3.90it/s]\n"
     ]
    },
    {
     "name": "stdout",
     "output_type": "stream",
     "text": [
      "Cleared contents of temporary directory /tmp/tmpehswpppo.\n",
      "Cleared all stored images, masks, scores, and padding information.\n"
     ]
    },
    {
     "name": "stderr",
     "output_type": "stream",
     "text": [
      "frame loading (JPEG): 100%|██████████| 4/4 [00:00<00:00, 34.99it/s]/it]\n",
      "/home/kumaraditya/segment-anything-2/sam2/sam2_video_predictor.py:873: UserWarning: cannot import name '_C' from 'sam2' (/home/kumaraditya/segment-anything-2/sam2/__init__.py)\n",
      "\n",
      "Skipping the post-processing step due to the error above. You can still use SAM 2 and it's OK to ignore the error above, although some post-processing functionality may be limited (which doesn't affect the results in most cases; see https://github.com/facebookresearch/segment-anything-2/blob/main/INSTALL.md).\n",
      "  pred_masks_gpu = fill_holes_in_mask_scores(\n",
      "propagate in video: 100%|██████████| 4/4 [00:01<00:00,  3.91it/s]\n"
     ]
    },
    {
     "name": "stdout",
     "output_type": "stream",
     "text": [
      "Cleared contents of temporary directory /tmp/tmpehswpppo.\n",
      "Cleared all stored images, masks, scores, and padding information.\n"
     ]
    },
    {
     "name": "stderr",
     "output_type": "stream",
     "text": [
      "frame loading (JPEG): 100%|██████████| 4/4 [00:00<00:00, 27.46it/s]/it]\n",
      "/home/kumaraditya/segment-anything-2/sam2/sam2_video_predictor.py:873: UserWarning: cannot import name '_C' from 'sam2' (/home/kumaraditya/segment-anything-2/sam2/__init__.py)\n",
      "\n",
      "Skipping the post-processing step due to the error above. You can still use SAM 2 and it's OK to ignore the error above, although some post-processing functionality may be limited (which doesn't affect the results in most cases; see https://github.com/facebookresearch/segment-anything-2/blob/main/INSTALL.md).\n",
      "  pred_masks_gpu = fill_holes_in_mask_scores(\n",
      "propagate in video: 100%|██████████| 4/4 [00:01<00:00,  3.90it/s]\n"
     ]
    },
    {
     "name": "stdout",
     "output_type": "stream",
     "text": [
      "Cleared contents of temporary directory /tmp/tmpehswpppo.\n",
      "Cleared all stored images, masks, scores, and padding information.\n"
     ]
    },
    {
     "name": "stderr",
     "output_type": "stream",
     "text": [
      "frame loading (JPEG): 100%|██████████| 4/4 [00:00<00:00, 43.17it/s]/it]\n",
      "/home/kumaraditya/segment-anything-2/sam2/sam2_video_predictor.py:873: UserWarning: cannot import name '_C' from 'sam2' (/home/kumaraditya/segment-anything-2/sam2/__init__.py)\n",
      "\n",
      "Skipping the post-processing step due to the error above. You can still use SAM 2 and it's OK to ignore the error above, although some post-processing functionality may be limited (which doesn't affect the results in most cases; see https://github.com/facebookresearch/segment-anything-2/blob/main/INSTALL.md).\n",
      "  pred_masks_gpu = fill_holes_in_mask_scores(\n",
      "propagate in video: 100%|██████████| 4/4 [00:01<00:00,  3.90it/s]\n",
      "/home/kumaraditya/scannetpp/common/render_crops_utils.py:185: UserWarning: Attempting to set identical low and high xlims makes transformation singular; automatically expanding.\n",
      "  ax.imshow(img)\n",
      "/home/kumaraditya/scannetpp/common/render_crops_utils.py:185: UserWarning: Attempting to set identical low and high ylims makes transformation singular; automatically expanding.\n",
      "  ax.imshow(img)\n"
     ]
    },
    {
     "name": "stdout",
     "output_type": "stream",
     "text": [
      "Cleared contents of temporary directory /tmp/tmpehswpppo.\n",
      "Cleared all stored images, masks, scores, and padding information.\n"
     ]
    },
    {
     "name": "stderr",
     "output_type": "stream",
     "text": [
      "frame loading (JPEG): 100%|██████████| 4/4 [00:00<00:00, 40.60it/s]/it]\n",
      "/home/kumaraditya/segment-anything-2/sam2/sam2_video_predictor.py:873: UserWarning: cannot import name '_C' from 'sam2' (/home/kumaraditya/segment-anything-2/sam2/__init__.py)\n",
      "\n",
      "Skipping the post-processing step due to the error above. You can still use SAM 2 and it's OK to ignore the error above, although some post-processing functionality may be limited (which doesn't affect the results in most cases; see https://github.com/facebookresearch/segment-anything-2/blob/main/INSTALL.md).\n",
      "  pred_masks_gpu = fill_holes_in_mask_scores(\n",
      "propagate in video: 100%|██████████| 4/4 [00:01<00:00,  3.89it/s]\n"
     ]
    },
    {
     "name": "stdout",
     "output_type": "stream",
     "text": [
      "Cleared contents of temporary directory /tmp/tmpehswpppo.\n",
      "Cleared all stored images, masks, scores, and padding information.\n"
     ]
    },
    {
     "name": "stderr",
     "output_type": "stream",
     "text": [
      "frame loading (JPEG): 100%|██████████| 4/4 [00:00<00:00, 28.11it/s]/it]\n",
      "/home/kumaraditya/segment-anything-2/sam2/sam2_video_predictor.py:873: UserWarning: cannot import name '_C' from 'sam2' (/home/kumaraditya/segment-anything-2/sam2/__init__.py)\n",
      "\n",
      "Skipping the post-processing step due to the error above. You can still use SAM 2 and it's OK to ignore the error above, although some post-processing functionality may be limited (which doesn't affect the results in most cases; see https://github.com/facebookresearch/segment-anything-2/blob/main/INSTALL.md).\n",
      "  pred_masks_gpu = fill_holes_in_mask_scores(\n",
      "propagate in video: 100%|██████████| 4/4 [00:01<00:00,  3.88it/s]\n"
     ]
    },
    {
     "name": "stdout",
     "output_type": "stream",
     "text": [
      "Cleared contents of temporary directory /tmp/tmpehswpppo.\n",
      "Cleared all stored images, masks, scores, and padding information.\n"
     ]
    },
    {
     "name": "stderr",
     "output_type": "stream",
     "text": [
      "frame loading (JPEG): 100%|██████████| 4/4 [00:00<00:00, 24.62it/s]/it]\n",
      "/home/kumaraditya/segment-anything-2/sam2/sam2_video_predictor.py:873: UserWarning: cannot import name '_C' from 'sam2' (/home/kumaraditya/segment-anything-2/sam2/__init__.py)\n",
      "\n",
      "Skipping the post-processing step due to the error above. You can still use SAM 2 and it's OK to ignore the error above, although some post-processing functionality may be limited (which doesn't affect the results in most cases; see https://github.com/facebookresearch/segment-anything-2/blob/main/INSTALL.md).\n",
      "  pred_masks_gpu = fill_holes_in_mask_scores(\n",
      "propagate in video: 100%|██████████| 4/4 [00:01<00:00,  3.87it/s]\n",
      "/home/kumaraditya/scannetpp/common/render_crops_utils.py:185: UserWarning: Attempting to set identical low and high ylims makes transformation singular; automatically expanding.\n",
      "  ax.imshow(img)\n",
      "/home/kumaraditya/scannetpp/common/render_crops_utils.py:185: UserWarning: Attempting to set identical low and high xlims makes transformation singular; automatically expanding.\n",
      "  ax.imshow(img)\n"
     ]
    },
    {
     "name": "stdout",
     "output_type": "stream",
     "text": [
      "Cleared contents of temporary directory /tmp/tmpehswpppo.\n",
      "Cleared all stored images, masks, scores, and padding information.\n"
     ]
    },
    {
     "name": "stderr",
     "output_type": "stream",
     "text": [
      "frame loading (JPEG): 100%|██████████| 4/4 [00:00<00:00, 37.86it/s]/it]\n",
      "/home/kumaraditya/segment-anything-2/sam2/sam2_video_predictor.py:873: UserWarning: cannot import name '_C' from 'sam2' (/home/kumaraditya/segment-anything-2/sam2/__init__.py)\n",
      "\n",
      "Skipping the post-processing step due to the error above. You can still use SAM 2 and it's OK to ignore the error above, although some post-processing functionality may be limited (which doesn't affect the results in most cases; see https://github.com/facebookresearch/segment-anything-2/blob/main/INSTALL.md).\n",
      "  pred_masks_gpu = fill_holes_in_mask_scores(\n",
      "propagate in video: 100%|██████████| 4/4 [00:01<00:00,  3.87it/s]\n",
      "/home/kumaraditya/scannetpp/common/render_crops_utils.py:185: UserWarning: Attempting to set identical low and high ylims makes transformation singular; automatically expanding.\n",
      "  ax.imshow(img)\n",
      "/home/kumaraditya/scannetpp/common/render_crops_utils.py:185: UserWarning: Attempting to set identical low and high xlims makes transformation singular; automatically expanding.\n",
      "  ax.imshow(img)\n"
     ]
    },
    {
     "name": "stdout",
     "output_type": "stream",
     "text": [
      "Cleared contents of temporary directory /tmp/tmpehswpppo.\n",
      "Cleared all stored images, masks, scores, and padding information.\n"
     ]
    },
    {
     "name": "stderr",
     "output_type": "stream",
     "text": [
      "frame loading (JPEG): 100%|██████████| 4/4 [00:00<00:00, 38.46it/s]/it]\n",
      "/home/kumaraditya/segment-anything-2/sam2/sam2_video_predictor.py:873: UserWarning: cannot import name '_C' from 'sam2' (/home/kumaraditya/segment-anything-2/sam2/__init__.py)\n",
      "\n",
      "Skipping the post-processing step due to the error above. You can still use SAM 2 and it's OK to ignore the error above, although some post-processing functionality may be limited (which doesn't affect the results in most cases; see https://github.com/facebookresearch/segment-anything-2/blob/main/INSTALL.md).\n",
      "  pred_masks_gpu = fill_holes_in_mask_scores(\n",
      "propagate in video: 100%|██████████| 4/4 [00:01<00:00,  3.87it/s]\n",
      "/home/kumaraditya/scannetpp/common/render_crops_utils.py:185: UserWarning: Attempting to set identical low and high ylims makes transformation singular; automatically expanding.\n",
      "  ax.imshow(img)\n",
      "/home/kumaraditya/scannetpp/common/render_crops_utils.py:185: UserWarning: Attempting to set identical low and high xlims makes transformation singular; automatically expanding.\n",
      "  ax.imshow(img)\n"
     ]
    },
    {
     "name": "stdout",
     "output_type": "stream",
     "text": [
      "Cleared contents of temporary directory /tmp/tmpehswpppo.\n",
      "Cleared all stored images, masks, scores, and padding information.\n"
     ]
    },
    {
     "name": "stderr",
     "output_type": "stream",
     "text": [
      "frame loading (JPEG): 100%|██████████| 4/4 [00:00<00:00, 44.53it/s]/it]\n",
      "/home/kumaraditya/segment-anything-2/sam2/sam2_video_predictor.py:873: UserWarning: cannot import name '_C' from 'sam2' (/home/kumaraditya/segment-anything-2/sam2/__init__.py)\n",
      "\n",
      "Skipping the post-processing step due to the error above. You can still use SAM 2 and it's OK to ignore the error above, although some post-processing functionality may be limited (which doesn't affect the results in most cases; see https://github.com/facebookresearch/segment-anything-2/blob/main/INSTALL.md).\n",
      "  pred_masks_gpu = fill_holes_in_mask_scores(\n",
      "propagate in video: 100%|██████████| 4/4 [00:01<00:00,  3.84it/s]\n"
     ]
    },
    {
     "name": "stdout",
     "output_type": "stream",
     "text": [
      "Cleared contents of temporary directory /tmp/tmpehswpppo.\n",
      "Cleared all stored images, masks, scores, and padding information.\n"
     ]
    },
    {
     "name": "stderr",
     "output_type": "stream",
     "text": [
      "frame loading (JPEG): 100%|██████████| 4/4 [00:00<00:00, 44.30it/s]/it]\n",
      "/home/kumaraditya/segment-anything-2/sam2/sam2_video_predictor.py:873: UserWarning: cannot import name '_C' from 'sam2' (/home/kumaraditya/segment-anything-2/sam2/__init__.py)\n",
      "\n",
      "Skipping the post-processing step due to the error above. You can still use SAM 2 and it's OK to ignore the error above, although some post-processing functionality may be limited (which doesn't affect the results in most cases; see https://github.com/facebookresearch/segment-anything-2/blob/main/INSTALL.md).\n",
      "  pred_masks_gpu = fill_holes_in_mask_scores(\n",
      "propagate in video: 100%|██████████| 4/4 [00:01<00:00,  3.83it/s]\n",
      "/home/kumaraditya/scannetpp/common/render_crops_utils.py:185: UserWarning: Attempting to set identical low and high xlims makes transformation singular; automatically expanding.\n",
      "  ax.imshow(img)\n",
      "/home/kumaraditya/scannetpp/common/render_crops_utils.py:185: UserWarning: Attempting to set identical low and high ylims makes transformation singular; automatically expanding.\n",
      "  ax.imshow(img)\n"
     ]
    },
    {
     "name": "stdout",
     "output_type": "stream",
     "text": [
      "Cleared contents of temporary directory /tmp/tmpehswpppo.\n",
      "Cleared all stored images, masks, scores, and padding information.\n"
     ]
    },
    {
     "name": "stderr",
     "output_type": "stream",
     "text": [
      "frame loading (JPEG): 100%|██████████| 4/4 [00:00<00:00, 41.82it/s]/it]\n",
      "/home/kumaraditya/segment-anything-2/sam2/sam2_video_predictor.py:873: UserWarning: cannot import name '_C' from 'sam2' (/home/kumaraditya/segment-anything-2/sam2/__init__.py)\n",
      "\n",
      "Skipping the post-processing step due to the error above. You can still use SAM 2 and it's OK to ignore the error above, although some post-processing functionality may be limited (which doesn't affect the results in most cases; see https://github.com/facebookresearch/segment-anything-2/blob/main/INSTALL.md).\n",
      "  pred_masks_gpu = fill_holes_in_mask_scores(\n",
      "propagate in video: 100%|██████████| 4/4 [00:01<00:00,  3.83it/s]\n"
     ]
    },
    {
     "name": "stdout",
     "output_type": "stream",
     "text": [
      "Cleared contents of temporary directory /tmp/tmpehswpppo.\n",
      "Cleared all stored images, masks, scores, and padding information.\n"
     ]
    },
    {
     "name": "stderr",
     "output_type": "stream",
     "text": [
      "frame loading (JPEG): 100%|██████████| 4/4 [00:00<00:00, 42.66it/s]/it]\n",
      "/home/kumaraditya/segment-anything-2/sam2/sam2_video_predictor.py:873: UserWarning: cannot import name '_C' from 'sam2' (/home/kumaraditya/segment-anything-2/sam2/__init__.py)\n",
      "\n",
      "Skipping the post-processing step due to the error above. You can still use SAM 2 and it's OK to ignore the error above, although some post-processing functionality may be limited (which doesn't affect the results in most cases; see https://github.com/facebookresearch/segment-anything-2/blob/main/INSTALL.md).\n",
      "  pred_masks_gpu = fill_holes_in_mask_scores(\n",
      "propagate in video: 100%|██████████| 4/4 [00:01<00:00,  3.83it/s]\n"
     ]
    },
    {
     "name": "stdout",
     "output_type": "stream",
     "text": [
      "Cleared contents of temporary directory /tmp/tmpehswpppo.\n",
      "Cleared all stored images, masks, scores, and padding information.\n"
     ]
    },
    {
     "name": "stderr",
     "output_type": "stream",
     "text": [
      "/home/kumaraditya/scannetpp/common/render_crops_utils.py:185: UserWarning: Attempting to set identical low and high xlims makes transformation singular; automatically expanding.\n",
      "  ax.imshow(img)\n",
      "/home/kumaraditya/scannetpp/common/render_crops_utils.py:185: UserWarning: Attempting to set identical low and high ylims makes transformation singular; automatically expanding.\n",
      "  ax.imshow(img)\n",
      "frame loading (JPEG): 100%|██████████| 4/4 [00:00<00:00, 35.50it/s]/it]\n",
      "/home/kumaraditya/segment-anything-2/sam2/sam2_video_predictor.py:873: UserWarning: cannot import name '_C' from 'sam2' (/home/kumaraditya/segment-anything-2/sam2/__init__.py)\n",
      "\n",
      "Skipping the post-processing step due to the error above. You can still use SAM 2 and it's OK to ignore the error above, although some post-processing functionality may be limited (which doesn't affect the results in most cases; see https://github.com/facebookresearch/segment-anything-2/blob/main/INSTALL.md).\n",
      "  pred_masks_gpu = fill_holes_in_mask_scores(\n",
      "propagate in video: 100%|██████████| 4/4 [00:01<00:00,  3.82it/s]\n",
      "/home/kumaraditya/scannetpp/common/render_crops_utils.py:185: UserWarning: Attempting to set identical low and high ylims makes transformation singular; automatically expanding.\n",
      "  ax.imshow(img)\n",
      "/home/kumaraditya/scannetpp/common/render_crops_utils.py:185: UserWarning: Attempting to set identical low and high xlims makes transformation singular; automatically expanding.\n",
      "  ax.imshow(img)\n"
     ]
    },
    {
     "name": "stdout",
     "output_type": "stream",
     "text": [
      "Cleared contents of temporary directory /tmp/tmpehswpppo.\n",
      "Cleared all stored images, masks, scores, and padding information.\n"
     ]
    },
    {
     "name": "stderr",
     "output_type": "stream",
     "text": [
      "frame loading (JPEG): 100%|██████████| 4/4 [00:00<00:00, 45.31it/s]/it]\n",
      "/home/kumaraditya/segment-anything-2/sam2/sam2_video_predictor.py:873: UserWarning: cannot import name '_C' from 'sam2' (/home/kumaraditya/segment-anything-2/sam2/__init__.py)\n",
      "\n",
      "Skipping the post-processing step due to the error above. You can still use SAM 2 and it's OK to ignore the error above, although some post-processing functionality may be limited (which doesn't affect the results in most cases; see https://github.com/facebookresearch/segment-anything-2/blob/main/INSTALL.md).\n",
      "  pred_masks_gpu = fill_holes_in_mask_scores(\n",
      "propagate in video: 100%|██████████| 4/4 [00:01<00:00,  3.83it/s]\n",
      "/home/kumaraditya/scannetpp/common/render_crops_utils.py:185: UserWarning: Attempting to set identical low and high ylims makes transformation singular; automatically expanding.\n",
      "  ax.imshow(img)\n",
      "/home/kumaraditya/scannetpp/common/render_crops_utils.py:185: UserWarning: Attempting to set identical low and high xlims makes transformation singular; automatically expanding.\n",
      "  ax.imshow(img)\n"
     ]
    },
    {
     "name": "stdout",
     "output_type": "stream",
     "text": [
      "Cleared contents of temporary directory /tmp/tmpehswpppo.\n",
      "Cleared all stored images, masks, scores, and padding information.\n"
     ]
    },
    {
     "name": "stderr",
     "output_type": "stream",
     "text": [
      "frame loading (JPEG): 100%|██████████| 4/4 [00:00<00:00, 44.13it/s]/it]\n",
      "/home/kumaraditya/segment-anything-2/sam2/sam2_video_predictor.py:873: UserWarning: cannot import name '_C' from 'sam2' (/home/kumaraditya/segment-anything-2/sam2/__init__.py)\n",
      "\n",
      "Skipping the post-processing step due to the error above. You can still use SAM 2 and it's OK to ignore the error above, although some post-processing functionality may be limited (which doesn't affect the results in most cases; see https://github.com/facebookresearch/segment-anything-2/blob/main/INSTALL.md).\n",
      "  pred_masks_gpu = fill_holes_in_mask_scores(\n",
      "propagate in video: 100%|██████████| 4/4 [00:01<00:00,  3.82it/s]\n",
      "/home/kumaraditya/scannetpp/common/render_crops_utils.py:185: UserWarning: Attempting to set identical low and high xlims makes transformation singular; automatically expanding.\n",
      "  ax.imshow(img)\n",
      "/home/kumaraditya/scannetpp/common/render_crops_utils.py:185: UserWarning: Attempting to set identical low and high ylims makes transformation singular; automatically expanding.\n",
      "  ax.imshow(img)\n"
     ]
    },
    {
     "name": "stdout",
     "output_type": "stream",
     "text": [
      "Cleared contents of temporary directory /tmp/tmpehswpppo.\n",
      "Cleared all stored images, masks, scores, and padding information.\n"
     ]
    },
    {
     "name": "stderr",
     "output_type": "stream",
     "text": [
      "frame loading (JPEG): 100%|██████████| 4/4 [00:00<00:00, 28.95it/s]/it]\n",
      "/home/kumaraditya/segment-anything-2/sam2/sam2_video_predictor.py:873: UserWarning: cannot import name '_C' from 'sam2' (/home/kumaraditya/segment-anything-2/sam2/__init__.py)\n",
      "\n",
      "Skipping the post-processing step due to the error above. You can still use SAM 2 and it's OK to ignore the error above, although some post-processing functionality may be limited (which doesn't affect the results in most cases; see https://github.com/facebookresearch/segment-anything-2/blob/main/INSTALL.md).\n",
      "  pred_masks_gpu = fill_holes_in_mask_scores(\n",
      "propagate in video: 100%|██████████| 4/4 [00:01<00:00,  3.81it/s]\n"
     ]
    },
    {
     "name": "stdout",
     "output_type": "stream",
     "text": [
      "Cleared contents of temporary directory /tmp/tmpehswpppo.\n",
      "Cleared all stored images, masks, scores, and padding information.\n"
     ]
    },
    {
     "name": "stderr",
     "output_type": "stream",
     "text": [
      "frame loading (JPEG): 100%|██████████| 4/4 [00:00<00:00, 34.55it/s]/it]\n",
      "/home/kumaraditya/segment-anything-2/sam2/sam2_video_predictor.py:873: UserWarning: cannot import name '_C' from 'sam2' (/home/kumaraditya/segment-anything-2/sam2/__init__.py)\n",
      "\n",
      "Skipping the post-processing step due to the error above. You can still use SAM 2 and it's OK to ignore the error above, although some post-processing functionality may be limited (which doesn't affect the results in most cases; see https://github.com/facebookresearch/segment-anything-2/blob/main/INSTALL.md).\n",
      "  pred_masks_gpu = fill_holes_in_mask_scores(\n",
      "propagate in video: 100%|██████████| 4/4 [00:01<00:00,  3.80it/s]\n"
     ]
    },
    {
     "name": "stdout",
     "output_type": "stream",
     "text": [
      "Cleared contents of temporary directory /tmp/tmpehswpppo.\n",
      "Cleared all stored images, masks, scores, and padding information.\n"
     ]
    },
    {
     "name": "stderr",
     "output_type": "stream",
     "text": [
      "frame loading (JPEG): 100%|██████████| 4/4 [00:00<00:00, 22.72it/s]/it]\n",
      "/home/kumaraditya/segment-anything-2/sam2/sam2_video_predictor.py:873: UserWarning: cannot import name '_C' from 'sam2' (/home/kumaraditya/segment-anything-2/sam2/__init__.py)\n",
      "\n",
      "Skipping the post-processing step due to the error above. You can still use SAM 2 and it's OK to ignore the error above, although some post-processing functionality may be limited (which doesn't affect the results in most cases; see https://github.com/facebookresearch/segment-anything-2/blob/main/INSTALL.md).\n",
      "  pred_masks_gpu = fill_holes_in_mask_scores(\n",
      "propagate in video: 100%|██████████| 4/4 [00:01<00:00,  3.81it/s]\n",
      "/home/kumaraditya/scannetpp/common/render_crops_utils.py:185: UserWarning: Attempting to set identical low and high ylims makes transformation singular; automatically expanding.\n",
      "  ax.imshow(img)\n",
      "/home/kumaraditya/scannetpp/common/render_crops_utils.py:185: UserWarning: Attempting to set identical low and high xlims makes transformation singular; automatically expanding.\n",
      "  ax.imshow(img)\n"
     ]
    },
    {
     "name": "stdout",
     "output_type": "stream",
     "text": [
      "Cleared contents of temporary directory /tmp/tmpehswpppo.\n",
      "Cleared all stored images, masks, scores, and padding information.\n"
     ]
    },
    {
     "name": "stderr",
     "output_type": "stream",
     "text": [
      "frame loading (JPEG): 100%|██████████| 4/4 [00:00<00:00, 25.49it/s]t/s]\n",
      "/home/kumaraditya/segment-anything-2/sam2/sam2_video_predictor.py:873: UserWarning: cannot import name '_C' from 'sam2' (/home/kumaraditya/segment-anything-2/sam2/__init__.py)\n",
      "\n",
      "Skipping the post-processing step due to the error above. You can still use SAM 2 and it's OK to ignore the error above, although some post-processing functionality may be limited (which doesn't affect the results in most cases; see https://github.com/facebookresearch/segment-anything-2/blob/main/INSTALL.md).\n",
      "  pred_masks_gpu = fill_holes_in_mask_scores(\n",
      "propagate in video: 100%|██████████| 4/4 [00:01<00:00,  3.80it/s]\n",
      "/home/kumaraditya/scannetpp/common/render_crops_utils.py:185: UserWarning: Attempting to set identical low and high ylims makes transformation singular; automatically expanding.\n",
      "  ax.imshow(img)\n",
      "/home/kumaraditya/scannetpp/common/render_crops_utils.py:185: UserWarning: Attempting to set identical low and high xlims makes transformation singular; automatically expanding.\n",
      "  ax.imshow(img)\n"
     ]
    },
    {
     "name": "stdout",
     "output_type": "stream",
     "text": [
      "Cleared contents of temporary directory /tmp/tmpehswpppo.\n",
      "Cleared all stored images, masks, scores, and padding information.\n"
     ]
    },
    {
     "name": "stderr",
     "output_type": "stream",
     "text": [
      "frame loading (JPEG): 100%|██████████| 4/4 [00:00<00:00, 21.00it/s]/it]\n",
      "/home/kumaraditya/segment-anything-2/sam2/sam2_video_predictor.py:873: UserWarning: cannot import name '_C' from 'sam2' (/home/kumaraditya/segment-anything-2/sam2/__init__.py)\n",
      "\n",
      "Skipping the post-processing step due to the error above. You can still use SAM 2 and it's OK to ignore the error above, although some post-processing functionality may be limited (which doesn't affect the results in most cases; see https://github.com/facebookresearch/segment-anything-2/blob/main/INSTALL.md).\n",
      "  pred_masks_gpu = fill_holes_in_mask_scores(\n",
      "propagate in video: 100%|██████████| 4/4 [00:01<00:00,  3.79it/s]\n",
      "/home/kumaraditya/scannetpp/common/render_crops_utils.py:185: UserWarning: Attempting to set identical low and high ylims makes transformation singular; automatically expanding.\n",
      "  ax.imshow(img)\n"
     ]
    },
    {
     "name": "stdout",
     "output_type": "stream",
     "text": [
      "Cleared contents of temporary directory /tmp/tmpehswpppo.\n",
      "Cleared all stored images, masks, scores, and padding information.\n"
     ]
    },
    {
     "name": "stderr",
     "output_type": "stream",
     "text": [
      "frame loading (JPEG): 100%|██████████| 4/4 [00:00<00:00, 32.36it/s]/it]\n",
      "/home/kumaraditya/segment-anything-2/sam2/sam2_video_predictor.py:873: UserWarning: cannot import name '_C' from 'sam2' (/home/kumaraditya/segment-anything-2/sam2/__init__.py)\n",
      "\n",
      "Skipping the post-processing step due to the error above. You can still use SAM 2 and it's OK to ignore the error above, although some post-processing functionality may be limited (which doesn't affect the results in most cases; see https://github.com/facebookresearch/segment-anything-2/blob/main/INSTALL.md).\n",
      "  pred_masks_gpu = fill_holes_in_mask_scores(\n",
      "propagate in video: 100%|██████████| 4/4 [00:01<00:00,  3.80it/s]\n",
      "/home/kumaraditya/scannetpp/common/render_crops_utils.py:185: UserWarning: Attempting to set identical low and high ylims makes transformation singular; automatically expanding.\n",
      "  ax.imshow(img)\n",
      "/home/kumaraditya/scannetpp/common/render_crops_utils.py:185: UserWarning: Attempting to set identical low and high xlims makes transformation singular; automatically expanding.\n",
      "  ax.imshow(img)\n"
     ]
    },
    {
     "name": "stdout",
     "output_type": "stream",
     "text": [
      "Cleared contents of temporary directory /tmp/tmpehswpppo.\n",
      "Cleared all stored images, masks, scores, and padding information.\n"
     ]
    },
    {
     "name": "stderr",
     "output_type": "stream",
     "text": [
      "frame loading (JPEG): 100%|██████████| 4/4 [00:00<00:00, 24.88it/s]/it]\n",
      "/home/kumaraditya/segment-anything-2/sam2/sam2_video_predictor.py:873: UserWarning: cannot import name '_C' from 'sam2' (/home/kumaraditya/segment-anything-2/sam2/__init__.py)\n",
      "\n",
      "Skipping the post-processing step due to the error above. You can still use SAM 2 and it's OK to ignore the error above, although some post-processing functionality may be limited (which doesn't affect the results in most cases; see https://github.com/facebookresearch/segment-anything-2/blob/main/INSTALL.md).\n",
      "  pred_masks_gpu = fill_holes_in_mask_scores(\n",
      "propagate in video: 100%|██████████| 4/4 [00:01<00:00,  3.80it/s]\n",
      "/home/kumaraditya/scannetpp/common/render_crops_utils.py:185: UserWarning: Attempting to set identical low and high ylims makes transformation singular; automatically expanding.\n",
      "  ax.imshow(img)\n",
      "/home/kumaraditya/scannetpp/common/render_crops_utils.py:185: UserWarning: Attempting to set identical low and high xlims makes transformation singular; automatically expanding.\n",
      "  ax.imshow(img)\n"
     ]
    },
    {
     "name": "stdout",
     "output_type": "stream",
     "text": [
      "Cleared contents of temporary directory /tmp/tmpehswpppo.\n",
      "Cleared all stored images, masks, scores, and padding information.\n"
     ]
    },
    {
     "name": "stderr",
     "output_type": "stream",
     "text": [
      "frame loading (JPEG): 100%|██████████| 4/4 [00:00<00:00, 24.38it/s]/it]\n",
      "/home/kumaraditya/segment-anything-2/sam2/sam2_video_predictor.py:873: UserWarning: cannot import name '_C' from 'sam2' (/home/kumaraditya/segment-anything-2/sam2/__init__.py)\n",
      "\n",
      "Skipping the post-processing step due to the error above. You can still use SAM 2 and it's OK to ignore the error above, although some post-processing functionality may be limited (which doesn't affect the results in most cases; see https://github.com/facebookresearch/segment-anything-2/blob/main/INSTALL.md).\n",
      "  pred_masks_gpu = fill_holes_in_mask_scores(\n",
      "propagate in video: 100%|██████████| 4/4 [00:01<00:00,  3.78it/s]\n"
     ]
    },
    {
     "name": "stdout",
     "output_type": "stream",
     "text": [
      "Cleared contents of temporary directory /tmp/tmpehswpppo.\n",
      "Cleared all stored images, masks, scores, and padding information.\n"
     ]
    },
    {
     "name": "stderr",
     "output_type": "stream",
     "text": [
      "frame loading (JPEG): 100%|██████████| 4/4 [00:00<00:00, 23.05it/s]/it]\n",
      "/home/kumaraditya/segment-anything-2/sam2/sam2_video_predictor.py:873: UserWarning: cannot import name '_C' from 'sam2' (/home/kumaraditya/segment-anything-2/sam2/__init__.py)\n",
      "\n",
      "Skipping the post-processing step due to the error above. You can still use SAM 2 and it's OK to ignore the error above, although some post-processing functionality may be limited (which doesn't affect the results in most cases; see https://github.com/facebookresearch/segment-anything-2/blob/main/INSTALL.md).\n",
      "  pred_masks_gpu = fill_holes_in_mask_scores(\n",
      "propagate in video: 100%|██████████| 4/4 [00:01<00:00,  3.79it/s]\n"
     ]
    },
    {
     "name": "stdout",
     "output_type": "stream",
     "text": [
      "Cleared contents of temporary directory /tmp/tmpehswpppo.\n",
      "Cleared all stored images, masks, scores, and padding information.\n"
     ]
    },
    {
     "name": "stderr",
     "output_type": "stream",
     "text": [
      "frame loading (JPEG): 100%|██████████| 4/4 [00:00<00:00, 23.99it/s]/it]\n",
      "/home/kumaraditya/segment-anything-2/sam2/sam2_video_predictor.py:873: UserWarning: cannot import name '_C' from 'sam2' (/home/kumaraditya/segment-anything-2/sam2/__init__.py)\n",
      "\n",
      "Skipping the post-processing step due to the error above. You can still use SAM 2 and it's OK to ignore the error above, although some post-processing functionality may be limited (which doesn't affect the results in most cases; see https://github.com/facebookresearch/segment-anything-2/blob/main/INSTALL.md).\n",
      "  pred_masks_gpu = fill_holes_in_mask_scores(\n",
      "propagate in video: 100%|██████████| 4/4 [00:01<00:00,  3.78it/s]\n"
     ]
    },
    {
     "name": "stdout",
     "output_type": "stream",
     "text": [
      "Cleared contents of temporary directory /tmp/tmpehswpppo.\n",
      "Cleared all stored images, masks, scores, and padding information.\n"
     ]
    },
    {
     "name": "stderr",
     "output_type": "stream",
     "text": [
      "frame loading (JPEG): 100%|██████████| 4/4 [00:00<00:00, 21.04it/s]/it]\n",
      "/home/kumaraditya/segment-anything-2/sam2/sam2_video_predictor.py:873: UserWarning: cannot import name '_C' from 'sam2' (/home/kumaraditya/segment-anything-2/sam2/__init__.py)\n",
      "\n",
      "Skipping the post-processing step due to the error above. You can still use SAM 2 and it's OK to ignore the error above, although some post-processing functionality may be limited (which doesn't affect the results in most cases; see https://github.com/facebookresearch/segment-anything-2/blob/main/INSTALL.md).\n",
      "  pred_masks_gpu = fill_holes_in_mask_scores(\n",
      "propagate in video: 100%|██████████| 4/4 [00:01<00:00,  3.77it/s]\n",
      "/home/kumaraditya/scannetpp/common/render_crops_utils.py:185: UserWarning: Attempting to set identical low and high xlims makes transformation singular; automatically expanding.\n",
      "  ax.imshow(img)\n"
     ]
    },
    {
     "name": "stdout",
     "output_type": "stream",
     "text": [
      "Cleared contents of temporary directory /tmp/tmpehswpppo.\n",
      "Cleared all stored images, masks, scores, and padding information.\n"
     ]
    },
    {
     "name": "stderr",
     "output_type": "stream",
     "text": [
      "frame loading (JPEG): 100%|██████████| 4/4 [00:00<00:00, 37.10it/s]/it]\n",
      "/home/kumaraditya/segment-anything-2/sam2/sam2_video_predictor.py:873: UserWarning: cannot import name '_C' from 'sam2' (/home/kumaraditya/segment-anything-2/sam2/__init__.py)\n",
      "\n",
      "Skipping the post-processing step due to the error above. You can still use SAM 2 and it's OK to ignore the error above, although some post-processing functionality may be limited (which doesn't affect the results in most cases; see https://github.com/facebookresearch/segment-anything-2/blob/main/INSTALL.md).\n",
      "  pred_masks_gpu = fill_holes_in_mask_scores(\n",
      "propagate in video: 100%|██████████| 4/4 [00:01<00:00,  3.78it/s]\n",
      "/home/kumaraditya/scannetpp/common/render_crops_utils.py:185: UserWarning: Attempting to set identical low and high ylims makes transformation singular; automatically expanding.\n",
      "  ax.imshow(img)\n",
      "/home/kumaraditya/scannetpp/common/render_crops_utils.py:185: UserWarning: Attempting to set identical low and high xlims makes transformation singular; automatically expanding.\n",
      "  ax.imshow(img)\n"
     ]
    },
    {
     "name": "stdout",
     "output_type": "stream",
     "text": [
      "Cleared contents of temporary directory /tmp/tmpehswpppo.\n",
      "Cleared all stored images, masks, scores, and padding information.\n"
     ]
    },
    {
     "name": "stderr",
     "output_type": "stream",
     "text": [
      "frame loading (JPEG): 100%|██████████| 4/4 [00:00<00:00, 23.40it/s]/it]\n",
      "/home/kumaraditya/segment-anything-2/sam2/sam2_video_predictor.py:873: UserWarning: cannot import name '_C' from 'sam2' (/home/kumaraditya/segment-anything-2/sam2/__init__.py)\n",
      "\n",
      "Skipping the post-processing step due to the error above. You can still use SAM 2 and it's OK to ignore the error above, although some post-processing functionality may be limited (which doesn't affect the results in most cases; see https://github.com/facebookresearch/segment-anything-2/blob/main/INSTALL.md).\n",
      "  pred_masks_gpu = fill_holes_in_mask_scores(\n",
      "propagate in video: 100%|██████████| 4/4 [00:01<00:00,  3.76it/s]\n",
      "/home/kumaraditya/scannetpp/common/render_crops_utils.py:185: UserWarning: Attempting to set identical low and high xlims makes transformation singular; automatically expanding.\n",
      "  ax.imshow(img)\n",
      "/home/kumaraditya/scannetpp/common/render_crops_utils.py:185: UserWarning: Attempting to set identical low and high ylims makes transformation singular; automatically expanding.\n",
      "  ax.imshow(img)\n"
     ]
    },
    {
     "name": "stdout",
     "output_type": "stream",
     "text": [
      "Cleared contents of temporary directory /tmp/tmpehswpppo.\n",
      "Cleared all stored images, masks, scores, and padding information.\n"
     ]
    },
    {
     "name": "stderr",
     "output_type": "stream",
     "text": [
      "frame loading (JPEG): 100%|██████████| 4/4 [00:00<00:00, 33.87it/s]/it]\n",
      "/home/kumaraditya/segment-anything-2/sam2/sam2_video_predictor.py:873: UserWarning: cannot import name '_C' from 'sam2' (/home/kumaraditya/segment-anything-2/sam2/__init__.py)\n",
      "\n",
      "Skipping the post-processing step due to the error above. You can still use SAM 2 and it's OK to ignore the error above, although some post-processing functionality may be limited (which doesn't affect the results in most cases; see https://github.com/facebookresearch/segment-anything-2/blob/main/INSTALL.md).\n",
      "  pred_masks_gpu = fill_holes_in_mask_scores(\n",
      "propagate in video: 100%|██████████| 4/4 [00:01<00:00,  3.76it/s]\n",
      "/home/kumaraditya/scannetpp/common/render_crops_utils.py:185: UserWarning: Attempting to set identical low and high xlims makes transformation singular; automatically expanding.\n",
      "  ax.imshow(img)\n",
      "/home/kumaraditya/scannetpp/common/render_crops_utils.py:185: UserWarning: Attempting to set identical low and high ylims makes transformation singular; automatically expanding.\n",
      "  ax.imshow(img)\n"
     ]
    },
    {
     "name": "stdout",
     "output_type": "stream",
     "text": [
      "Cleared contents of temporary directory /tmp/tmpehswpppo.\n",
      "Cleared all stored images, masks, scores, and padding information.\n"
     ]
    },
    {
     "name": "stderr",
     "output_type": "stream",
     "text": [
      "frame loading (JPEG): 100%|██████████| 4/4 [00:00<00:00, 33.16it/s]/it]\n",
      "/home/kumaraditya/segment-anything-2/sam2/sam2_video_predictor.py:873: UserWarning: cannot import name '_C' from 'sam2' (/home/kumaraditya/segment-anything-2/sam2/__init__.py)\n",
      "\n",
      "Skipping the post-processing step due to the error above. You can still use SAM 2 and it's OK to ignore the error above, although some post-processing functionality may be limited (which doesn't affect the results in most cases; see https://github.com/facebookresearch/segment-anything-2/blob/main/INSTALL.md).\n",
      "  pred_masks_gpu = fill_holes_in_mask_scores(\n",
      "propagate in video: 100%|██████████| 4/4 [00:01<00:00,  3.76it/s]\n",
      "/home/kumaraditya/scannetpp/common/render_crops_utils.py:185: UserWarning: Attempting to set identical low and high xlims makes transformation singular; automatically expanding.\n",
      "  ax.imshow(img)\n",
      "/home/kumaraditya/scannetpp/common/render_crops_utils.py:185: UserWarning: Attempting to set identical low and high ylims makes transformation singular; automatically expanding.\n",
      "  ax.imshow(img)\n"
     ]
    },
    {
     "name": "stdout",
     "output_type": "stream",
     "text": [
      "Cleared contents of temporary directory /tmp/tmpehswpppo.\n",
      "Cleared all stored images, masks, scores, and padding information.\n"
     ]
    },
    {
     "name": "stderr",
     "output_type": "stream",
     "text": [
      "frame loading (JPEG): 100%|██████████| 4/4 [00:00<00:00, 32.82it/s]/it]\n",
      "/home/kumaraditya/segment-anything-2/sam2/sam2_video_predictor.py:873: UserWarning: cannot import name '_C' from 'sam2' (/home/kumaraditya/segment-anything-2/sam2/__init__.py)\n",
      "\n",
      "Skipping the post-processing step due to the error above. You can still use SAM 2 and it's OK to ignore the error above, although some post-processing functionality may be limited (which doesn't affect the results in most cases; see https://github.com/facebookresearch/segment-anything-2/blob/main/INSTALL.md).\n",
      "  pred_masks_gpu = fill_holes_in_mask_scores(\n",
      "propagate in video: 100%|██████████| 4/4 [00:01<00:00,  3.76it/s]\n",
      "/home/kumaraditya/scannetpp/common/render_crops_utils.py:185: UserWarning: Attempting to set identical low and high xlims makes transformation singular; automatically expanding.\n",
      "  ax.imshow(img)\n",
      "/home/kumaraditya/scannetpp/common/render_crops_utils.py:185: UserWarning: Attempting to set identical low and high ylims makes transformation singular; automatically expanding.\n",
      "  ax.imshow(img)\n"
     ]
    },
    {
     "name": "stdout",
     "output_type": "stream",
     "text": [
      "Cleared contents of temporary directory /tmp/tmpehswpppo.\n",
      "Cleared all stored images, masks, scores, and padding information.\n"
     ]
    },
    {
     "name": "stderr",
     "output_type": "stream",
     "text": [
      "frame loading (JPEG): 100%|██████████| 4/4 [00:00<00:00, 28.96it/s]/it]\n",
      "/home/kumaraditya/segment-anything-2/sam2/sam2_video_predictor.py:873: UserWarning: cannot import name '_C' from 'sam2' (/home/kumaraditya/segment-anything-2/sam2/__init__.py)\n",
      "\n",
      "Skipping the post-processing step due to the error above. You can still use SAM 2 and it's OK to ignore the error above, although some post-processing functionality may be limited (which doesn't affect the results in most cases; see https://github.com/facebookresearch/segment-anything-2/blob/main/INSTALL.md).\n",
      "  pred_masks_gpu = fill_holes_in_mask_scores(\n",
      "propagate in video: 100%|██████████| 4/4 [00:01<00:00,  3.76it/s]\n",
      "/home/kumaraditya/scannetpp/common/render_crops_utils.py:185: UserWarning: Attempting to set identical low and high xlims makes transformation singular; automatically expanding.\n",
      "  ax.imshow(img)\n",
      "/home/kumaraditya/scannetpp/common/render_crops_utils.py:185: UserWarning: Attempting to set identical low and high ylims makes transformation singular; automatically expanding.\n",
      "  ax.imshow(img)\n"
     ]
    },
    {
     "name": "stdout",
     "output_type": "stream",
     "text": [
      "Cleared contents of temporary directory /tmp/tmpehswpppo.\n",
      "Cleared all stored images, masks, scores, and padding information.\n"
     ]
    },
    {
     "name": "stderr",
     "output_type": "stream",
     "text": [
      "frame loading (JPEG): 100%|██████████| 4/4 [00:00<00:00, 32.06it/s]/it]\n",
      "/home/kumaraditya/segment-anything-2/sam2/sam2_video_predictor.py:873: UserWarning: cannot import name '_C' from 'sam2' (/home/kumaraditya/segment-anything-2/sam2/__init__.py)\n",
      "\n",
      "Skipping the post-processing step due to the error above. You can still use SAM 2 and it's OK to ignore the error above, although some post-processing functionality may be limited (which doesn't affect the results in most cases; see https://github.com/facebookresearch/segment-anything-2/blob/main/INSTALL.md).\n",
      "  pred_masks_gpu = fill_holes_in_mask_scores(\n",
      "propagate in video: 100%|██████████| 4/4 [00:01<00:00,  3.76it/s]\n",
      "/home/kumaraditya/scannetpp/common/render_crops_utils.py:185: UserWarning: Attempting to set identical low and high xlims makes transformation singular; automatically expanding.\n",
      "  ax.imshow(img)\n",
      "/home/kumaraditya/scannetpp/common/render_crops_utils.py:185: UserWarning: Attempting to set identical low and high ylims makes transformation singular; automatically expanding.\n",
      "  ax.imshow(img)\n"
     ]
    },
    {
     "name": "stdout",
     "output_type": "stream",
     "text": [
      "Cleared contents of temporary directory /tmp/tmpehswpppo.\n",
      "Cleared all stored images, masks, scores, and padding information.\n"
     ]
    },
    {
     "name": "stderr",
     "output_type": "stream",
     "text": [
      "frame loading (JPEG): 100%|██████████| 4/4 [00:00<00:00, 22.70it/s]/it]\n",
      "/home/kumaraditya/segment-anything-2/sam2/sam2_video_predictor.py:873: UserWarning: cannot import name '_C' from 'sam2' (/home/kumaraditya/segment-anything-2/sam2/__init__.py)\n",
      "\n",
      "Skipping the post-processing step due to the error above. You can still use SAM 2 and it's OK to ignore the error above, although some post-processing functionality may be limited (which doesn't affect the results in most cases; see https://github.com/facebookresearch/segment-anything-2/blob/main/INSTALL.md).\n",
      "  pred_masks_gpu = fill_holes_in_mask_scores(\n",
      "propagate in video: 100%|██████████| 4/4 [00:01<00:00,  3.75it/s]\n"
     ]
    },
    {
     "name": "stdout",
     "output_type": "stream",
     "text": [
      "Cleared contents of temporary directory /tmp/tmpehswpppo.\n",
      "Cleared all stored images, masks, scores, and padding information.\n"
     ]
    },
    {
     "name": "stderr",
     "output_type": "stream",
     "text": [
      "frame loading (JPEG): 100%|██████████| 4/4 [00:00<00:00, 30.65it/s]/it]\n",
      "/home/kumaraditya/segment-anything-2/sam2/sam2_video_predictor.py:873: UserWarning: cannot import name '_C' from 'sam2' (/home/kumaraditya/segment-anything-2/sam2/__init__.py)\n",
      "\n",
      "Skipping the post-processing step due to the error above. You can still use SAM 2 and it's OK to ignore the error above, although some post-processing functionality may be limited (which doesn't affect the results in most cases; see https://github.com/facebookresearch/segment-anything-2/blob/main/INSTALL.md).\n",
      "  pred_masks_gpu = fill_holes_in_mask_scores(\n",
      "propagate in video: 100%|██████████| 4/4 [00:01<00:00,  3.75it/s]\n",
      "/home/kumaraditya/scannetpp/common/render_crops_utils.py:185: UserWarning: Attempting to set identical low and high xlims makes transformation singular; automatically expanding.\n",
      "  ax.imshow(img)\n",
      "/home/kumaraditya/scannetpp/common/render_crops_utils.py:185: UserWarning: Attempting to set identical low and high ylims makes transformation singular; automatically expanding.\n",
      "  ax.imshow(img)\n"
     ]
    },
    {
     "name": "stdout",
     "output_type": "stream",
     "text": [
      "Cleared contents of temporary directory /tmp/tmpehswpppo.\n",
      "Cleared all stored images, masks, scores, and padding information.\n"
     ]
    },
    {
     "name": "stderr",
     "output_type": "stream",
     "text": [
      "frame loading (JPEG): 100%|██████████| 4/4 [00:00<00:00, 21.72it/s]/it]\n",
      "/home/kumaraditya/segment-anything-2/sam2/sam2_video_predictor.py:873: UserWarning: cannot import name '_C' from 'sam2' (/home/kumaraditya/segment-anything-2/sam2/__init__.py)\n",
      "\n",
      "Skipping the post-processing step due to the error above. You can still use SAM 2 and it's OK to ignore the error above, although some post-processing functionality may be limited (which doesn't affect the results in most cases; see https://github.com/facebookresearch/segment-anything-2/blob/main/INSTALL.md).\n",
      "  pred_masks_gpu = fill_holes_in_mask_scores(\n",
      "propagate in video: 100%|██████████| 4/4 [00:01<00:00,  3.74it/s]\n"
     ]
    },
    {
     "name": "stdout",
     "output_type": "stream",
     "text": [
      "Cleared contents of temporary directory /tmp/tmpehswpppo.\n",
      "Cleared all stored images, masks, scores, and padding information.\n"
     ]
    },
    {
     "name": "stderr",
     "output_type": "stream",
     "text": [
      "frame loading (JPEG): 100%|██████████| 4/4 [00:00<00:00, 20.21it/s]/it]\n",
      "/home/kumaraditya/segment-anything-2/sam2/sam2_video_predictor.py:873: UserWarning: cannot import name '_C' from 'sam2' (/home/kumaraditya/segment-anything-2/sam2/__init__.py)\n",
      "\n",
      "Skipping the post-processing step due to the error above. You can still use SAM 2 and it's OK to ignore the error above, although some post-processing functionality may be limited (which doesn't affect the results in most cases; see https://github.com/facebookresearch/segment-anything-2/blob/main/INSTALL.md).\n",
      "  pred_masks_gpu = fill_holes_in_mask_scores(\n",
      "propagate in video: 100%|██████████| 4/4 [00:01<00:00,  3.75it/s]\n"
     ]
    },
    {
     "name": "stdout",
     "output_type": "stream",
     "text": [
      "Cleared contents of temporary directory /tmp/tmpehswpppo.\n",
      "Cleared all stored images, masks, scores, and padding information.\n"
     ]
    },
    {
     "name": "stderr",
     "output_type": "stream",
     "text": [
      "frame loading (JPEG): 100%|██████████| 4/4 [00:00<00:00, 29.34it/s]/it]\n",
      "/home/kumaraditya/segment-anything-2/sam2/sam2_video_predictor.py:873: UserWarning: cannot import name '_C' from 'sam2' (/home/kumaraditya/segment-anything-2/sam2/__init__.py)\n",
      "\n",
      "Skipping the post-processing step due to the error above. You can still use SAM 2 and it's OK to ignore the error above, although some post-processing functionality may be limited (which doesn't affect the results in most cases; see https://github.com/facebookresearch/segment-anything-2/blob/main/INSTALL.md).\n",
      "  pred_masks_gpu = fill_holes_in_mask_scores(\n",
      "propagate in video: 100%|██████████| 4/4 [00:01<00:00,  3.74it/s]\n",
      "/home/kumaraditya/scannetpp/common/render_crops_utils.py:185: UserWarning: Attempting to set identical low and high ylims makes transformation singular; automatically expanding.\n",
      "  ax.imshow(img)\n",
      "/home/kumaraditya/scannetpp/common/render_crops_utils.py:185: UserWarning: Attempting to set identical low and high xlims makes transformation singular; automatically expanding.\n",
      "  ax.imshow(img)\n"
     ]
    },
    {
     "name": "stdout",
     "output_type": "stream",
     "text": [
      "Cleared contents of temporary directory /tmp/tmpehswpppo.\n",
      "Cleared all stored images, masks, scores, and padding information.\n"
     ]
    },
    {
     "name": "stderr",
     "output_type": "stream",
     "text": [
      "frame loading (JPEG): 100%|██████████| 4/4 [00:00<00:00, 37.82it/s]/it]\n",
      "/home/kumaraditya/segment-anything-2/sam2/sam2_video_predictor.py:873: UserWarning: cannot import name '_C' from 'sam2' (/home/kumaraditya/segment-anything-2/sam2/__init__.py)\n",
      "\n",
      "Skipping the post-processing step due to the error above. You can still use SAM 2 and it's OK to ignore the error above, although some post-processing functionality may be limited (which doesn't affect the results in most cases; see https://github.com/facebookresearch/segment-anything-2/blob/main/INSTALL.md).\n",
      "  pred_masks_gpu = fill_holes_in_mask_scores(\n",
      "propagate in video: 100%|██████████| 4/4 [00:01<00:00,  3.74it/s]\n",
      "/home/kumaraditya/scannetpp/common/render_crops_utils.py:185: UserWarning: Attempting to set identical low and high xlims makes transformation singular; automatically expanding.\n",
      "  ax.imshow(img)\n",
      "/home/kumaraditya/scannetpp/common/render_crops_utils.py:185: UserWarning: Attempting to set identical low and high ylims makes transformation singular; automatically expanding.\n",
      "  ax.imshow(img)\n"
     ]
    },
    {
     "name": "stdout",
     "output_type": "stream",
     "text": [
      "Cleared contents of temporary directory /tmp/tmpehswpppo.\n",
      "Cleared all stored images, masks, scores, and padding information.\n"
     ]
    },
    {
     "name": "stderr",
     "output_type": "stream",
     "text": [
      "frame loading (JPEG): 100%|██████████| 4/4 [00:00<00:00, 25.08it/s]/it]\n",
      "/home/kumaraditya/segment-anything-2/sam2/sam2_video_predictor.py:873: UserWarning: cannot import name '_C' from 'sam2' (/home/kumaraditya/segment-anything-2/sam2/__init__.py)\n",
      "\n",
      "Skipping the post-processing step due to the error above. You can still use SAM 2 and it's OK to ignore the error above, although some post-processing functionality may be limited (which doesn't affect the results in most cases; see https://github.com/facebookresearch/segment-anything-2/blob/main/INSTALL.md).\n",
      "  pred_masks_gpu = fill_holes_in_mask_scores(\n",
      "propagate in video: 100%|██████████| 4/4 [00:01<00:00,  3.74it/s]\n",
      "/home/kumaraditya/scannetpp/common/render_crops_utils.py:185: UserWarning: Attempting to set identical low and high ylims makes transformation singular; automatically expanding.\n",
      "  ax.imshow(img)\n",
      "/home/kumaraditya/scannetpp/common/render_crops_utils.py:185: UserWarning: Attempting to set identical low and high xlims makes transformation singular; automatically expanding.\n",
      "  ax.imshow(img)\n"
     ]
    },
    {
     "name": "stdout",
     "output_type": "stream",
     "text": [
      "Cleared contents of temporary directory /tmp/tmpehswpppo.\n",
      "Cleared all stored images, masks, scores, and padding information.\n"
     ]
    },
    {
     "name": "stderr",
     "output_type": "stream",
     "text": [
      "frame loading (JPEG): 100%|██████████| 4/4 [00:00<00:00, 33.26it/s]/it]\n",
      "/home/kumaraditya/segment-anything-2/sam2/sam2_video_predictor.py:873: UserWarning: cannot import name '_C' from 'sam2' (/home/kumaraditya/segment-anything-2/sam2/__init__.py)\n",
      "\n",
      "Skipping the post-processing step due to the error above. You can still use SAM 2 and it's OK to ignore the error above, although some post-processing functionality may be limited (which doesn't affect the results in most cases; see https://github.com/facebookresearch/segment-anything-2/blob/main/INSTALL.md).\n",
      "  pred_masks_gpu = fill_holes_in_mask_scores(\n",
      "propagate in video: 100%|██████████| 4/4 [00:01<00:00,  3.74it/s]\n"
     ]
    },
    {
     "name": "stdout",
     "output_type": "stream",
     "text": [
      "Cleared contents of temporary directory /tmp/tmpehswpppo.\n",
      "Cleared all stored images, masks, scores, and padding information.\n"
     ]
    },
    {
     "name": "stderr",
     "output_type": "stream",
     "text": [
      "frame loading (JPEG): 100%|██████████| 4/4 [00:00<00:00, 32.61it/s]/it]\n",
      "/home/kumaraditya/segment-anything-2/sam2/sam2_video_predictor.py:873: UserWarning: cannot import name '_C' from 'sam2' (/home/kumaraditya/segment-anything-2/sam2/__init__.py)\n",
      "\n",
      "Skipping the post-processing step due to the error above. You can still use SAM 2 and it's OK to ignore the error above, although some post-processing functionality may be limited (which doesn't affect the results in most cases; see https://github.com/facebookresearch/segment-anything-2/blob/main/INSTALL.md).\n",
      "  pred_masks_gpu = fill_holes_in_mask_scores(\n",
      "propagate in video: 100%|██████████| 4/4 [00:01<00:00,  3.74it/s]\n"
     ]
    },
    {
     "name": "stdout",
     "output_type": "stream",
     "text": [
      "Cleared contents of temporary directory /tmp/tmpehswpppo.\n",
      "Cleared all stored images, masks, scores, and padding information.\n"
     ]
    },
    {
     "name": "stderr",
     "output_type": "stream",
     "text": [
      "frame loading (JPEG): 100%|██████████| 4/4 [00:00<00:00, 35.84it/s]/it]\n",
      "/home/kumaraditya/segment-anything-2/sam2/sam2_video_predictor.py:873: UserWarning: cannot import name '_C' from 'sam2' (/home/kumaraditya/segment-anything-2/sam2/__init__.py)\n",
      "\n",
      "Skipping the post-processing step due to the error above. You can still use SAM 2 and it's OK to ignore the error above, although some post-processing functionality may be limited (which doesn't affect the results in most cases; see https://github.com/facebookresearch/segment-anything-2/blob/main/INSTALL.md).\n",
      "  pred_masks_gpu = fill_holes_in_mask_scores(\n",
      "propagate in video: 100%|██████████| 4/4 [00:01<00:00,  3.73it/s]\n",
      "/home/kumaraditya/scannetpp/common/render_crops_utils.py:185: UserWarning: Attempting to set identical low and high xlims makes transformation singular; automatically expanding.\n",
      "  ax.imshow(img)\n",
      "/home/kumaraditya/scannetpp/common/render_crops_utils.py:185: UserWarning: Attempting to set identical low and high ylims makes transformation singular; automatically expanding.\n",
      "  ax.imshow(img)\n"
     ]
    },
    {
     "name": "stdout",
     "output_type": "stream",
     "text": [
      "Cleared contents of temporary directory /tmp/tmpehswpppo.\n",
      "Cleared all stored images, masks, scores, and padding information.\n"
     ]
    },
    {
     "name": "stderr",
     "output_type": "stream",
     "text": [
      "frame loading (JPEG): 100%|██████████| 4/4 [00:00<00:00, 37.46it/s]/it]\n",
      "/home/kumaraditya/segment-anything-2/sam2/sam2_video_predictor.py:873: UserWarning: cannot import name '_C' from 'sam2' (/home/kumaraditya/segment-anything-2/sam2/__init__.py)\n",
      "\n",
      "Skipping the post-processing step due to the error above. You can still use SAM 2 and it's OK to ignore the error above, although some post-processing functionality may be limited (which doesn't affect the results in most cases; see https://github.com/facebookresearch/segment-anything-2/blob/main/INSTALL.md).\n",
      "  pred_masks_gpu = fill_holes_in_mask_scores(\n",
      "propagate in video: 100%|██████████| 4/4 [00:01<00:00,  3.72it/s]\n",
      "/home/kumaraditya/scannetpp/common/render_crops_utils.py:185: UserWarning: Attempting to set identical low and high ylims makes transformation singular; automatically expanding.\n",
      "  ax.imshow(img)\n",
      "/home/kumaraditya/scannetpp/common/render_crops_utils.py:185: UserWarning: Attempting to set identical low and high xlims makes transformation singular; automatically expanding.\n",
      "  ax.imshow(img)\n"
     ]
    },
    {
     "name": "stdout",
     "output_type": "stream",
     "text": [
      "Cleared contents of temporary directory /tmp/tmpehswpppo.\n",
      "Cleared all stored images, masks, scores, and padding information.\n"
     ]
    },
    {
     "name": "stderr",
     "output_type": "stream",
     "text": [
      "frame loading (JPEG): 100%|██████████| 4/4 [00:00<00:00, 41.52it/s]/it]\n",
      "/home/kumaraditya/segment-anything-2/sam2/sam2_video_predictor.py:873: UserWarning: cannot import name '_C' from 'sam2' (/home/kumaraditya/segment-anything-2/sam2/__init__.py)\n",
      "\n",
      "Skipping the post-processing step due to the error above. You can still use SAM 2 and it's OK to ignore the error above, although some post-processing functionality may be limited (which doesn't affect the results in most cases; see https://github.com/facebookresearch/segment-anything-2/blob/main/INSTALL.md).\n",
      "  pred_masks_gpu = fill_holes_in_mask_scores(\n",
      "propagate in video: 100%|██████████| 4/4 [00:01<00:00,  3.70it/s]\n",
      "/home/kumaraditya/scannetpp/common/render_crops_utils.py:185: UserWarning: Attempting to set identical low and high xlims makes transformation singular; automatically expanding.\n",
      "  ax.imshow(img)\n",
      "/home/kumaraditya/scannetpp/common/render_crops_utils.py:185: UserWarning: Attempting to set identical low and high ylims makes transformation singular; automatically expanding.\n",
      "  ax.imshow(img)\n"
     ]
    },
    {
     "name": "stdout",
     "output_type": "stream",
     "text": [
      "Cleared contents of temporary directory /tmp/tmpehswpppo.\n",
      "Cleared all stored images, masks, scores, and padding information.\n"
     ]
    },
    {
     "name": "stderr",
     "output_type": "stream",
     "text": [
      "frame loading (JPEG): 100%|██████████| 4/4 [00:00<00:00, 35.43it/s]/it]\n",
      "/home/kumaraditya/segment-anything-2/sam2/sam2_video_predictor.py:873: UserWarning: cannot import name '_C' from 'sam2' (/home/kumaraditya/segment-anything-2/sam2/__init__.py)\n",
      "\n",
      "Skipping the post-processing step due to the error above. You can still use SAM 2 and it's OK to ignore the error above, although some post-processing functionality may be limited (which doesn't affect the results in most cases; see https://github.com/facebookresearch/segment-anything-2/blob/main/INSTALL.md).\n",
      "  pred_masks_gpu = fill_holes_in_mask_scores(\n",
      "propagate in video: 100%|██████████| 4/4 [00:01<00:00,  3.69it/s]\n"
     ]
    },
    {
     "name": "stdout",
     "output_type": "stream",
     "text": [
      "Cleared contents of temporary directory /tmp/tmpehswpppo.\n",
      "Cleared all stored images, masks, scores, and padding information.\n"
     ]
    },
    {
     "name": "stderr",
     "output_type": "stream",
     "text": [
      "frame loading (JPEG): 100%|██████████| 4/4 [00:00<00:00, 30.16it/s]/it]\n",
      "/home/kumaraditya/segment-anything-2/sam2/sam2_video_predictor.py:873: UserWarning: cannot import name '_C' from 'sam2' (/home/kumaraditya/segment-anything-2/sam2/__init__.py)\n",
      "\n",
      "Skipping the post-processing step due to the error above. You can still use SAM 2 and it's OK to ignore the error above, although some post-processing functionality may be limited (which doesn't affect the results in most cases; see https://github.com/facebookresearch/segment-anything-2/blob/main/INSTALL.md).\n",
      "  pred_masks_gpu = fill_holes_in_mask_scores(\n",
      "propagate in video: 100%|██████████| 4/4 [00:01<00:00,  3.66it/s]\n"
     ]
    },
    {
     "name": "stdout",
     "output_type": "stream",
     "text": [
      "Cleared contents of temporary directory /tmp/tmpehswpppo.\n",
      "Cleared all stored images, masks, scores, and padding information.\n"
     ]
    },
    {
     "name": "stderr",
     "output_type": "stream",
     "text": [
      "frame loading (JPEG): 100%|██████████| 4/4 [00:00<00:00, 32.95it/s]/it]\n",
      "/home/kumaraditya/segment-anything-2/sam2/sam2_video_predictor.py:873: UserWarning: cannot import name '_C' from 'sam2' (/home/kumaraditya/segment-anything-2/sam2/__init__.py)\n",
      "\n",
      "Skipping the post-processing step due to the error above. You can still use SAM 2 and it's OK to ignore the error above, although some post-processing functionality may be limited (which doesn't affect the results in most cases; see https://github.com/facebookresearch/segment-anything-2/blob/main/INSTALL.md).\n",
      "  pred_masks_gpu = fill_holes_in_mask_scores(\n",
      "propagate in video: 100%|██████████| 4/4 [00:01<00:00,  3.66it/s]\n"
     ]
    },
    {
     "name": "stdout",
     "output_type": "stream",
     "text": [
      "Cleared contents of temporary directory /tmp/tmpehswpppo.\n",
      "Cleared all stored images, masks, scores, and padding information.\n"
     ]
    },
    {
     "name": "stderr",
     "output_type": "stream",
     "text": [
      "frame loading (JPEG): 100%|██████████| 4/4 [00:00<00:00, 37.17it/s]/it]\n",
      "/home/kumaraditya/segment-anything-2/sam2/sam2_video_predictor.py:873: UserWarning: cannot import name '_C' from 'sam2' (/home/kumaraditya/segment-anything-2/sam2/__init__.py)\n",
      "\n",
      "Skipping the post-processing step due to the error above. You can still use SAM 2 and it's OK to ignore the error above, although some post-processing functionality may be limited (which doesn't affect the results in most cases; see https://github.com/facebookresearch/segment-anything-2/blob/main/INSTALL.md).\n",
      "  pred_masks_gpu = fill_holes_in_mask_scores(\n",
      "propagate in video: 100%|██████████| 4/4 [00:01<00:00,  3.65it/s]\n",
      "/home/kumaraditya/scannetpp/common/render_crops_utils.py:185: UserWarning: Attempting to set identical low and high ylims makes transformation singular; automatically expanding.\n",
      "  ax.imshow(img)\n",
      "/home/kumaraditya/scannetpp/common/render_crops_utils.py:185: UserWarning: Attempting to set identical low and high xlims makes transformation singular; automatically expanding.\n",
      "  ax.imshow(img)\n"
     ]
    },
    {
     "name": "stdout",
     "output_type": "stream",
     "text": [
      "Cleared contents of temporary directory /tmp/tmpehswpppo.\n",
      "Cleared all stored images, masks, scores, and padding information.\n"
     ]
    },
    {
     "name": "stderr",
     "output_type": "stream",
     "text": [
      "frame loading (JPEG): 100%|██████████| 4/4 [00:00<00:00, 33.65it/s]/it]\n",
      "/home/kumaraditya/segment-anything-2/sam2/sam2_video_predictor.py:873: UserWarning: cannot import name '_C' from 'sam2' (/home/kumaraditya/segment-anything-2/sam2/__init__.py)\n",
      "\n",
      "Skipping the post-processing step due to the error above. You can still use SAM 2 and it's OK to ignore the error above, although some post-processing functionality may be limited (which doesn't affect the results in most cases; see https://github.com/facebookresearch/segment-anything-2/blob/main/INSTALL.md).\n",
      "  pred_masks_gpu = fill_holes_in_mask_scores(\n",
      "propagate in video: 100%|██████████| 4/4 [00:01<00:00,  3.58it/s]\n",
      "/home/kumaraditya/scannetpp/common/render_crops_utils.py:185: UserWarning: Attempting to set identical low and high xlims makes transformation singular; automatically expanding.\n",
      "  ax.imshow(img)\n",
      "/home/kumaraditya/scannetpp/common/render_crops_utils.py:185: UserWarning: Attempting to set identical low and high ylims makes transformation singular; automatically expanding.\n",
      "  ax.imshow(img)\n"
     ]
    },
    {
     "name": "stdout",
     "output_type": "stream",
     "text": [
      "Cleared contents of temporary directory /tmp/tmpehswpppo.\n",
      "Cleared all stored images, masks, scores, and padding information.\n"
     ]
    },
    {
     "name": "stderr",
     "output_type": "stream",
     "text": [
      "frame loading (JPEG): 100%|██████████| 4/4 [00:00<00:00, 36.20it/s]/it]\n",
      "/home/kumaraditya/segment-anything-2/sam2/sam2_video_predictor.py:873: UserWarning: cannot import name '_C' from 'sam2' (/home/kumaraditya/segment-anything-2/sam2/__init__.py)\n",
      "\n",
      "Skipping the post-processing step due to the error above. You can still use SAM 2 and it's OK to ignore the error above, although some post-processing functionality may be limited (which doesn't affect the results in most cases; see https://github.com/facebookresearch/segment-anything-2/blob/main/INSTALL.md).\n",
      "  pred_masks_gpu = fill_holes_in_mask_scores(\n",
      "propagate in video: 100%|██████████| 4/4 [00:01<00:00,  3.62it/s]\n",
      "/home/kumaraditya/scannetpp/common/render_crops_utils.py:185: UserWarning: Attempting to set identical low and high xlims makes transformation singular; automatically expanding.\n",
      "  ax.imshow(img)\n",
      "/home/kumaraditya/scannetpp/common/render_crops_utils.py:185: UserWarning: Attempting to set identical low and high ylims makes transformation singular; automatically expanding.\n",
      "  ax.imshow(img)\n"
     ]
    },
    {
     "name": "stdout",
     "output_type": "stream",
     "text": [
      "Cleared contents of temporary directory /tmp/tmpehswpppo.\n",
      "Cleared all stored images, masks, scores, and padding information.\n"
     ]
    },
    {
     "name": "stderr",
     "output_type": "stream",
     "text": [
      "frame loading (JPEG): 100%|██████████| 4/4 [00:00<00:00, 42.75it/s]/it]\n",
      "/home/kumaraditya/segment-anything-2/sam2/sam2_video_predictor.py:873: UserWarning: cannot import name '_C' from 'sam2' (/home/kumaraditya/segment-anything-2/sam2/__init__.py)\n",
      "\n",
      "Skipping the post-processing step due to the error above. You can still use SAM 2 and it's OK to ignore the error above, although some post-processing functionality may be limited (which doesn't affect the results in most cases; see https://github.com/facebookresearch/segment-anything-2/blob/main/INSTALL.md).\n",
      "  pred_masks_gpu = fill_holes_in_mask_scores(\n",
      "propagate in video: 100%|██████████| 4/4 [00:01<00:00,  3.59it/s]\n",
      "/home/kumaraditya/scannetpp/common/render_crops_utils.py:185: UserWarning: Attempting to set identical low and high xlims makes transformation singular; automatically expanding.\n",
      "  ax.imshow(img)\n",
      "/home/kumaraditya/scannetpp/common/render_crops_utils.py:185: UserWarning: Attempting to set identical low and high ylims makes transformation singular; automatically expanding.\n",
      "  ax.imshow(img)\n"
     ]
    },
    {
     "name": "stdout",
     "output_type": "stream",
     "text": [
      "Cleared contents of temporary directory /tmp/tmpehswpppo.\n",
      "Cleared all stored images, masks, scores, and padding information.\n"
     ]
    },
    {
     "name": "stderr",
     "output_type": "stream",
     "text": [
      "frame loading (JPEG): 100%|██████████| 4/4 [00:00<00:00, 36.30it/s]/it]\n",
      "/home/kumaraditya/segment-anything-2/sam2/sam2_video_predictor.py:873: UserWarning: cannot import name '_C' from 'sam2' (/home/kumaraditya/segment-anything-2/sam2/__init__.py)\n",
      "\n",
      "Skipping the post-processing step due to the error above. You can still use SAM 2 and it's OK to ignore the error above, although some post-processing functionality may be limited (which doesn't affect the results in most cases; see https://github.com/facebookresearch/segment-anything-2/blob/main/INSTALL.md).\n",
      "  pred_masks_gpu = fill_holes_in_mask_scores(\n",
      "propagate in video: 100%|██████████| 4/4 [00:01<00:00,  3.58it/s]\n"
     ]
    },
    {
     "name": "stdout",
     "output_type": "stream",
     "text": [
      "Cleared contents of temporary directory /tmp/tmpehswpppo.\n",
      "Cleared all stored images, masks, scores, and padding information.\n"
     ]
    },
    {
     "name": "stderr",
     "output_type": "stream",
     "text": [
      "/home/kumaraditya/scannetpp/common/render_crops_utils.py:185: UserWarning: Attempting to set identical low and high ylims makes transformation singular; automatically expanding.\n",
      "  ax.imshow(img)\n",
      "/home/kumaraditya/scannetpp/common/render_crops_utils.py:185: UserWarning: Attempting to set identical low and high xlims makes transformation singular; automatically expanding.\n",
      "  ax.imshow(img)\n",
      "frame loading (JPEG): 100%|██████████| 4/4 [00:00<00:00, 36.14it/s]/it]\n",
      "/home/kumaraditya/segment-anything-2/sam2/sam2_video_predictor.py:873: UserWarning: cannot import name '_C' from 'sam2' (/home/kumaraditya/segment-anything-2/sam2/__init__.py)\n",
      "\n",
      "Skipping the post-processing step due to the error above. You can still use SAM 2 and it's OK to ignore the error above, although some post-processing functionality may be limited (which doesn't affect the results in most cases; see https://github.com/facebookresearch/segment-anything-2/blob/main/INSTALL.md).\n",
      "  pred_masks_gpu = fill_holes_in_mask_scores(\n",
      "propagate in video: 100%|██████████| 4/4 [00:01<00:00,  3.60it/s]\n",
      "/home/kumaraditya/scannetpp/common/render_crops_utils.py:185: UserWarning: Attempting to set identical low and high ylims makes transformation singular; automatically expanding.\n",
      "  ax.imshow(img)\n",
      "/home/kumaraditya/scannetpp/common/render_crops_utils.py:185: UserWarning: Attempting to set identical low and high xlims makes transformation singular; automatically expanding.\n",
      "  ax.imshow(img)\n"
     ]
    },
    {
     "name": "stdout",
     "output_type": "stream",
     "text": [
      "Cleared contents of temporary directory /tmp/tmpehswpppo.\n",
      "Cleared all stored images, masks, scores, and padding information.\n"
     ]
    },
    {
     "name": "stderr",
     "output_type": "stream",
     "text": [
      "frame loading (JPEG): 100%|██████████| 4/4 [00:00<00:00, 40.95it/s]/it]\n",
      "/home/kumaraditya/segment-anything-2/sam2/sam2_video_predictor.py:873: UserWarning: cannot import name '_C' from 'sam2' (/home/kumaraditya/segment-anything-2/sam2/__init__.py)\n",
      "\n",
      "Skipping the post-processing step due to the error above. You can still use SAM 2 and it's OK to ignore the error above, although some post-processing functionality may be limited (which doesn't affect the results in most cases; see https://github.com/facebookresearch/segment-anything-2/blob/main/INSTALL.md).\n",
      "  pred_masks_gpu = fill_holes_in_mask_scores(\n",
      "propagate in video: 100%|██████████| 4/4 [00:01<00:00,  3.56it/s]\n"
     ]
    },
    {
     "name": "stdout",
     "output_type": "stream",
     "text": [
      "Cleared contents of temporary directory /tmp/tmpehswpppo.\n",
      "Cleared all stored images, masks, scores, and padding information.\n"
     ]
    },
    {
     "name": "stderr",
     "output_type": "stream",
     "text": [
      "frame loading (JPEG): 100%|██████████| 4/4 [00:00<00:00, 41.24it/s]/it]\n",
      "/home/kumaraditya/segment-anything-2/sam2/sam2_video_predictor.py:873: UserWarning: cannot import name '_C' from 'sam2' (/home/kumaraditya/segment-anything-2/sam2/__init__.py)\n",
      "\n",
      "Skipping the post-processing step due to the error above. You can still use SAM 2 and it's OK to ignore the error above, although some post-processing functionality may be limited (which doesn't affect the results in most cases; see https://github.com/facebookresearch/segment-anything-2/blob/main/INSTALL.md).\n",
      "  pred_masks_gpu = fill_holes_in_mask_scores(\n",
      "propagate in video: 100%|██████████| 4/4 [00:01<00:00,  3.59it/s]\n",
      "/home/kumaraditya/scannetpp/common/render_crops_utils.py:185: UserWarning: Attempting to set identical low and high xlims makes transformation singular; automatically expanding.\n",
      "  ax.imshow(img)\n",
      "/home/kumaraditya/scannetpp/common/render_crops_utils.py:185: UserWarning: Attempting to set identical low and high ylims makes transformation singular; automatically expanding.\n",
      "  ax.imshow(img)\n"
     ]
    },
    {
     "name": "stdout",
     "output_type": "stream",
     "text": [
      "Cleared contents of temporary directory /tmp/tmpehswpppo.\n",
      "Cleared all stored images, masks, scores, and padding information.\n"
     ]
    },
    {
     "name": "stderr",
     "output_type": "stream",
     "text": [
      "frame loading (JPEG): 100%|██████████| 4/4 [00:00<00:00, 32.09it/s]/it]\n",
      "/home/kumaraditya/segment-anything-2/sam2/sam2_video_predictor.py:873: UserWarning: cannot import name '_C' from 'sam2' (/home/kumaraditya/segment-anything-2/sam2/__init__.py)\n",
      "\n",
      "Skipping the post-processing step due to the error above. You can still use SAM 2 and it's OK to ignore the error above, although some post-processing functionality may be limited (which doesn't affect the results in most cases; see https://github.com/facebookresearch/segment-anything-2/blob/main/INSTALL.md).\n",
      "  pred_masks_gpu = fill_holes_in_mask_scores(\n",
      "propagate in video: 100%|██████████| 4/4 [00:01<00:00,  3.56it/s]\n",
      "/home/kumaraditya/scannetpp/common/render_crops_utils.py:185: UserWarning: Attempting to set identical low and high xlims makes transformation singular; automatically expanding.\n",
      "  ax.imshow(img)\n",
      "/home/kumaraditya/scannetpp/common/render_crops_utils.py:185: UserWarning: Attempting to set identical low and high ylims makes transformation singular; automatically expanding.\n",
      "  ax.imshow(img)\n"
     ]
    },
    {
     "name": "stdout",
     "output_type": "stream",
     "text": [
      "Cleared contents of temporary directory /tmp/tmpehswpppo.\n",
      "Cleared all stored images, masks, scores, and padding information.\n"
     ]
    },
    {
     "name": "stderr",
     "output_type": "stream",
     "text": [
      "frame loading (JPEG): 100%|██████████| 4/4 [00:00<00:00, 43.31it/s]/it]\n",
      "/home/kumaraditya/segment-anything-2/sam2/sam2_video_predictor.py:873: UserWarning: cannot import name '_C' from 'sam2' (/home/kumaraditya/segment-anything-2/sam2/__init__.py)\n",
      "\n",
      "Skipping the post-processing step due to the error above. You can still use SAM 2 and it's OK to ignore the error above, although some post-processing functionality may be limited (which doesn't affect the results in most cases; see https://github.com/facebookresearch/segment-anything-2/blob/main/INSTALL.md).\n",
      "  pred_masks_gpu = fill_holes_in_mask_scores(\n",
      "propagate in video: 100%|██████████| 4/4 [00:01<00:00,  3.56it/s]\n",
      "/home/kumaraditya/scannetpp/common/render_crops_utils.py:185: UserWarning: Attempting to set identical low and high xlims makes transformation singular; automatically expanding.\n",
      "  ax.imshow(img)\n",
      "/home/kumaraditya/scannetpp/common/render_crops_utils.py:185: UserWarning: Attempting to set identical low and high ylims makes transformation singular; automatically expanding.\n",
      "  ax.imshow(img)\n"
     ]
    },
    {
     "name": "stdout",
     "output_type": "stream",
     "text": [
      "Cleared contents of temporary directory /tmp/tmpehswpppo.\n",
      "Cleared all stored images, masks, scores, and padding information.\n"
     ]
    },
    {
     "name": "stderr",
     "output_type": "stream",
     "text": [
      "frame loading (JPEG): 100%|██████████| 4/4 [00:00<00:00, 42.99it/s]/it]\n",
      "/home/kumaraditya/segment-anything-2/sam2/sam2_video_predictor.py:873: UserWarning: cannot import name '_C' from 'sam2' (/home/kumaraditya/segment-anything-2/sam2/__init__.py)\n",
      "\n",
      "Skipping the post-processing step due to the error above. You can still use SAM 2 and it's OK to ignore the error above, although some post-processing functionality may be limited (which doesn't affect the results in most cases; see https://github.com/facebookresearch/segment-anything-2/blob/main/INSTALL.md).\n",
      "  pred_masks_gpu = fill_holes_in_mask_scores(\n",
      "propagate in video: 100%|██████████| 4/4 [00:01<00:00,  3.48it/s]\n",
      "/home/kumaraditya/scannetpp/common/render_crops_utils.py:185: UserWarning: Attempting to set identical low and high ylims makes transformation singular; automatically expanding.\n",
      "  ax.imshow(img)\n",
      "/home/kumaraditya/scannetpp/common/render_crops_utils.py:185: UserWarning: Attempting to set identical low and high xlims makes transformation singular; automatically expanding.\n",
      "  ax.imshow(img)\n"
     ]
    },
    {
     "name": "stdout",
     "output_type": "stream",
     "text": [
      "Cleared contents of temporary directory /tmp/tmpehswpppo.\n",
      "Cleared all stored images, masks, scores, and padding information.\n"
     ]
    },
    {
     "name": "stderr",
     "output_type": "stream",
     "text": [
      "frame loading (JPEG): 100%|██████████| 4/4 [00:00<00:00, 43.10it/s]/it]\n",
      "/home/kumaraditya/segment-anything-2/sam2/sam2_video_predictor.py:873: UserWarning: cannot import name '_C' from 'sam2' (/home/kumaraditya/segment-anything-2/sam2/__init__.py)\n",
      "\n",
      "Skipping the post-processing step due to the error above. You can still use SAM 2 and it's OK to ignore the error above, although some post-processing functionality may be limited (which doesn't affect the results in most cases; see https://github.com/facebookresearch/segment-anything-2/blob/main/INSTALL.md).\n",
      "  pred_masks_gpu = fill_holes_in_mask_scores(\n",
      "propagate in video: 100%|██████████| 4/4 [00:01<00:00,  3.52it/s]\n",
      "/home/kumaraditya/scannetpp/common/render_crops_utils.py:185: UserWarning: Attempting to set identical low and high xlims makes transformation singular; automatically expanding.\n",
      "  ax.imshow(img)\n",
      "/home/kumaraditya/scannetpp/common/render_crops_utils.py:185: UserWarning: Attempting to set identical low and high ylims makes transformation singular; automatically expanding.\n",
      "  ax.imshow(img)\n"
     ]
    },
    {
     "name": "stdout",
     "output_type": "stream",
     "text": [
      "Cleared contents of temporary directory /tmp/tmpehswpppo.\n",
      "Cleared all stored images, masks, scores, and padding information.\n"
     ]
    },
    {
     "name": "stderr",
     "output_type": "stream",
     "text": [
      "frame loading (JPEG): 100%|██████████| 4/4 [00:00<00:00, 38.58it/s]/it]\n",
      "/home/kumaraditya/segment-anything-2/sam2/sam2_video_predictor.py:873: UserWarning: cannot import name '_C' from 'sam2' (/home/kumaraditya/segment-anything-2/sam2/__init__.py)\n",
      "\n",
      "Skipping the post-processing step due to the error above. You can still use SAM 2 and it's OK to ignore the error above, although some post-processing functionality may be limited (which doesn't affect the results in most cases; see https://github.com/facebookresearch/segment-anything-2/blob/main/INSTALL.md).\n",
      "  pred_masks_gpu = fill_holes_in_mask_scores(\n",
      "propagate in video: 100%|██████████| 4/4 [00:01<00:00,  3.50it/s]\n"
     ]
    },
    {
     "name": "stdout",
     "output_type": "stream",
     "text": [
      "Cleared contents of temporary directory /tmp/tmpehswpppo.\n",
      "Cleared all stored images, masks, scores, and padding information.\n"
     ]
    },
    {
     "name": "stderr",
     "output_type": "stream",
     "text": [
      "frame loading (JPEG): 100%|██████████| 4/4 [00:00<00:00, 42.11it/s]/it]\n",
      "/home/kumaraditya/segment-anything-2/sam2/sam2_video_predictor.py:873: UserWarning: cannot import name '_C' from 'sam2' (/home/kumaraditya/segment-anything-2/sam2/__init__.py)\n",
      "\n",
      "Skipping the post-processing step due to the error above. You can still use SAM 2 and it's OK to ignore the error above, although some post-processing functionality may be limited (which doesn't affect the results in most cases; see https://github.com/facebookresearch/segment-anything-2/blob/main/INSTALL.md).\n",
      "  pred_masks_gpu = fill_holes_in_mask_scores(\n",
      "propagate in video: 100%|██████████| 4/4 [00:01<00:00,  3.43it/s]\n",
      "/home/kumaraditya/scannetpp/common/render_crops_utils.py:185: UserWarning: Attempting to set identical low and high xlims makes transformation singular; automatically expanding.\n",
      "  ax.imshow(img)\n",
      "/home/kumaraditya/scannetpp/common/render_crops_utils.py:185: UserWarning: Attempting to set identical low and high ylims makes transformation singular; automatically expanding.\n",
      "  ax.imshow(img)\n"
     ]
    },
    {
     "name": "stdout",
     "output_type": "stream",
     "text": [
      "Cleared contents of temporary directory /tmp/tmpehswpppo.\n",
      "Cleared all stored images, masks, scores, and padding information.\n"
     ]
    },
    {
     "name": "stderr",
     "output_type": "stream",
     "text": [
      "frame loading (JPEG): 100%|██████████| 4/4 [00:00<00:00, 35.03it/s]/it]\n",
      "/home/kumaraditya/segment-anything-2/sam2/sam2_video_predictor.py:873: UserWarning: cannot import name '_C' from 'sam2' (/home/kumaraditya/segment-anything-2/sam2/__init__.py)\n",
      "\n",
      "Skipping the post-processing step due to the error above. You can still use SAM 2 and it's OK to ignore the error above, although some post-processing functionality may be limited (which doesn't affect the results in most cases; see https://github.com/facebookresearch/segment-anything-2/blob/main/INSTALL.md).\n",
      "  pred_masks_gpu = fill_holes_in_mask_scores(\n",
      "propagate in video: 100%|██████████| 4/4 [00:01<00:00,  3.51it/s]\n",
      "/home/kumaraditya/scannetpp/common/render_crops_utils.py:185: UserWarning: Attempting to set identical low and high xlims makes transformation singular; automatically expanding.\n",
      "  ax.imshow(img)\n",
      "/home/kumaraditya/scannetpp/common/render_crops_utils.py:185: UserWarning: Attempting to set identical low and high ylims makes transformation singular; automatically expanding.\n",
      "  ax.imshow(img)\n"
     ]
    },
    {
     "name": "stdout",
     "output_type": "stream",
     "text": [
      "Cleared contents of temporary directory /tmp/tmpehswpppo.\n",
      "Cleared all stored images, masks, scores, and padding information.\n"
     ]
    },
    {
     "name": "stderr",
     "output_type": "stream",
     "text": [
      "frame loading (JPEG): 100%|██████████| 4/4 [00:00<00:00, 37.33it/s]/it]\n",
      "/home/kumaraditya/segment-anything-2/sam2/sam2_video_predictor.py:873: UserWarning: cannot import name '_C' from 'sam2' (/home/kumaraditya/segment-anything-2/sam2/__init__.py)\n",
      "\n",
      "Skipping the post-processing step due to the error above. You can still use SAM 2 and it's OK to ignore the error above, although some post-processing functionality may be limited (which doesn't affect the results in most cases; see https://github.com/facebookresearch/segment-anything-2/blob/main/INSTALL.md).\n",
      "  pred_masks_gpu = fill_holes_in_mask_scores(\n",
      "propagate in video: 100%|██████████| 4/4 [00:01<00:00,  3.51it/s]\n",
      "/home/kumaraditya/scannetpp/common/render_crops_utils.py:185: UserWarning: Attempting to set identical low and high xlims makes transformation singular; automatically expanding.\n",
      "  ax.imshow(img)\n",
      "/home/kumaraditya/scannetpp/common/render_crops_utils.py:185: UserWarning: Attempting to set identical low and high ylims makes transformation singular; automatically expanding.\n",
      "  ax.imshow(img)\n"
     ]
    },
    {
     "name": "stdout",
     "output_type": "stream",
     "text": [
      "Cleared contents of temporary directory /tmp/tmpehswpppo.\n",
      "Cleared all stored images, masks, scores, and padding information.\n"
     ]
    },
    {
     "name": "stderr",
     "output_type": "stream",
     "text": [
      "frame loading (JPEG): 100%|██████████| 4/4 [00:00<00:00, 40.66it/s]/it]\n",
      "/home/kumaraditya/segment-anything-2/sam2/sam2_video_predictor.py:873: UserWarning: cannot import name '_C' from 'sam2' (/home/kumaraditya/segment-anything-2/sam2/__init__.py)\n",
      "\n",
      "Skipping the post-processing step due to the error above. You can still use SAM 2 and it's OK to ignore the error above, although some post-processing functionality may be limited (which doesn't affect the results in most cases; see https://github.com/facebookresearch/segment-anything-2/blob/main/INSTALL.md).\n",
      "  pred_masks_gpu = fill_holes_in_mask_scores(\n",
      "propagate in video: 100%|██████████| 4/4 [00:01<00:00,  3.44it/s]\n",
      "/home/kumaraditya/scannetpp/common/render_crops_utils.py:185: UserWarning: Attempting to set identical low and high xlims makes transformation singular; automatically expanding.\n",
      "  ax.imshow(img)\n",
      "/home/kumaraditya/scannetpp/common/render_crops_utils.py:185: UserWarning: Attempting to set identical low and high ylims makes transformation singular; automatically expanding.\n",
      "  ax.imshow(img)\n"
     ]
    },
    {
     "name": "stdout",
     "output_type": "stream",
     "text": [
      "Cleared contents of temporary directory /tmp/tmpehswpppo.\n",
      "Cleared all stored images, masks, scores, and padding information.\n"
     ]
    },
    {
     "name": "stderr",
     "output_type": "stream",
     "text": [
      "frame loading (JPEG): 100%|██████████| 4/4 [00:00<00:00, 30.87it/s]/it]\n",
      "/home/kumaraditya/segment-anything-2/sam2/sam2_video_predictor.py:873: UserWarning: cannot import name '_C' from 'sam2' (/home/kumaraditya/segment-anything-2/sam2/__init__.py)\n",
      "\n",
      "Skipping the post-processing step due to the error above. You can still use SAM 2 and it's OK to ignore the error above, although some post-processing functionality may be limited (which doesn't affect the results in most cases; see https://github.com/facebookresearch/segment-anything-2/blob/main/INSTALL.md).\n",
      "  pred_masks_gpu = fill_holes_in_mask_scores(\n",
      "propagate in video: 100%|██████████| 4/4 [00:01<00:00,  3.45it/s]\n",
      "/home/kumaraditya/scannetpp/common/render_crops_utils.py:185: UserWarning: Attempting to set identical low and high xlims makes transformation singular; automatically expanding.\n",
      "  ax.imshow(img)\n",
      "/home/kumaraditya/scannetpp/common/render_crops_utils.py:185: UserWarning: Attempting to set identical low and high ylims makes transformation singular; automatically expanding.\n",
      "  ax.imshow(img)\n"
     ]
    },
    {
     "name": "stdout",
     "output_type": "stream",
     "text": [
      "Cleared contents of temporary directory /tmp/tmpehswpppo.\n",
      "Cleared all stored images, masks, scores, and padding information.\n"
     ]
    },
    {
     "name": "stderr",
     "output_type": "stream",
     "text": [
      "frame loading (JPEG): 100%|██████████| 4/4 [00:00<00:00, 43.02it/s]/it]\n",
      "/home/kumaraditya/segment-anything-2/sam2/sam2_video_predictor.py:873: UserWarning: cannot import name '_C' from 'sam2' (/home/kumaraditya/segment-anything-2/sam2/__init__.py)\n",
      "\n",
      "Skipping the post-processing step due to the error above. You can still use SAM 2 and it's OK to ignore the error above, although some post-processing functionality may be limited (which doesn't affect the results in most cases; see https://github.com/facebookresearch/segment-anything-2/blob/main/INSTALL.md).\n",
      "  pred_masks_gpu = fill_holes_in_mask_scores(\n",
      "propagate in video: 100%|██████████| 4/4 [00:01<00:00,  3.60it/s]\n",
      "/home/kumaraditya/scannetpp/common/render_crops_utils.py:185: UserWarning: Attempting to set identical low and high xlims makes transformation singular; automatically expanding.\n",
      "  ax.imshow(img)\n",
      "/home/kumaraditya/scannetpp/common/render_crops_utils.py:185: UserWarning: Attempting to set identical low and high ylims makes transformation singular; automatically expanding.\n",
      "  ax.imshow(img)\n"
     ]
    },
    {
     "name": "stdout",
     "output_type": "stream",
     "text": [
      "Cleared contents of temporary directory /tmp/tmpehswpppo.\n",
      "Cleared all stored images, masks, scores, and padding information.\n"
     ]
    },
    {
     "name": "stderr",
     "output_type": "stream",
     "text": [
      "frame loading (JPEG): 100%|██████████| 4/4 [00:00<00:00, 41.19it/s]/it]\n",
      "/home/kumaraditya/segment-anything-2/sam2/sam2_video_predictor.py:873: UserWarning: cannot import name '_C' from 'sam2' (/home/kumaraditya/segment-anything-2/sam2/__init__.py)\n",
      "\n",
      "Skipping the post-processing step due to the error above. You can still use SAM 2 and it's OK to ignore the error above, although some post-processing functionality may be limited (which doesn't affect the results in most cases; see https://github.com/facebookresearch/segment-anything-2/blob/main/INSTALL.md).\n",
      "  pred_masks_gpu = fill_holes_in_mask_scores(\n",
      "propagate in video: 100%|██████████| 4/4 [00:01<00:00,  3.44it/s]\n"
     ]
    },
    {
     "name": "stdout",
     "output_type": "stream",
     "text": [
      "Cleared contents of temporary directory /tmp/tmpehswpppo.\n",
      "Cleared all stored images, masks, scores, and padding information.\n"
     ]
    },
    {
     "name": "stderr",
     "output_type": "stream",
     "text": [
      "frame loading (JPEG): 100%|██████████| 4/4 [00:00<00:00, 44.30it/s]/it]\n",
      "/home/kumaraditya/segment-anything-2/sam2/sam2_video_predictor.py:873: UserWarning: cannot import name '_C' from 'sam2' (/home/kumaraditya/segment-anything-2/sam2/__init__.py)\n",
      "\n",
      "Skipping the post-processing step due to the error above. You can still use SAM 2 and it's OK to ignore the error above, although some post-processing functionality may be limited (which doesn't affect the results in most cases; see https://github.com/facebookresearch/segment-anything-2/blob/main/INSTALL.md).\n",
      "  pred_masks_gpu = fill_holes_in_mask_scores(\n",
      "propagate in video: 100%|██████████| 4/4 [00:01<00:00,  3.42it/s]\n",
      "/home/kumaraditya/scannetpp/common/render_crops_utils.py:185: UserWarning: Attempting to set identical low and high xlims makes transformation singular; automatically expanding.\n",
      "  ax.imshow(img)\n",
      "/home/kumaraditya/scannetpp/common/render_crops_utils.py:185: UserWarning: Attempting to set identical low and high ylims makes transformation singular; automatically expanding.\n",
      "  ax.imshow(img)\n"
     ]
    },
    {
     "name": "stdout",
     "output_type": "stream",
     "text": [
      "Cleared contents of temporary directory /tmp/tmpehswpppo.\n",
      "Cleared all stored images, masks, scores, and padding information.\n"
     ]
    },
    {
     "name": "stderr",
     "output_type": "stream",
     "text": [
      "frame loading (JPEG): 100%|██████████| 4/4 [00:00<00:00, 38.67it/s]/it]\n",
      "/home/kumaraditya/segment-anything-2/sam2/sam2_video_predictor.py:873: UserWarning: cannot import name '_C' from 'sam2' (/home/kumaraditya/segment-anything-2/sam2/__init__.py)\n",
      "\n",
      "Skipping the post-processing step due to the error above. You can still use SAM 2 and it's OK to ignore the error above, although some post-processing functionality may be limited (which doesn't affect the results in most cases; see https://github.com/facebookresearch/segment-anything-2/blob/main/INSTALL.md).\n",
      "  pred_masks_gpu = fill_holes_in_mask_scores(\n",
      "propagate in video: 100%|██████████| 4/4 [00:01<00:00,  3.51it/s]\n"
     ]
    },
    {
     "name": "stdout",
     "output_type": "stream",
     "text": [
      "Cleared contents of temporary directory /tmp/tmpehswpppo.\n",
      "Cleared all stored images, masks, scores, and padding information.\n"
     ]
    },
    {
     "name": "stderr",
     "output_type": "stream",
     "text": [
      "frame loading (JPEG): 100%|██████████| 4/4 [00:00<00:00, 40.81it/s]/it]\n",
      "/home/kumaraditya/segment-anything-2/sam2/sam2_video_predictor.py:873: UserWarning: cannot import name '_C' from 'sam2' (/home/kumaraditya/segment-anything-2/sam2/__init__.py)\n",
      "\n",
      "Skipping the post-processing step due to the error above. You can still use SAM 2 and it's OK to ignore the error above, although some post-processing functionality may be limited (which doesn't affect the results in most cases; see https://github.com/facebookresearch/segment-anything-2/blob/main/INSTALL.md).\n",
      "  pred_masks_gpu = fill_holes_in_mask_scores(\n",
      "propagate in video: 100%|██████████| 4/4 [00:01<00:00,  3.42it/s]\n",
      "/home/kumaraditya/scannetpp/common/render_crops_utils.py:185: UserWarning: Attempting to set identical low and high xlims makes transformation singular; automatically expanding.\n",
      "  ax.imshow(img)\n",
      "/home/kumaraditya/scannetpp/common/render_crops_utils.py:185: UserWarning: Attempting to set identical low and high ylims makes transformation singular; automatically expanding.\n",
      "  ax.imshow(img)\n"
     ]
    },
    {
     "name": "stdout",
     "output_type": "stream",
     "text": [
      "Cleared contents of temporary directory /tmp/tmpehswpppo.\n",
      "Cleared all stored images, masks, scores, and padding information.\n"
     ]
    },
    {
     "name": "stderr",
     "output_type": "stream",
     "text": [
      "frame loading (JPEG): 100%|██████████| 4/4 [00:00<00:00, 36.43it/s]/it]\n",
      "/home/kumaraditya/segment-anything-2/sam2/sam2_video_predictor.py:873: UserWarning: cannot import name '_C' from 'sam2' (/home/kumaraditya/segment-anything-2/sam2/__init__.py)\n",
      "\n",
      "Skipping the post-processing step due to the error above. You can still use SAM 2 and it's OK to ignore the error above, although some post-processing functionality may be limited (which doesn't affect the results in most cases; see https://github.com/facebookresearch/segment-anything-2/blob/main/INSTALL.md).\n",
      "  pred_masks_gpu = fill_holes_in_mask_scores(\n",
      "propagate in video: 100%|██████████| 4/4 [00:01<00:00,  3.37it/s]\n",
      "/home/kumaraditya/scannetpp/common/render_crops_utils.py:185: UserWarning: Attempting to set identical low and high ylims makes transformation singular; automatically expanding.\n",
      "  ax.imshow(img)\n",
      "/home/kumaraditya/scannetpp/common/render_crops_utils.py:185: UserWarning: Attempting to set identical low and high xlims makes transformation singular; automatically expanding.\n",
      "  ax.imshow(img)\n"
     ]
    },
    {
     "name": "stdout",
     "output_type": "stream",
     "text": [
      "Cleared contents of temporary directory /tmp/tmpehswpppo.\n",
      "Cleared all stored images, masks, scores, and padding information.\n"
     ]
    },
    {
     "name": "stderr",
     "output_type": "stream",
     "text": [
      "frame loading (JPEG): 100%|██████████| 4/4 [00:00<00:00, 23.84it/s]/it]\n",
      "/home/kumaraditya/segment-anything-2/sam2/sam2_video_predictor.py:873: UserWarning: cannot import name '_C' from 'sam2' (/home/kumaraditya/segment-anything-2/sam2/__init__.py)\n",
      "\n",
      "Skipping the post-processing step due to the error above. You can still use SAM 2 and it's OK to ignore the error above, although some post-processing functionality may be limited (which doesn't affect the results in most cases; see https://github.com/facebookresearch/segment-anything-2/blob/main/INSTALL.md).\n",
      "  pred_masks_gpu = fill_holes_in_mask_scores(\n",
      "propagate in video: 100%|██████████| 4/4 [00:01<00:00,  3.39it/s]\n"
     ]
    },
    {
     "name": "stdout",
     "output_type": "stream",
     "text": [
      "Cleared contents of temporary directory /tmp/tmpehswpppo.\n",
      "Cleared all stored images, masks, scores, and padding information.\n"
     ]
    },
    {
     "name": "stderr",
     "output_type": "stream",
     "text": [
      "frame loading (JPEG): 100%|██████████| 4/4 [00:00<00:00, 41.76it/s]/it]\n",
      "/home/kumaraditya/segment-anything-2/sam2/sam2_video_predictor.py:873: UserWarning: cannot import name '_C' from 'sam2' (/home/kumaraditya/segment-anything-2/sam2/__init__.py)\n",
      "\n",
      "Skipping the post-processing step due to the error above. You can still use SAM 2 and it's OK to ignore the error above, although some post-processing functionality may be limited (which doesn't affect the results in most cases; see https://github.com/facebookresearch/segment-anything-2/blob/main/INSTALL.md).\n",
      "  pred_masks_gpu = fill_holes_in_mask_scores(\n",
      "propagate in video: 100%|██████████| 4/4 [00:01<00:00,  3.59it/s]\n",
      "/home/kumaraditya/scannetpp/common/render_crops_utils.py:185: UserWarning: Attempting to set identical low and high xlims makes transformation singular; automatically expanding.\n",
      "  ax.imshow(img)\n",
      "/home/kumaraditya/scannetpp/common/render_crops_utils.py:185: UserWarning: Attempting to set identical low and high ylims makes transformation singular; automatically expanding.\n",
      "  ax.imshow(img)\n"
     ]
    },
    {
     "name": "stdout",
     "output_type": "stream",
     "text": [
      "Cleared contents of temporary directory /tmp/tmpehswpppo.\n",
      "Cleared all stored images, masks, scores, and padding information.\n"
     ]
    },
    {
     "name": "stderr",
     "output_type": "stream",
     "text": [
      "frame loading (JPEG): 100%|██████████| 4/4 [00:00<00:00, 36.39it/s]/it]\n",
      "/home/kumaraditya/segment-anything-2/sam2/sam2_video_predictor.py:873: UserWarning: cannot import name '_C' from 'sam2' (/home/kumaraditya/segment-anything-2/sam2/__init__.py)\n",
      "\n",
      "Skipping the post-processing step due to the error above. You can still use SAM 2 and it's OK to ignore the error above, although some post-processing functionality may be limited (which doesn't affect the results in most cases; see https://github.com/facebookresearch/segment-anything-2/blob/main/INSTALL.md).\n",
      "  pred_masks_gpu = fill_holes_in_mask_scores(\n",
      "propagate in video: 100%|██████████| 4/4 [00:01<00:00,  3.45it/s]\n",
      "/home/kumaraditya/scannetpp/common/render_crops_utils.py:185: UserWarning: Attempting to set identical low and high xlims makes transformation singular; automatically expanding.\n",
      "  ax.imshow(img)\n",
      "/home/kumaraditya/scannetpp/common/render_crops_utils.py:185: UserWarning: Attempting to set identical low and high ylims makes transformation singular; automatically expanding.\n",
      "  ax.imshow(img)\n"
     ]
    },
    {
     "name": "stdout",
     "output_type": "stream",
     "text": [
      "Cleared contents of temporary directory /tmp/tmpehswpppo.\n",
      "Cleared all stored images, masks, scores, and padding information.\n"
     ]
    },
    {
     "name": "stderr",
     "output_type": "stream",
     "text": [
      "frame loading (JPEG): 100%|██████████| 4/4 [00:00<00:00, 38.70it/s]/it]\n",
      "/home/kumaraditya/segment-anything-2/sam2/sam2_video_predictor.py:873: UserWarning: cannot import name '_C' from 'sam2' (/home/kumaraditya/segment-anything-2/sam2/__init__.py)\n",
      "\n",
      "Skipping the post-processing step due to the error above. You can still use SAM 2 and it's OK to ignore the error above, although some post-processing functionality may be limited (which doesn't affect the results in most cases; see https://github.com/facebookresearch/segment-anything-2/blob/main/INSTALL.md).\n",
      "  pred_masks_gpu = fill_holes_in_mask_scores(\n",
      "propagate in video: 100%|██████████| 4/4 [00:01<00:00,  3.47it/s]\n"
     ]
    },
    {
     "name": "stdout",
     "output_type": "stream",
     "text": [
      "Cleared contents of temporary directory /tmp/tmpehswpppo.\n",
      "Cleared all stored images, masks, scores, and padding information.\n"
     ]
    },
    {
     "name": "stderr",
     "output_type": "stream",
     "text": [
      "frame loading (JPEG): 100%|██████████| 4/4 [00:00<00:00, 36.48it/s]/it]\n",
      "/home/kumaraditya/segment-anything-2/sam2/sam2_video_predictor.py:873: UserWarning: cannot import name '_C' from 'sam2' (/home/kumaraditya/segment-anything-2/sam2/__init__.py)\n",
      "\n",
      "Skipping the post-processing step due to the error above. You can still use SAM 2 and it's OK to ignore the error above, although some post-processing functionality may be limited (which doesn't affect the results in most cases; see https://github.com/facebookresearch/segment-anything-2/blob/main/INSTALL.md).\n",
      "  pred_masks_gpu = fill_holes_in_mask_scores(\n",
      "propagate in video: 100%|██████████| 4/4 [00:01<00:00,  3.54it/s]\n",
      "/home/kumaraditya/scannetpp/common/render_crops_utils.py:185: UserWarning: Attempting to set identical low and high xlims makes transformation singular; automatically expanding.\n",
      "  ax.imshow(img)\n",
      "/home/kumaraditya/scannetpp/common/render_crops_utils.py:185: UserWarning: Attempting to set identical low and high ylims makes transformation singular; automatically expanding.\n",
      "  ax.imshow(img)\n"
     ]
    },
    {
     "name": "stdout",
     "output_type": "stream",
     "text": [
      "Cleared contents of temporary directory /tmp/tmpehswpppo.\n",
      "Cleared all stored images, masks, scores, and padding information.\n"
     ]
    },
    {
     "name": "stderr",
     "output_type": "stream",
     "text": [
      "frame loading (JPEG): 100%|██████████| 4/4 [00:00<00:00, 40.67it/s]s/it]\n",
      "/home/kumaraditya/segment-anything-2/sam2/sam2_video_predictor.py:873: UserWarning: cannot import name '_C' from 'sam2' (/home/kumaraditya/segment-anything-2/sam2/__init__.py)\n",
      "\n",
      "Skipping the post-processing step due to the error above. You can still use SAM 2 and it's OK to ignore the error above, although some post-processing functionality may be limited (which doesn't affect the results in most cases; see https://github.com/facebookresearch/segment-anything-2/blob/main/INSTALL.md).\n",
      "  pred_masks_gpu = fill_holes_in_mask_scores(\n",
      "propagate in video: 100%|██████████| 4/4 [00:01<00:00,  3.48it/s]\n",
      "/home/kumaraditya/scannetpp/common/render_crops_utils.py:185: UserWarning: Attempting to set identical low and high xlims makes transformation singular; automatically expanding.\n",
      "  ax.imshow(img)\n",
      "/home/kumaraditya/scannetpp/common/render_crops_utils.py:185: UserWarning: Attempting to set identical low and high ylims makes transformation singular; automatically expanding.\n",
      "  ax.imshow(img)\n"
     ]
    },
    {
     "name": "stdout",
     "output_type": "stream",
     "text": [
      "Cleared contents of temporary directory /tmp/tmpehswpppo.\n",
      "Cleared all stored images, masks, scores, and padding information.\n"
     ]
    },
    {
     "name": "stderr",
     "output_type": "stream",
     "text": [
      "frame loading (JPEG): 100%|██████████| 4/4 [00:00<00:00, 38.28it/s]s/it]\n",
      "/home/kumaraditya/segment-anything-2/sam2/sam2_video_predictor.py:873: UserWarning: cannot import name '_C' from 'sam2' (/home/kumaraditya/segment-anything-2/sam2/__init__.py)\n",
      "\n",
      "Skipping the post-processing step due to the error above. You can still use SAM 2 and it's OK to ignore the error above, although some post-processing functionality may be limited (which doesn't affect the results in most cases; see https://github.com/facebookresearch/segment-anything-2/blob/main/INSTALL.md).\n",
      "  pred_masks_gpu = fill_holes_in_mask_scores(\n",
      "propagate in video: 100%|██████████| 4/4 [00:01<00:00,  3.42it/s]\n"
     ]
    },
    {
     "name": "stdout",
     "output_type": "stream",
     "text": [
      "Cleared contents of temporary directory /tmp/tmpehswpppo.\n",
      "Cleared all stored images, masks, scores, and padding information.\n"
     ]
    },
    {
     "name": "stderr",
     "output_type": "stream",
     "text": [
      "frame loading (JPEG): 100%|██████████| 4/4 [00:00<00:00, 37.44it/s]s/it]\n",
      "/home/kumaraditya/segment-anything-2/sam2/sam2_video_predictor.py:873: UserWarning: cannot import name '_C' from 'sam2' (/home/kumaraditya/segment-anything-2/sam2/__init__.py)\n",
      "\n",
      "Skipping the post-processing step due to the error above. You can still use SAM 2 and it's OK to ignore the error above, although some post-processing functionality may be limited (which doesn't affect the results in most cases; see https://github.com/facebookresearch/segment-anything-2/blob/main/INSTALL.md).\n",
      "  pred_masks_gpu = fill_holes_in_mask_scores(\n",
      "propagate in video: 100%|██████████| 4/4 [00:01<00:00,  3.58it/s]\n",
      "/home/kumaraditya/scannetpp/common/render_crops_utils.py:185: UserWarning: Attempting to set identical low and high xlims makes transformation singular; automatically expanding.\n",
      "  ax.imshow(img)\n",
      "/home/kumaraditya/scannetpp/common/render_crops_utils.py:185: UserWarning: Attempting to set identical low and high ylims makes transformation singular; automatically expanding.\n",
      "  ax.imshow(img)\n"
     ]
    },
    {
     "name": "stdout",
     "output_type": "stream",
     "text": [
      "Cleared contents of temporary directory /tmp/tmpehswpppo.\n",
      "Cleared all stored images, masks, scores, and padding information.\n"
     ]
    },
    {
     "name": "stderr",
     "output_type": "stream",
     "text": [
      "frame loading (JPEG): 100%|██████████| 4/4 [00:00<00:00, 40.33it/s]s/it]\n",
      "/home/kumaraditya/segment-anything-2/sam2/sam2_video_predictor.py:873: UserWarning: cannot import name '_C' from 'sam2' (/home/kumaraditya/segment-anything-2/sam2/__init__.py)\n",
      "\n",
      "Skipping the post-processing step due to the error above. You can still use SAM 2 and it's OK to ignore the error above, although some post-processing functionality may be limited (which doesn't affect the results in most cases; see https://github.com/facebookresearch/segment-anything-2/blob/main/INSTALL.md).\n",
      "  pred_masks_gpu = fill_holes_in_mask_scores(\n",
      "propagate in video: 100%|██████████| 4/4 [00:01<00:00,  3.41it/s]\n",
      "/home/kumaraditya/scannetpp/common/render_crops_utils.py:185: UserWarning: Attempting to set identical low and high xlims makes transformation singular; automatically expanding.\n",
      "  ax.imshow(img)\n",
      "/home/kumaraditya/scannetpp/common/render_crops_utils.py:185: UserWarning: Attempting to set identical low and high ylims makes transformation singular; automatically expanding.\n",
      "  ax.imshow(img)\n"
     ]
    },
    {
     "name": "stdout",
     "output_type": "stream",
     "text": [
      "Cleared contents of temporary directory /tmp/tmpehswpppo.\n",
      "Cleared all stored images, masks, scores, and padding information.\n"
     ]
    },
    {
     "name": "stderr",
     "output_type": "stream",
     "text": [
      "frame loading (JPEG): 100%|██████████| 4/4 [00:00<00:00, 38.06it/s]s/it]\n",
      "/home/kumaraditya/segment-anything-2/sam2/sam2_video_predictor.py:873: UserWarning: cannot import name '_C' from 'sam2' (/home/kumaraditya/segment-anything-2/sam2/__init__.py)\n",
      "\n",
      "Skipping the post-processing step due to the error above. You can still use SAM 2 and it's OK to ignore the error above, although some post-processing functionality may be limited (which doesn't affect the results in most cases; see https://github.com/facebookresearch/segment-anything-2/blob/main/INSTALL.md).\n",
      "  pred_masks_gpu = fill_holes_in_mask_scores(\n",
      "propagate in video: 100%|██████████| 4/4 [00:01<00:00,  3.45it/s]\n",
      "/home/kumaraditya/scannetpp/common/render_crops_utils.py:185: UserWarning: Attempting to set identical low and high ylims makes transformation singular; automatically expanding.\n",
      "  ax.imshow(img)\n"
     ]
    },
    {
     "name": "stdout",
     "output_type": "stream",
     "text": [
      "Cleared contents of temporary directory /tmp/tmpehswpppo.\n",
      "Cleared all stored images, masks, scores, and padding information.\n"
     ]
    },
    {
     "name": "stderr",
     "output_type": "stream",
     "text": [
      "frame loading (JPEG): 100%|██████████| 4/4 [00:00<00:00, 35.25it/s]s/it]\n",
      "/home/kumaraditya/segment-anything-2/sam2/sam2_video_predictor.py:873: UserWarning: cannot import name '_C' from 'sam2' (/home/kumaraditya/segment-anything-2/sam2/__init__.py)\n",
      "\n",
      "Skipping the post-processing step due to the error above. You can still use SAM 2 and it's OK to ignore the error above, although some post-processing functionality may be limited (which doesn't affect the results in most cases; see https://github.com/facebookresearch/segment-anything-2/blob/main/INSTALL.md).\n",
      "  pred_masks_gpu = fill_holes_in_mask_scores(\n",
      "propagate in video: 100%|██████████| 4/4 [00:01<00:00,  3.43it/s]\n"
     ]
    },
    {
     "name": "stdout",
     "output_type": "stream",
     "text": [
      "Cleared contents of temporary directory /tmp/tmpehswpppo.\n",
      "Cleared all stored images, masks, scores, and padding information.\n"
     ]
    },
    {
     "name": "stderr",
     "output_type": "stream",
     "text": [
      "frame loading (JPEG): 100%|██████████| 4/4 [00:00<00:00, 43.91it/s]s/it]\n",
      "/home/kumaraditya/segment-anything-2/sam2/sam2_video_predictor.py:873: UserWarning: cannot import name '_C' from 'sam2' (/home/kumaraditya/segment-anything-2/sam2/__init__.py)\n",
      "\n",
      "Skipping the post-processing step due to the error above. You can still use SAM 2 and it's OK to ignore the error above, although some post-processing functionality may be limited (which doesn't affect the results in most cases; see https://github.com/facebookresearch/segment-anything-2/blob/main/INSTALL.md).\n",
      "  pred_masks_gpu = fill_holes_in_mask_scores(\n",
      "propagate in video: 100%|██████████| 4/4 [00:01<00:00,  3.47it/s]\n",
      "/home/kumaraditya/scannetpp/common/render_crops_utils.py:185: UserWarning: Attempting to set identical low and high xlims makes transformation singular; automatically expanding.\n",
      "  ax.imshow(img)\n",
      "/home/kumaraditya/scannetpp/common/render_crops_utils.py:185: UserWarning: Attempting to set identical low and high ylims makes transformation singular; automatically expanding.\n",
      "  ax.imshow(img)\n"
     ]
    },
    {
     "name": "stdout",
     "output_type": "stream",
     "text": [
      "Cleared contents of temporary directory /tmp/tmpehswpppo.\n",
      "Cleared all stored images, masks, scores, and padding information.\n"
     ]
    },
    {
     "name": "stderr",
     "output_type": "stream",
     "text": [
      "frame loading (JPEG): 100%|██████████| 4/4 [00:00<00:00, 42.03it/s]it/s]\n",
      "/home/kumaraditya/segment-anything-2/sam2/sam2_video_predictor.py:873: UserWarning: cannot import name '_C' from 'sam2' (/home/kumaraditya/segment-anything-2/sam2/__init__.py)\n",
      "\n",
      "Skipping the post-processing step due to the error above. You can still use SAM 2 and it's OK to ignore the error above, although some post-processing functionality may be limited (which doesn't affect the results in most cases; see https://github.com/facebookresearch/segment-anything-2/blob/main/INSTALL.md).\n",
      "  pred_masks_gpu = fill_holes_in_mask_scores(\n",
      "propagate in video: 100%|██████████| 4/4 [00:01<00:00,  3.39it/s]\n"
     ]
    },
    {
     "name": "stdout",
     "output_type": "stream",
     "text": [
      "Cleared contents of temporary directory /tmp/tmpehswpppo.\n",
      "Cleared all stored images, masks, scores, and padding information.\n"
     ]
    },
    {
     "name": "stderr",
     "output_type": "stream",
     "text": [
      "frame loading (JPEG): 100%|██████████| 4/4 [00:00<00:00, 40.24it/s]s/it]\n",
      "/home/kumaraditya/segment-anything-2/sam2/sam2_video_predictor.py:873: UserWarning: cannot import name '_C' from 'sam2' (/home/kumaraditya/segment-anything-2/sam2/__init__.py)\n",
      "\n",
      "Skipping the post-processing step due to the error above. You can still use SAM 2 and it's OK to ignore the error above, although some post-processing functionality may be limited (which doesn't affect the results in most cases; see https://github.com/facebookresearch/segment-anything-2/blob/main/INSTALL.md).\n",
      "  pred_masks_gpu = fill_holes_in_mask_scores(\n",
      "propagate in video: 100%|██████████| 4/4 [00:01<00:00,  3.47it/s]\n",
      "/home/kumaraditya/scannetpp/common/render_crops_utils.py:185: UserWarning: Attempting to set identical low and high ylims makes transformation singular; automatically expanding.\n",
      "  ax.imshow(img)\n",
      "/home/kumaraditya/scannetpp/common/render_crops_utils.py:185: UserWarning: Attempting to set identical low and high xlims makes transformation singular; automatically expanding.\n",
      "  ax.imshow(img)\n"
     ]
    },
    {
     "name": "stdout",
     "output_type": "stream",
     "text": [
      "Cleared contents of temporary directory /tmp/tmpehswpppo.\n",
      "Cleared all stored images, masks, scores, and padding information.\n"
     ]
    },
    {
     "name": "stderr",
     "output_type": "stream",
     "text": [
      "frame loading (JPEG): 100%|██████████| 4/4 [00:00<00:00, 35.64it/s]s/it]\n",
      "/home/kumaraditya/segment-anything-2/sam2/sam2_video_predictor.py:873: UserWarning: cannot import name '_C' from 'sam2' (/home/kumaraditya/segment-anything-2/sam2/__init__.py)\n",
      "\n",
      "Skipping the post-processing step due to the error above. You can still use SAM 2 and it's OK to ignore the error above, although some post-processing functionality may be limited (which doesn't affect the results in most cases; see https://github.com/facebookresearch/segment-anything-2/blob/main/INSTALL.md).\n",
      "  pred_masks_gpu = fill_holes_in_mask_scores(\n",
      "propagate in video: 100%|██████████| 4/4 [00:01<00:00,  3.49it/s]\n"
     ]
    },
    {
     "name": "stdout",
     "output_type": "stream",
     "text": [
      "Cleared contents of temporary directory /tmp/tmpehswpppo.\n",
      "Cleared all stored images, masks, scores, and padding information.\n"
     ]
    },
    {
     "name": "stderr",
     "output_type": "stream",
     "text": [
      "frame loading (JPEG): 100%|██████████| 4/4 [00:00<00:00, 42.26it/s]s/it]\n",
      "/home/kumaraditya/segment-anything-2/sam2/sam2_video_predictor.py:873: UserWarning: cannot import name '_C' from 'sam2' (/home/kumaraditya/segment-anything-2/sam2/__init__.py)\n",
      "\n",
      "Skipping the post-processing step due to the error above. You can still use SAM 2 and it's OK to ignore the error above, although some post-processing functionality may be limited (which doesn't affect the results in most cases; see https://github.com/facebookresearch/segment-anything-2/blob/main/INSTALL.md).\n",
      "  pred_masks_gpu = fill_holes_in_mask_scores(\n",
      "propagate in video: 100%|██████████| 4/4 [00:01<00:00,  3.45it/s]\n",
      "/home/kumaraditya/scannetpp/common/render_crops_utils.py:185: UserWarning: Attempting to set identical low and high ylims makes transformation singular; automatically expanding.\n",
      "  ax.imshow(img)\n",
      "/home/kumaraditya/scannetpp/common/render_crops_utils.py:185: UserWarning: Attempting to set identical low and high xlims makes transformation singular; automatically expanding.\n",
      "  ax.imshow(img)\n"
     ]
    },
    {
     "name": "stdout",
     "output_type": "stream",
     "text": [
      "Cleared contents of temporary directory /tmp/tmpehswpppo.\n",
      "Cleared all stored images, masks, scores, and padding information.\n"
     ]
    },
    {
     "name": "stderr",
     "output_type": "stream",
     "text": [
      "frame loading (JPEG): 100%|██████████| 4/4 [00:00<00:00, 41.70it/s]s/it]\n",
      "/home/kumaraditya/segment-anything-2/sam2/sam2_video_predictor.py:873: UserWarning: cannot import name '_C' from 'sam2' (/home/kumaraditya/segment-anything-2/sam2/__init__.py)\n",
      "\n",
      "Skipping the post-processing step due to the error above. You can still use SAM 2 and it's OK to ignore the error above, although some post-processing functionality may be limited (which doesn't affect the results in most cases; see https://github.com/facebookresearch/segment-anything-2/blob/main/INSTALL.md).\n",
      "  pred_masks_gpu = fill_holes_in_mask_scores(\n",
      "propagate in video: 100%|██████████| 4/4 [00:01<00:00,  3.40it/s]\n",
      "/home/kumaraditya/scannetpp/common/render_crops_utils.py:185: UserWarning: Attempting to set identical low and high ylims makes transformation singular; automatically expanding.\n",
      "  ax.imshow(img)\n",
      "/home/kumaraditya/scannetpp/common/render_crops_utils.py:185: UserWarning: Attempting to set identical low and high xlims makes transformation singular; automatically expanding.\n",
      "  ax.imshow(img)\n"
     ]
    },
    {
     "name": "stdout",
     "output_type": "stream",
     "text": [
      "Cleared contents of temporary directory /tmp/tmpehswpppo.\n",
      "Cleared all stored images, masks, scores, and padding information.\n"
     ]
    },
    {
     "name": "stderr",
     "output_type": "stream",
     "text": [
      "frame loading (JPEG): 100%|██████████| 4/4 [00:00<00:00, 37.66it/s]s/it]\n",
      "/home/kumaraditya/segment-anything-2/sam2/sam2_video_predictor.py:873: UserWarning: cannot import name '_C' from 'sam2' (/home/kumaraditya/segment-anything-2/sam2/__init__.py)\n",
      "\n",
      "Skipping the post-processing step due to the error above. You can still use SAM 2 and it's OK to ignore the error above, although some post-processing functionality may be limited (which doesn't affect the results in most cases; see https://github.com/facebookresearch/segment-anything-2/blob/main/INSTALL.md).\n",
      "  pred_masks_gpu = fill_holes_in_mask_scores(\n",
      "propagate in video: 100%|██████████| 4/4 [00:01<00:00,  3.57it/s]\n",
      "/home/kumaraditya/scannetpp/common/render_crops_utils.py:185: UserWarning: Attempting to set identical low and high xlims makes transformation singular; automatically expanding.\n",
      "  ax.imshow(img)\n",
      "/home/kumaraditya/scannetpp/common/render_crops_utils.py:185: UserWarning: Attempting to set identical low and high ylims makes transformation singular; automatically expanding.\n",
      "  ax.imshow(img)\n"
     ]
    },
    {
     "name": "stdout",
     "output_type": "stream",
     "text": [
      "Cleared contents of temporary directory /tmp/tmpehswpppo.\n",
      "Cleared all stored images, masks, scores, and padding information.\n"
     ]
    },
    {
     "name": "stderr",
     "output_type": "stream",
     "text": [
      "frame loading (JPEG): 100%|██████████| 4/4 [00:00<00:00, 42.77it/s]s/it]\n",
      "/home/kumaraditya/segment-anything-2/sam2/sam2_video_predictor.py:873: UserWarning: cannot import name '_C' from 'sam2' (/home/kumaraditya/segment-anything-2/sam2/__init__.py)\n",
      "\n",
      "Skipping the post-processing step due to the error above. You can still use SAM 2 and it's OK to ignore the error above, although some post-processing functionality may be limited (which doesn't affect the results in most cases; see https://github.com/facebookresearch/segment-anything-2/blob/main/INSTALL.md).\n",
      "  pred_masks_gpu = fill_holes_in_mask_scores(\n",
      "propagate in video: 100%|██████████| 4/4 [00:01<00:00,  3.38it/s]\n",
      "/home/kumaraditya/scannetpp/common/render_crops_utils.py:185: UserWarning: Attempting to set identical low and high xlims makes transformation singular; automatically expanding.\n",
      "  ax.imshow(img)\n",
      "/home/kumaraditya/scannetpp/common/render_crops_utils.py:185: UserWarning: Attempting to set identical low and high ylims makes transformation singular; automatically expanding.\n",
      "  ax.imshow(img)\n",
      "Rendering image grids:  89%|████████▉ | 120/135 [03:22<00:18,  1.24s/it]"
     ]
    },
    {
     "name": "stdout",
     "output_type": "stream",
     "text": [
      "Cleared contents of temporary directory /tmp/tmpehswpppo.\n",
      "Cleared all stored images, masks, scores, and padding information.\n"
     ]
    },
    {
     "name": "stderr",
     "output_type": "stream",
     "text": [
      "frame loading (JPEG): 100%|██████████| 4/4 [00:00<00:00, 43.36it/s]\n",
      "/home/kumaraditya/segment-anything-2/sam2/sam2_video_predictor.py:873: UserWarning: cannot import name '_C' from 'sam2' (/home/kumaraditya/segment-anything-2/sam2/__init__.py)\n",
      "\n",
      "Skipping the post-processing step due to the error above. You can still use SAM 2 and it's OK to ignore the error above, although some post-processing functionality may be limited (which doesn't affect the results in most cases; see https://github.com/facebookresearch/segment-anything-2/blob/main/INSTALL.md).\n",
      "  pred_masks_gpu = fill_holes_in_mask_scores(\n",
      "propagate in video: 100%|██████████| 4/4 [00:01<00:00,  3.39it/s]\n",
      "/home/kumaraditya/scannetpp/common/render_crops_utils.py:185: UserWarning: Attempting to set identical low and high xlims makes transformation singular; automatically expanding.\n",
      "  ax.imshow(img)\n",
      "/home/kumaraditya/scannetpp/common/render_crops_utils.py:185: UserWarning: Attempting to set identical low and high ylims makes transformation singular; automatically expanding.\n",
      "  ax.imshow(img)\n",
      "Rendering image grids:  90%|████████▉ | 121/135 [03:23<00:19,  1.38s/it]"
     ]
    },
    {
     "name": "stdout",
     "output_type": "stream",
     "text": [
      "Cleared contents of temporary directory /tmp/tmpehswpppo.\n",
      "Cleared all stored images, masks, scores, and padding information.\n"
     ]
    },
    {
     "name": "stderr",
     "output_type": "stream",
     "text": [
      "frame loading (JPEG): 100%|██████████| 4/4 [00:00<00:00, 44.60it/s]\n",
      "/home/kumaraditya/segment-anything-2/sam2/sam2_video_predictor.py:873: UserWarning: cannot import name '_C' from 'sam2' (/home/kumaraditya/segment-anything-2/sam2/__init__.py)\n",
      "\n",
      "Skipping the post-processing step due to the error above. You can still use SAM 2 and it's OK to ignore the error above, although some post-processing functionality may be limited (which doesn't affect the results in most cases; see https://github.com/facebookresearch/segment-anything-2/blob/main/INSTALL.md).\n",
      "  pred_masks_gpu = fill_holes_in_mask_scores(\n",
      "propagate in video: 100%|██████████| 4/4 [00:01<00:00,  3.39it/s]\n"
     ]
    },
    {
     "name": "stdout",
     "output_type": "stream",
     "text": [
      "Cleared contents of temporary directory /tmp/tmpehswpppo.\n",
      "Cleared all stored images, masks, scores, and padding information.\n"
     ]
    },
    {
     "name": "stderr",
     "output_type": "stream",
     "text": [
      "frame loading (JPEG): 100%|██████████| 4/4 [00:00<00:00, 44.09it/s]s/it]\n",
      "/home/kumaraditya/segment-anything-2/sam2/sam2_video_predictor.py:873: UserWarning: cannot import name '_C' from 'sam2' (/home/kumaraditya/segment-anything-2/sam2/__init__.py)\n",
      "\n",
      "Skipping the post-processing step due to the error above. You can still use SAM 2 and it's OK to ignore the error above, although some post-processing functionality may be limited (which doesn't affect the results in most cases; see https://github.com/facebookresearch/segment-anything-2/blob/main/INSTALL.md).\n",
      "  pred_masks_gpu = fill_holes_in_mask_scores(\n",
      "propagate in video: 100%|██████████| 4/4 [00:01<00:00,  3.39it/s]\n"
     ]
    },
    {
     "name": "stdout",
     "output_type": "stream",
     "text": [
      "Cleared contents of temporary directory /tmp/tmpehswpppo.\n",
      "Cleared all stored images, masks, scores, and padding information.\n"
     ]
    },
    {
     "name": "stderr",
     "output_type": "stream",
     "text": [
      "frame loading (JPEG): 100%|██████████| 4/4 [00:00<00:00, 24.23it/s]s/it]\n",
      "/home/kumaraditya/segment-anything-2/sam2/sam2_video_predictor.py:873: UserWarning: cannot import name '_C' from 'sam2' (/home/kumaraditya/segment-anything-2/sam2/__init__.py)\n",
      "\n",
      "Skipping the post-processing step due to the error above. You can still use SAM 2 and it's OK to ignore the error above, although some post-processing functionality may be limited (which doesn't affect the results in most cases; see https://github.com/facebookresearch/segment-anything-2/blob/main/INSTALL.md).\n",
      "  pred_masks_gpu = fill_holes_in_mask_scores(\n",
      "propagate in video: 100%|██████████| 4/4 [00:01<00:00,  3.40it/s]\n",
      "/home/kumaraditya/scannetpp/common/render_crops_utils.py:185: UserWarning: Attempting to set identical low and high ylims makes transformation singular; automatically expanding.\n",
      "  ax.imshow(img)\n",
      "/home/kumaraditya/scannetpp/common/render_crops_utils.py:185: UserWarning: Attempting to set identical low and high xlims makes transformation singular; automatically expanding.\n",
      "  ax.imshow(img)\n"
     ]
    },
    {
     "name": "stdout",
     "output_type": "stream",
     "text": [
      "Cleared contents of temporary directory /tmp/tmpehswpppo.\n",
      "Cleared all stored images, masks, scores, and padding information.\n"
     ]
    },
    {
     "name": "stderr",
     "output_type": "stream",
     "text": [
      "frame loading (JPEG): 100%|██████████| 4/4 [00:00<00:00, 42.93it/s]s/it]\n",
      "/home/kumaraditya/segment-anything-2/sam2/sam2_video_predictor.py:873: UserWarning: cannot import name '_C' from 'sam2' (/home/kumaraditya/segment-anything-2/sam2/__init__.py)\n",
      "\n",
      "Skipping the post-processing step due to the error above. You can still use SAM 2 and it's OK to ignore the error above, although some post-processing functionality may be limited (which doesn't affect the results in most cases; see https://github.com/facebookresearch/segment-anything-2/blob/main/INSTALL.md).\n",
      "  pred_masks_gpu = fill_holes_in_mask_scores(\n",
      "propagate in video: 100%|██████████| 4/4 [00:01<00:00,  3.43it/s]\n",
      "/home/kumaraditya/scannetpp/common/render_crops_utils.py:185: UserWarning: Attempting to set identical low and high ylims makes transformation singular; automatically expanding.\n",
      "  ax.imshow(img)\n",
      "/home/kumaraditya/scannetpp/common/render_crops_utils.py:185: UserWarning: Attempting to set identical low and high xlims makes transformation singular; automatically expanding.\n",
      "  ax.imshow(img)\n",
      "Rendering image grids:  94%|█████████▍| 127/135 [03:31<00:10,  1.34s/it]"
     ]
    },
    {
     "name": "stdout",
     "output_type": "stream",
     "text": [
      "Cleared contents of temporary directory /tmp/tmpehswpppo.\n",
      "Cleared all stored images, masks, scores, and padding information.\n"
     ]
    },
    {
     "name": "stderr",
     "output_type": "stream",
     "text": [
      "frame loading (JPEG): 100%|██████████| 4/4 [00:00<00:00, 40.10it/s]\n",
      "/home/kumaraditya/segment-anything-2/sam2/sam2_video_predictor.py:873: UserWarning: cannot import name '_C' from 'sam2' (/home/kumaraditya/segment-anything-2/sam2/__init__.py)\n",
      "\n",
      "Skipping the post-processing step due to the error above. You can still use SAM 2 and it's OK to ignore the error above, although some post-processing functionality may be limited (which doesn't affect the results in most cases; see https://github.com/facebookresearch/segment-anything-2/blob/main/INSTALL.md).\n",
      "  pred_masks_gpu = fill_holes_in_mask_scores(\n",
      "propagate in video: 100%|██████████| 4/4 [00:01<00:00,  3.44it/s]\n",
      "/home/kumaraditya/scannetpp/common/render_crops_utils.py:185: UserWarning: Attempting to set identical low and high ylims makes transformation singular; automatically expanding.\n",
      "  ax.imshow(img)\n",
      "/home/kumaraditya/scannetpp/common/render_crops_utils.py:185: UserWarning: Attempting to set identical low and high xlims makes transformation singular; automatically expanding.\n",
      "  ax.imshow(img)\n"
     ]
    },
    {
     "name": "stdout",
     "output_type": "stream",
     "text": [
      "Cleared contents of temporary directory /tmp/tmpehswpppo.\n",
      "Cleared all stored images, masks, scores, and padding information.\n"
     ]
    },
    {
     "name": "stderr",
     "output_type": "stream",
     "text": [
      "frame loading (JPEG): 100%|██████████| 4/4 [00:00<00:00, 42.51it/s]s/it]\n",
      "/home/kumaraditya/segment-anything-2/sam2/sam2_video_predictor.py:873: UserWarning: cannot import name '_C' from 'sam2' (/home/kumaraditya/segment-anything-2/sam2/__init__.py)\n",
      "\n",
      "Skipping the post-processing step due to the error above. You can still use SAM 2 and it's OK to ignore the error above, although some post-processing functionality may be limited (which doesn't affect the results in most cases; see https://github.com/facebookresearch/segment-anything-2/blob/main/INSTALL.md).\n",
      "  pred_masks_gpu = fill_holes_in_mask_scores(\n",
      "propagate in video: 100%|██████████| 4/4 [00:01<00:00,  3.42it/s]\n",
      "/home/kumaraditya/scannetpp/common/render_crops_utils.py:185: UserWarning: Attempting to set identical low and high ylims makes transformation singular; automatically expanding.\n",
      "  ax.imshow(img)\n",
      "/home/kumaraditya/scannetpp/common/render_crops_utils.py:185: UserWarning: Attempting to set identical low and high xlims makes transformation singular; automatically expanding.\n",
      "  ax.imshow(img)\n"
     ]
    },
    {
     "name": "stdout",
     "output_type": "stream",
     "text": [
      "Cleared contents of temporary directory /tmp/tmpehswpppo.\n",
      "Cleared all stored images, masks, scores, and padding information.\n"
     ]
    },
    {
     "name": "stderr",
     "output_type": "stream",
     "text": [
      "frame loading (JPEG): 100%|██████████| 4/4 [00:00<00:00, 41.27it/s]s/it]\n",
      "/home/kumaraditya/segment-anything-2/sam2/sam2_video_predictor.py:873: UserWarning: cannot import name '_C' from 'sam2' (/home/kumaraditya/segment-anything-2/sam2/__init__.py)\n",
      "\n",
      "Skipping the post-processing step due to the error above. You can still use SAM 2 and it's OK to ignore the error above, although some post-processing functionality may be limited (which doesn't affect the results in most cases; see https://github.com/facebookresearch/segment-anything-2/blob/main/INSTALL.md).\n",
      "  pred_masks_gpu = fill_holes_in_mask_scores(\n",
      "propagate in video: 100%|██████████| 4/4 [00:01<00:00,  3.44it/s]\n"
     ]
    },
    {
     "name": "stdout",
     "output_type": "stream",
     "text": [
      "Cleared contents of temporary directory /tmp/tmpehswpppo.\n",
      "Cleared all stored images, masks, scores, and padding information.\n"
     ]
    },
    {
     "name": "stderr",
     "output_type": "stream",
     "text": [
      "/home/kumaraditya/scannetpp/common/render_crops_utils.py:185: UserWarning: Attempting to set identical low and high ylims makes transformation singular; automatically expanding.\n",
      "  ax.imshow(img)\n",
      "/home/kumaraditya/scannetpp/common/render_crops_utils.py:185: UserWarning: Attempting to set identical low and high xlims makes transformation singular; automatically expanding.\n",
      "  ax.imshow(img)\n",
      "frame loading (JPEG): 100%|██████████| 4/4 [00:00<00:00, 41.08it/s]s/it]\n",
      "/home/kumaraditya/segment-anything-2/sam2/sam2_video_predictor.py:873: UserWarning: cannot import name '_C' from 'sam2' (/home/kumaraditya/segment-anything-2/sam2/__init__.py)\n",
      "\n",
      "Skipping the post-processing step due to the error above. You can still use SAM 2 and it's OK to ignore the error above, although some post-processing functionality may be limited (which doesn't affect the results in most cases; see https://github.com/facebookresearch/segment-anything-2/blob/main/INSTALL.md).\n",
      "  pred_masks_gpu = fill_holes_in_mask_scores(\n",
      "propagate in video: 100%|██████████| 4/4 [00:01<00:00,  3.43it/s]\n",
      "/home/kumaraditya/scannetpp/common/render_crops_utils.py:185: UserWarning: Attempting to set identical low and high xlims makes transformation singular; automatically expanding.\n",
      "  ax.imshow(img)\n",
      "/home/kumaraditya/scannetpp/common/render_crops_utils.py:185: UserWarning: Attempting to set identical low and high ylims makes transformation singular; automatically expanding.\n",
      "  ax.imshow(img)\n"
     ]
    },
    {
     "name": "stdout",
     "output_type": "stream",
     "text": [
      "Cleared contents of temporary directory /tmp/tmpehswpppo.\n",
      "Cleared all stored images, masks, scores, and padding information.\n"
     ]
    },
    {
     "name": "stderr",
     "output_type": "stream",
     "text": [
      "frame loading (JPEG): 100%|██████████| 4/4 [00:00<00:00, 25.33it/s]s/it]\n",
      "/home/kumaraditya/segment-anything-2/sam2/sam2_video_predictor.py:873: UserWarning: cannot import name '_C' from 'sam2' (/home/kumaraditya/segment-anything-2/sam2/__init__.py)\n",
      "\n",
      "Skipping the post-processing step due to the error above. You can still use SAM 2 and it's OK to ignore the error above, although some post-processing functionality may be limited (which doesn't affect the results in most cases; see https://github.com/facebookresearch/segment-anything-2/blob/main/INSTALL.md).\n",
      "  pred_masks_gpu = fill_holes_in_mask_scores(\n",
      "propagate in video: 100%|██████████| 4/4 [00:01<00:00,  3.39it/s]\n"
     ]
    },
    {
     "name": "stdout",
     "output_type": "stream",
     "text": [
      "Cleared contents of temporary directory /tmp/tmpehswpppo.\n",
      "Cleared all stored images, masks, scores, and padding information.\n"
     ]
    },
    {
     "name": "stderr",
     "output_type": "stream",
     "text": [
      "frame loading (JPEG): 100%|██████████| 4/4 [00:00<00:00, 33.42it/s]s/it]\n",
      "/home/kumaraditya/segment-anything-2/sam2/sam2_video_predictor.py:873: UserWarning: cannot import name '_C' from 'sam2' (/home/kumaraditya/segment-anything-2/sam2/__init__.py)\n",
      "\n",
      "Skipping the post-processing step due to the error above. You can still use SAM 2 and it's OK to ignore the error above, although some post-processing functionality may be limited (which doesn't affect the results in most cases; see https://github.com/facebookresearch/segment-anything-2/blob/main/INSTALL.md).\n",
      "  pred_masks_gpu = fill_holes_in_mask_scores(\n",
      "propagate in video: 100%|██████████| 4/4 [00:01<00:00,  3.42it/s]\n",
      "/home/kumaraditya/scannetpp/common/render_crops_utils.py:185: UserWarning: Attempting to set identical low and high ylims makes transformation singular; automatically expanding.\n",
      "  ax.imshow(img)\n",
      "/home/kumaraditya/scannetpp/common/render_crops_utils.py:185: UserWarning: Attempting to set identical low and high xlims makes transformation singular; automatically expanding.\n",
      "  ax.imshow(img)\n"
     ]
    },
    {
     "name": "stdout",
     "output_type": "stream",
     "text": [
      "Cleared contents of temporary directory /tmp/tmpehswpppo.\n",
      "Cleared all stored images, masks, scores, and padding information.\n"
     ]
    },
    {
     "name": "stderr",
     "output_type": "stream",
     "text": [
      "frame loading (JPEG): 100%|██████████| 4/4 [00:00<00:00, 28.91it/s]s/it]\n",
      "/home/kumaraditya/segment-anything-2/sam2/sam2_video_predictor.py:873: UserWarning: cannot import name '_C' from 'sam2' (/home/kumaraditya/segment-anything-2/sam2/__init__.py)\n",
      "\n",
      "Skipping the post-processing step due to the error above. You can still use SAM 2 and it's OK to ignore the error above, although some post-processing functionality may be limited (which doesn't affect the results in most cases; see https://github.com/facebookresearch/segment-anything-2/blob/main/INSTALL.md).\n",
      "  pred_masks_gpu = fill_holes_in_mask_scores(\n",
      "propagate in video: 100%|██████████| 4/4 [00:01<00:00,  3.57it/s]\n"
     ]
    },
    {
     "name": "stdout",
     "output_type": "stream",
     "text": [
      "Cleared contents of temporary directory /tmp/tmpehswpppo.\n",
      "Cleared all stored images, masks, scores, and padding information.\n"
     ]
    },
    {
     "name": "stderr",
     "output_type": "stream",
     "text": [
      "Rendering image grids: 100%|██████████| 135/135 [03:46<00:00,  1.68s/it]\n"
     ]
    }
   ],
   "source": [
    "for id, entry in tqdm(crop_heaps.items(), f\"Rendering image grids\"):\n",
    "    heap = entry[\"heap\"]\n",
    "    label = entry[\"label\"]\n",
    "    if len(heap) and label.lower() not in [\n",
    "        \"background\",\n",
    "        \"wall\",\n",
    "        \"floor\",\n",
    "        \"ceiling\",\n",
    "        \"split\",\n",
    "        \"remove\",\n",
    "    ]:\n",
    "        crops = heap.get_sorted()\n",
    "        rgbs = [c.rgb for c in crops]\n",
    "        masks = [c.mask for c in crops]\n",
    "        scores = [c.score for c in crops]\n",
    "\n",
    "        sam2_model.pad_and_store(rgbs, masks, scores)\n",
    "        sam2_model.set_state_and_refine_masks()\n",
    "        sam2_model.unpad_masks_to_original_size()\n",
    "        masks = sam2_model.refined_masks\n",
    "        sam2_model.cleanup()\n",
    "        \n",
    "        plot_grid_images(\n",
    "            rgbs + masks, grid_width=len(rgbs), title=entry[\"label\"]\n",
    "        )\n",
    "        plt.savefig(crop_dir / f\"{str(id).zfill(5)}.jpg\")\n",
    "        plt.close()"
   ]
  }
 ],
 "metadata": {
  "kernelspec": {
   "display_name": "scannetpp",
   "language": "python",
   "name": "python3"
  },
  "language_info": {
   "codemirror_mode": {
    "name": "ipython",
    "version": 3
   },
   "file_extension": ".py",
   "mimetype": "text/x-python",
   "name": "python",
   "nbconvert_exporter": "python",
   "pygments_lexer": "ipython3",
   "version": "3.10.14"
  }
 },
 "nbformat": 4,
 "nbformat_minor": 2
}
